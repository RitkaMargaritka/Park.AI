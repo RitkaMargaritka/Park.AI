{
 "cells": [
  {
   "cell_type": "code",
   "execution_count": 1,
   "metadata": {},
   "outputs": [],
   "source": [
    "import cv2\n",
    "import matplotlib.pyplot as plt\n",
    "import xml.etree.ElementTree as ET\n",
    "from PIL import Image\n",
    "import os\n",
    "import shutil\n",
    "import numpy as np\n",
    "import pandas as pd\n",
    "import random\n",
    "import glob\n",
    "import csv"
   ]
  },
  {
   "cell_type": "code",
   "execution_count": 15,
   "metadata": {},
   "outputs": [],
   "source": [
    "# Define this path as you like\n",
    "# This probably would change according to the folder where you are going to save the data\n",
    "destination_folder = '../data/CNR-Park_EXT_yolov8-2/train/'  \n",
    "\n",
    "# Data paths\n",
    "source_dataset_path = '../data/CNR-Park_EXT_yolov8-2/train/images'\n",
    "annotation_path = '../data/CNR-Park_EXT_yolov8-2/train/labels'\n",
    "\n",
    "\n",
    "# Read and get the files as a list from the .csv\n",
    "#csv_file_path = '../data/image_list.csv'    #=>  change this to the folder that consists the image_list"
   ]
  },
  {
   "cell_type": "code",
   "execution_count": 16,
   "metadata": {},
   "outputs": [],
   "source": [
    "jpg_list = os.listdir(source_dataset_path)"
   ]
  },
  {
   "cell_type": "code",
   "execution_count": 17,
   "metadata": {},
   "outputs": [
    {
     "data": {
      "text/plain": [
       "'2015-11-16_0714_C02_jpg.rf.cc0822a4c0a0df4280fad621e10ee368'"
      ]
     },
     "execution_count": 17,
     "metadata": {},
     "output_type": "execute_result"
    }
   ],
   "source": [
    "jpg_list[0][:-4]"
   ]
  },
  {
   "cell_type": "code",
   "execution_count": 18,
   "metadata": {},
   "outputs": [],
   "source": [
    "# Make the two folders inside datasets/images and datasets/labels_xml\n",
    "images_path = destination_folder + '/' + 'images'\n",
    "labels_txt_path = destination_folder + '/' + 'labels'\n",
    "#labels_xml_path = destination_folder+ '/' + 'labels_xml'\n",
    "\n",
    "\n",
    "#os.makedirs(images_path + '/ + 'images', exist_ok=True)\n",
    "#os.makedirs(labels_xml_path, exist_ok=True)\n",
    "#os.makedirs(labels_txt_path , exist_ok=True)\n",
    "\n",
    "# Move images to 'images' folder\n",
    "for filename in os.listdir(destination_folder):\n",
    "    if filename.endswith(\".jpg\"):  # Assuming your images have a specific extension, like .jpg\n",
    "        src_path = os.path.join(destination_folder, filename)\n",
    "        dest_path = os.path.join(images_path, filename)\n",
    "        shutil.move(src_path, dest_path)\n",
    "\n",
    "# Move labels to 'labels_xml' folder\n",
    "''' \n",
    "for filename in os.listdir(destination_folder):\n",
    "    if filename.endswith(\".xml\"):  # Assuming your labels have a specific extension, like .xml\n",
    "        src_path = os.path.join(destination_folder, filename)\n",
    "        dest_path = os.path.join(labels_xml_path, filename)\n",
    "        shutil.move(src_path, dest_path)\n",
    "'''"
   ]
  },
  {
   "cell_type": "markdown",
   "metadata": {},
   "source": [
    "## Train, val, test split "
   ]
  },
  {
   "cell_type": "code",
   "execution_count": 19,
   "metadata": {},
   "outputs": [],
   "source": [
    "# Paths and settings\n",
    "train_path = destination_folder+ '/' + 'train'\n",
    "val_path = destination_folder+ '/' + 'val'\n",
    "test_path = destination_folder+ '/' + 'test'\n",
    "\n",
    "os.makedirs(train_path + '/' + 'images', exist_ok=True)\n",
    "os.makedirs(train_path + '/' + 'labels', exist_ok=True)\n",
    "os.makedirs(val_path + '/' + 'images', exist_ok=True)\n",
    "os.makedirs(val_path + '/' + 'labels', exist_ok=True)\n",
    "os.makedirs(test_path + '/' +'images', exist_ok=True)\n",
    "os.makedirs(test_path + '/' + 'labels', exist_ok=True)"
   ]
  },
  {
   "cell_type": "code",
   "execution_count": 20,
   "metadata": {},
   "outputs": [],
   "source": [
    "def save_files(files, im_source, destination_images, destination_labels):\n",
    "    for file_path in files:\n",
    "        # Extract file name without extension\n",
    "        file_name = os.path.splitext(os.path.basename(file_path))[0]\n",
    "\n",
    "        # Define paths for images and labels\n",
    "        image_source_path = os.path.join(im_source, f\"{file_name}.jpg\")  # Assuming images have the same name as the labels with a different extension\n",
    "        label_source_path = file_path\n",
    "\n",
    "        image_destination_path = os.path.join(destination_images, f\"{file_name}.jpg\")\n",
    "        label_destination_path = os.path.join(destination_labels, f\"{file_name}.txt\")\n",
    "\n",
    "        # Copy or move image and label files to the destination\n",
    "        shutil.copy(image_source_path, image_destination_path)  # Change to shutil.move if you want to move instead of copy\n",
    "        shutil.copy(label_source_path, label_destination_path)"
   ]
  },
  {
   "cell_type": "code",
   "execution_count": 21,
   "metadata": {},
   "outputs": [],
   "source": [
    "# Get all txt files and split them\n",
    "txt_files = glob.glob(labels_txt_path + '/' + '*.txt')\n",
    "random.shuffle(txt_files)\n",
    "\n",
    "train_ratio = 0.8\n",
    "val_ratio = 0.1\n",
    "test_ratio = 0.1\n",
    "\n",
    "train_split = int(train_ratio * len(txt_files))\n",
    "val_split = int((train_ratio + val_ratio) * len(txt_files))\n",
    "\n",
    "train_files = txt_files[:train_split]\n",
    "val_files = txt_files[train_split:val_split]\n",
    "test_files = txt_files[val_split:]\n",
    "\n",
    "# Process training, validation, and test files (same as before, but now includes selected_class)\n",
    "save_files(train_files, images_path, train_path +'/'+ 'images', train_path +'/'+ 'labels')\n",
    "save_files(val_files, images_path, val_path +'/'+ 'images', val_path +'/'+  'labels')\n",
    "save_files(test_files, images_path, test_path +'/'+ 'images', test_path +'/'+  'labels')\n"
   ]
  },
  {
   "cell_type": "code",
   "execution_count": null,
   "metadata": {},
   "outputs": [],
   "source": []
  }
 ],
 "metadata": {
  "kernelspec": {
   "display_name": ".venv",
   "language": "python",
   "name": "python3"
  },
  "language_info": {
   "codemirror_mode": {
    "name": "ipython",
    "version": 3
   },
   "file_extension": ".py",
   "mimetype": "text/x-python",
   "name": "python",
   "nbconvert_exporter": "python",
   "pygments_lexer": "ipython3",
   "version": "3.11.3"
  }
 },
 "nbformat": 4,
 "nbformat_minor": 2
}
