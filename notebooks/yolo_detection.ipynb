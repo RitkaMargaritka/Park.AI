{
 "cells": [
  {
   "cell_type": "code",
   "execution_count": 3,
   "metadata": {},
   "outputs": [],
   "source": [
    "from ultralytics import YOLO\n",
    "import cv2\n",
    "import matplotlib.pyplot as plt\n",
    "import xml.etree.ElementTree as ET\n",
    "from PIL import Image\n",
    "import os\n",
    "import shutil\n",
    "import numpy as np\n",
    "import pandas as pd\n",
    "import cv2\n",
    "\n",
    "import sys\n",
    "# adding to the path variables the one folder higher (locally, not changing system variables)\n",
    "#sys.path.append(\"..\")\n",
    "import warnings\n",
    "import mlflow\n",
    "\n",
    "#from modeling.config import EXPERIMENT_NAME\n",
    "#TRACKING_URI = open(\"../.mlflow_uri\").read().strip()\n",
    "\n",
    "import glob\n",
    "import random\n",
    "# Set the seed for reproducibility\n",
    "random.seed(42)"
   ]
  },
  {
   "cell_type": "code",
   "execution_count": 106,
   "metadata": {},
   "outputs": [],
   "source": [
    "def view_image(img_path, title = 'Title'):\n",
    "    #imgocv = cv2.imread(img_path)\n",
    "    #img_rgb = cv2.cvtColor(imgocv, cv2.COLOR_BGR2RGB)\n",
    "    plt.figure(figsize=(20,15))\n",
    "    plt.imshow(img_path)\n",
    "    plt.title(title)\n",
    "    plt.axis('off')\n",
    "    plt.show()"
   ]
  },
  {
   "cell_type": "code",
   "execution_count": 44,
   "metadata": {},
   "outputs": [],
   "source": [
    "path_to_yolo = '../models/yolov8x.pt'\n",
    "yolo_model = YOLO(path_to_yolo)"
   ]
  },
  {
   "cell_type": "markdown",
   "metadata": {},
   "source": [
    "## Train test split => PKlot_Non_Occupied_original/PUC/Sunny"
   ]
  },
  {
   "cell_type": "code",
   "execution_count": 130,
   "metadata": {},
   "outputs": [],
   "source": [
    " ''' \n",
    "# Paths and settings\n",
    "processed_path = '../data/PKLot/Sunny_most_empty/'\n",
    "\n",
    "original_path = os.path.join(processed_path,'labels_txt')\n",
    "image_source = os.path.join(processed_path, 'images')\n",
    "\n",
    "train_path = os.path.join(processed_path, 'train')\n",
    "val_path = os.path.join(processed_path, 'val')\n",
    "test_path = os.path.join(processed_path, 'test')\n",
    "\n",
    "#image_width = 1280  # replace with actual image width - done\n",
    "#image_height = 720  # replace with actual image height - done\n",
    "#selected_class = 0  # Choose 0 or 1 depending on the object class you want to process - currently use only empty spots\n",
    "\n",
    "'''"
   ]
  },
  {
   "cell_type": "code",
   "execution_count": 131,
   "metadata": {},
   "outputs": [],
   "source": [
    "def save_files(files, im_source, destination_images, destination_labels):\n",
    "    for file_path in files:\n",
    "        # Extract file name without extension\n",
    "        file_name = os.path.splitext(os.path.basename(file_path))[0]\n",
    "\n",
    "        # Define paths for images and labels\n",
    "        image_source_path = os.path.join(im_source, f\"{file_name}.jpg\")  # Assuming images have the same name as the labels with a different extension\n",
    "        label_source_path = file_path\n",
    "\n",
    "        image_destination_path = os.path.join(destination_images, f\"{file_name}.jpg\")\n",
    "        label_destination_path = os.path.join(destination_labels, f\"{file_name}.txt\")\n",
    "\n",
    "        # Copy or move image and label files to the destination\n",
    "        shutil.copy(image_source_path, image_destination_path)  # Change to shutil.move if you want to move instead of copy\n",
    "        shutil.copy(label_source_path, label_destination_path)"
   ]
  },
  {
   "cell_type": "code",
   "execution_count": 132,
   "metadata": {},
   "outputs": [],
   "source": [
    "# Create necessary directories\n",
    "'''\n",
    "os.makedirs(os.path.join(train_path, 'images'), exist_ok=True)\n",
    "os.makedirs(os.path.join(train_path, 'labels'), exist_ok=True)\n",
    "os.makedirs(os.path.join(val_path, 'images'), exist_ok=True)\n",
    "os.makedirs(os.path.join(val_path, 'labels'), exist_ok=True)\n",
    "os.makedirs(os.path.join(test_path, 'images'), exist_ok=True)\n",
    "os.makedirs(os.path.join(test_path, 'labels'), exist_ok=True)\n",
    "\n",
    "'''"
   ]
  },
  {
   "cell_type": "code",
   "execution_count": 133,
   "metadata": {},
   "outputs": [],
   "source": [
    "'''\n",
    "# Get all txt files and split them\n",
    "txt_files = glob.glob(os.path.join(original_path, '*.txt'))\n",
    "random.shuffle(txt_files)\n",
    "\n",
    "train_ratio = 0.8\n",
    "val_ratio = 0.1\n",
    "test_ratio = 0.1\n",
    "\n",
    "train_split = int(train_ratio * len(txt_files))\n",
    "val_split = int((train_ratio + val_ratio) * len(txt_files))\n",
    "\n",
    "train_files = txt_files[:train_split]\n",
    "val_files = txt_files[train_split:val_split]\n",
    "test_files = txt_files[val_split:]\n",
    "\n",
    "# Process training, validation, and test files (same as before, but now includes selected_class)\n",
    "save_files(train_files, image_source, os.path.join(train_path, 'images'), os.path.join(train_path, 'labels'))\n",
    "save_files(val_files, image_source, os.path.join(val_path, 'images'), os.path.join(val_path, 'labels'))\n",
    "save_files(test_files, image_source, os.path.join(test_path, 'images'), os.path.join(test_path, 'labels'))\n",
    "\n",
    "'''\n",
    "\n"
   ]
  },
  {
   "cell_type": "markdown",
   "metadata": {},
   "source": [
    "## Make the puc_sunny.yaml"
   ]
  },
  {
   "cell_type": "code",
   "execution_count": 49,
   "metadata": {},
   "outputs": [
    {
     "data": {
      "text/plain": [
       "\" \\npath = '../data/PKLot/PKLot_Non_Occupied/PUC/Sunny/\\n\\nFormat:\\n-------------\\ntrain: ../train/images\\nval: ../val/images\\n\\nnc: 2\\nnames: ['cat','dog']\\n\\n--------------\\n\""
      ]
     },
     "execution_count": 49,
     "metadata": {},
     "output_type": "execute_result"
    }
   ],
   "source": [
    "# Make this file manually in the following format\n",
    "''' \n",
    "path = '../data/PKLot/PKLot_Non_Occupied/PUC/Sunny/\n",
    "\n",
    "Format:\n",
    "-------------\n",
    "train: ../train/images\n",
    "val: ../val/images\n",
    "\n",
    "nc: 2\n",
    "names: ['cat','dog']\n",
    "\n",
    "--------------\n",
    "'''"
   ]
  },
  {
   "cell_type": "markdown",
   "metadata": {},
   "source": [
    "## Training phase of YOLO "
   ]
  },
  {
   "cell_type": "code",
   "execution_count": 4,
   "metadata": {},
   "outputs": [],
   "source": [
    "yaml_path = 'only_empty.yaml'"
   ]
  },
  {
   "cell_type": "code",
   "execution_count": 57,
   "metadata": {},
   "outputs": [],
   "source": [
    "#%pip install mlflow"
   ]
  },
  {
   "cell_type": "code",
   "execution_count": 5,
   "metadata": {},
   "outputs": [],
   "source": [
    "yolo8x_train_pretrained_model = YOLO('../runs/detect/train54/weights/last.pt')"
   ]
  },
  {
   "cell_type": "code",
   "execution_count": 12,
   "metadata": {},
   "outputs": [
    {
     "name": "stdout",
     "output_type": "stream",
     "text": [
      "New https://pypi.org/project/ultralytics/8.1.4 available 😃 Update with 'pip install -U ultralytics'\n",
      "Ultralytics YOLOv8.1.1 🚀 Python-3.11.3 torch-2.1.2 CPU (Apple M1)\n",
      "\u001b[34m\u001b[1mengine/trainer: \u001b[0mtask=detect, mode=train, model=../runs/detect/train54/weights/last.pt, data=only_empty.yaml, epochs=2, time=None, patience=50, batch=16, imgsz=640, save=True, save_period=-1, cache=False, device=None, workers=8, project=None, name=train64, exist_ok=False, pretrained=True, optimizer=auto, verbose=True, seed=0, deterministic=True, single_cls=False, rect=False, cos_lr=False, close_mosaic=10, resume=False, amp=True, fraction=1.0, profile=False, freeze=None, multi_scale=False, overlap_mask=True, mask_ratio=4, dropout=0.0, val=True, split=val, save_json=False, save_hybrid=False, conf=None, iou=0.7, max_det=300, half=False, dnn=False, plots=True, source=None, vid_stride=1, stream_buffer=False, visualize=False, augment=True, agnostic_nms=False, classes=None, retina_masks=False, embed=None, show=False, save_frames=False, save_txt=False, save_conf=False, save_crop=False, show_labels=True, show_conf=True, show_boxes=True, line_width=None, format=torchscript, keras=False, optimize=False, int8=False, dynamic=False, simplify=False, opset=None, workspace=4, nms=False, lr0=0.01, lrf=0.01, momentum=0.937, weight_decay=0.0005, warmup_epochs=3.0, warmup_momentum=0.8, warmup_bias_lr=0.1, box=7.5, cls=0.5, dfl=1.5, pose=12.0, kobj=1.0, label_smoothing=0.0, nbs=64, hsv_h=0.015, hsv_s=0.7, hsv_v=0.4, degrees=0.0, translate=0.1, scale=0.2, shear=0.2, perspective=0.0, flipud=0.7, fliplr=0.5, mosaic=0.3, mixup=0.1, copy_paste=0.0, auto_augment=randaugment, erasing=0.4, crop_fraction=1.0, cfg=None, tracker=botsort.yaml, save_dir=/Users/thisal_weerasekara/neufische/pklot/runs/detect/train64\n",
      "\n",
      "                   from  n    params  module                                       arguments                     \n",
      "  0                  -1  1      2320  ultralytics.nn.modules.conv.Conv             [3, 80, 3, 2]                 \n",
      "  1                  -1  1    115520  ultralytics.nn.modules.conv.Conv             [80, 160, 3, 2]               \n",
      "  2                  -1  3    436800  ultralytics.nn.modules.block.C2f             [160, 160, 3, True]           \n",
      "  3                  -1  1    461440  ultralytics.nn.modules.conv.Conv             [160, 320, 3, 2]              \n",
      "  4                  -1  6   3281920  ultralytics.nn.modules.block.C2f             [320, 320, 6, True]           \n",
      "  5                  -1  1   1844480  ultralytics.nn.modules.conv.Conv             [320, 640, 3, 2]              \n",
      "  6                  -1  6  13117440  ultralytics.nn.modules.block.C2f             [640, 640, 6, True]           \n",
      "  7                  -1  1   3687680  ultralytics.nn.modules.conv.Conv             [640, 640, 3, 2]              \n",
      "  8                  -1  3   6969600  ultralytics.nn.modules.block.C2f             [640, 640, 3, True]           \n",
      "  9                  -1  1   1025920  ultralytics.nn.modules.block.SPPF            [640, 640, 5]                 \n",
      " 10                  -1  1         0  torch.nn.modules.upsampling.Upsample         [None, 2, 'nearest']          \n",
      " 11             [-1, 6]  1         0  ultralytics.nn.modules.conv.Concat           [1]                           \n",
      " 12                  -1  3   7379200  ultralytics.nn.modules.block.C2f             [1280, 640, 3]                \n",
      " 13                  -1  1         0  torch.nn.modules.upsampling.Upsample         [None, 2, 'nearest']          \n",
      " 14             [-1, 4]  1         0  ultralytics.nn.modules.conv.Concat           [1]                           \n",
      " 15                  -1  3   1948800  ultralytics.nn.modules.block.C2f             [960, 320, 3]                 \n",
      " 16                  -1  1    922240  ultralytics.nn.modules.conv.Conv             [320, 320, 3, 2]              \n",
      " 17            [-1, 12]  1         0  ultralytics.nn.modules.conv.Concat           [1]                           \n",
      " 18                  -1  3   7174400  ultralytics.nn.modules.block.C2f             [960, 640, 3]                 \n",
      " 19                  -1  1   3687680  ultralytics.nn.modules.conv.Conv             [640, 640, 3, 2]              \n",
      " 20             [-1, 9]  1         0  ultralytics.nn.modules.conv.Concat           [1]                           \n",
      " 21                  -1  3   7379200  ultralytics.nn.modules.block.C2f             [1280, 640, 3]                \n",
      " 22        [15, 18, 21]  1   8718931  ultralytics.nn.modules.head.Detect           [1, [320, 640, 640]]          \n",
      "Model summary: 365 layers, 68153571 parameters, 68153555 gradients, 258.1 GFLOPs\n",
      "\n",
      "Transferred 595/595 items from pretrained weights\n",
      "\u001b[34m\u001b[1mTensorBoard: \u001b[0mStart with 'tensorboard --logdir /Users/thisal_weerasekara/neufische/pklot/runs/detect/train64', view at http://localhost:6006/\n",
      "Freezing layer 'model.22.dfl.conv.weight'\n"
     ]
    },
    {
     "name": "stderr",
     "output_type": "stream",
     "text": [
      "\u001b[34m\u001b[1mtrain: \u001b[0mScanning /Users/thisal_weerasekara/neufische/datasets/train/labels... 874 images, 0 backgrounds, 0 corrupt: 100%|██████████| 874/874 [00:00<00:00, 3849.95it/s]"
     ]
    },
    {
     "name": "stdout",
     "output_type": "stream",
     "text": [
      "\u001b[34m\u001b[1mtrain: \u001b[0mNew cache created: /Users/thisal_weerasekara/neufische/datasets/train/labels.cache\n"
     ]
    },
    {
     "name": "stderr",
     "output_type": "stream",
     "text": [
      "\n",
      "\u001b[34m\u001b[1mval: \u001b[0mScanning /Users/thisal_weerasekara/neufische/datasets/val/labels... 109 images, 0 backgrounds, 0 corrupt: 100%|██████████| 109/109 [00:00<00:00, 4126.46it/s]"
     ]
    },
    {
     "name": "stdout",
     "output_type": "stream",
     "text": [
      "\u001b[34m\u001b[1mval: \u001b[0mNew cache created: /Users/thisal_weerasekara/neufische/datasets/val/labels.cache\n"
     ]
    },
    {
     "name": "stderr",
     "output_type": "stream",
     "text": [
      "\n"
     ]
    },
    {
     "name": "stdout",
     "output_type": "stream",
     "text": [
      "Plotting labels to /Users/thisal_weerasekara/neufische/pklot/runs/detect/train64/labels.jpg... \n",
      "No such keys(s): 'mode.use_inf_as_null'\n",
      "\u001b[34m\u001b[1moptimizer:\u001b[0m 'optimizer=auto' found, ignoring 'lr0=0.01' and 'momentum=0.937' and determining best 'optimizer', 'lr0' and 'momentum' automatically... \n",
      "\u001b[34m\u001b[1moptimizer:\u001b[0m AdamW(lr=0.002, momentum=0.9) with parameter groups 97 weight(decay=0.0), 104 weight(decay=0.0005), 103 bias(decay=0.0)\n"
     ]
    },
    {
     "name": "stderr",
     "output_type": "stream",
     "text": [
      "2024/01/22 11:20:54 INFO mlflow.tracking.fluent: Autologging successfully enabled for statsmodels.\n",
      "2024/01/22 11:20:54 WARNING mlflow.utils.autologging_utils: You are using an unsupported version of tensorflow. If you encounter errors during autologging, try upgrading / downgrading tensorflow to a supported version, or try upgrading MLflow.\n",
      "2024/01/22 11:20:54 INFO mlflow.tracking.fluent: Autologging successfully enabled for tensorflow.\n"
     ]
    },
    {
     "name": "stdout",
     "output_type": "stream",
     "text": [
      "\u001b[34m\u001b[1mMLflow: \u001b[0mlogging run_id(b162bce8e4e040e1bd1662c1de6aa6d5) to /Users/thisal_weerasekara/neufische/pklot/runs/mlflow\n",
      "\u001b[34m\u001b[1mMLflow: \u001b[0mview at http://127.0.0.1:5000 with 'mlflow server --backend-store-uri /Users/thisal_weerasekara/neufische/pklot/runs/mlflow'\n",
      "\u001b[34m\u001b[1mMLflow: \u001b[0mdisable with 'yolo settings mlflow=False'\n",
      "2 epochs...\n",
      "\n",
      "      Epoch    GPU_mem   box_loss   cls_loss   dfl_loss  Instances       Size\n"
     ]
    },
    {
     "name": "stderr",
     "output_type": "stream",
     "text": [
      "        1/2         0G      1.892      1.167      1.284        669        640: 100%|██████████| 55/55 [1:25:46<00:00, 93.57s/it] \n",
      "                 Class     Images  Instances      Box(P          R      mAP50  mAP50-95): 100%|██████████| 4/4 [01:54<00:00, 28.60s/it]"
     ]
    },
    {
     "name": "stdout",
     "output_type": "stream",
     "text": [
      "                   all        109       5466      0.777      0.521      0.655      0.334\n"
     ]
    },
    {
     "name": "stderr",
     "output_type": "stream",
     "text": [
      "\n"
     ]
    },
    {
     "name": "stdout",
     "output_type": "stream",
     "text": [
      "\n",
      "      Epoch    GPU_mem   box_loss   cls_loss   dfl_loss  Instances       Size\n"
     ]
    },
    {
     "name": "stderr",
     "output_type": "stream",
     "text": [
      "        2/2         0G      1.162     0.5839      0.966        491        640: 100%|██████████| 55/55 [1:26:46<00:00, 94.66s/it] \n",
      "                 Class     Images  Instances      Box(P          R      mAP50  mAP50-95): 100%|██████████| 4/4 [01:59<00:00, 29.76s/it]"
     ]
    },
    {
     "name": "stdout",
     "output_type": "stream",
     "text": [
      "                   all        109       5466      0.969      0.935      0.986      0.675\n"
     ]
    },
    {
     "name": "stderr",
     "output_type": "stream",
     "text": [
      "\n"
     ]
    },
    {
     "name": "stdout",
     "output_type": "stream",
     "text": [
      "\n",
      "2 epochs completed in 2.945 hours.\n",
      "Optimizer stripped from /Users/thisal_weerasekara/neufische/pklot/runs/detect/train64/weights/last.pt, 136.7MB\n",
      "Optimizer stripped from /Users/thisal_weerasekara/neufische/pklot/runs/detect/train64/weights/best.pt, 136.7MB\n",
      "\n",
      "Validating /Users/thisal_weerasekara/neufische/pklot/runs/detect/train64/weights/best.pt...\n",
      "Ultralytics YOLOv8.1.1 🚀 Python-3.11.3 torch-2.1.2 CPU (Apple M1)\n",
      "Model summary (fused): 268 layers, 68124531 parameters, 0 gradients, 257.4 GFLOPs\n"
     ]
    },
    {
     "name": "stderr",
     "output_type": "stream",
     "text": [
      "                 Class     Images  Instances      Box(P          R      mAP50  mAP50-95): 100%|██████████| 4/4 [04:31<00:00, 67.76s/it]\n"
     ]
    },
    {
     "name": "stdout",
     "output_type": "stream",
     "text": [
      "                   all        109       5466       0.87      0.887      0.935      0.635\n",
      "Speed: 1.3ms preprocess, 2467.2ms inference, 0.0ms loss, 2.1ms postprocess per image\n",
      "Results saved to \u001b[1m/Users/thisal_weerasekara/neufische/pklot/runs/detect/train64\u001b[0m\n",
      "\u001b[34m\u001b[1mMLflow: \u001b[0mresults logged to /Users/thisal_weerasekara/neufische/pklot/runs/mlflow\n",
      "\u001b[34m\u001b[1mMLflow: \u001b[0mdisable with 'yolo settings mlflow=False'\n"
     ]
    },
    {
     "data": {
      "text/plain": [
       "ultralytics.utils.metrics.DetMetrics object with attributes:\n",
       "\n",
       "ap_class_index: array([0])\n",
       "box: ultralytics.utils.metrics.Metric object\n",
       "confusion_matrix: <ultralytics.utils.metrics.ConfusionMatrix object at 0x2b7babd10>\n",
       "curves: ['Precision-Recall(B)', 'F1-Confidence(B)', 'Precision-Confidence(B)', 'Recall-Confidence(B)']\n",
       "curves_results: [[array([          0,    0.001001,    0.002002,    0.003003,    0.004004,    0.005005,    0.006006,    0.007007,    0.008008,    0.009009,     0.01001,    0.011011,    0.012012,    0.013013,    0.014014,    0.015015,    0.016016,    0.017017,    0.018018,    0.019019,     0.02002,    0.021021,    0.022022,    0.023023,\n",
       "          0.024024,    0.025025,    0.026026,    0.027027,    0.028028,    0.029029,     0.03003,    0.031031,    0.032032,    0.033033,    0.034034,    0.035035,    0.036036,    0.037037,    0.038038,    0.039039,     0.04004,    0.041041,    0.042042,    0.043043,    0.044044,    0.045045,    0.046046,    0.047047,\n",
       "          0.048048,    0.049049,     0.05005,    0.051051,    0.052052,    0.053053,    0.054054,    0.055055,    0.056056,    0.057057,    0.058058,    0.059059,     0.06006,    0.061061,    0.062062,    0.063063,    0.064064,    0.065065,    0.066066,    0.067067,    0.068068,    0.069069,     0.07007,    0.071071,\n",
       "          0.072072,    0.073073,    0.074074,    0.075075,    0.076076,    0.077077,    0.078078,    0.079079,     0.08008,    0.081081,    0.082082,    0.083083,    0.084084,    0.085085,    0.086086,    0.087087,    0.088088,    0.089089,     0.09009,    0.091091,    0.092092,    0.093093,    0.094094,    0.095095,\n",
       "          0.096096,    0.097097,    0.098098,    0.099099,      0.1001,      0.1011,      0.1021,      0.1031,      0.1041,     0.10511,     0.10611,     0.10711,     0.10811,     0.10911,     0.11011,     0.11111,     0.11211,     0.11311,     0.11411,     0.11512,     0.11612,     0.11712,     0.11812,     0.11912,\n",
       "           0.12012,     0.12112,     0.12212,     0.12312,     0.12412,     0.12513,     0.12613,     0.12713,     0.12813,     0.12913,     0.13013,     0.13113,     0.13213,     0.13313,     0.13413,     0.13514,     0.13614,     0.13714,     0.13814,     0.13914,     0.14014,     0.14114,     0.14214,     0.14314,\n",
       "           0.14414,     0.14515,     0.14615,     0.14715,     0.14815,     0.14915,     0.15015,     0.15115,     0.15215,     0.15315,     0.15415,     0.15516,     0.15616,     0.15716,     0.15816,     0.15916,     0.16016,     0.16116,     0.16216,     0.16316,     0.16416,     0.16517,     0.16617,     0.16717,\n",
       "           0.16817,     0.16917,     0.17017,     0.17117,     0.17217,     0.17317,     0.17417,     0.17518,     0.17618,     0.17718,     0.17818,     0.17918,     0.18018,     0.18118,     0.18218,     0.18318,     0.18418,     0.18519,     0.18619,     0.18719,     0.18819,     0.18919,     0.19019,     0.19119,\n",
       "           0.19219,     0.19319,     0.19419,      0.1952,      0.1962,      0.1972,      0.1982,      0.1992,      0.2002,      0.2012,      0.2022,      0.2032,      0.2042,     0.20521,     0.20621,     0.20721,     0.20821,     0.20921,     0.21021,     0.21121,     0.21221,     0.21321,     0.21421,     0.21522,\n",
       "           0.21622,     0.21722,     0.21822,     0.21922,     0.22022,     0.22122,     0.22222,     0.22322,     0.22422,     0.22523,     0.22623,     0.22723,     0.22823,     0.22923,     0.23023,     0.23123,     0.23223,     0.23323,     0.23423,     0.23524,     0.23624,     0.23724,     0.23824,     0.23924,\n",
       "           0.24024,     0.24124,     0.24224,     0.24324,     0.24424,     0.24525,     0.24625,     0.24725,     0.24825,     0.24925,     0.25025,     0.25125,     0.25225,     0.25325,     0.25425,     0.25526,     0.25626,     0.25726,     0.25826,     0.25926,     0.26026,     0.26126,     0.26226,     0.26326,\n",
       "           0.26426,     0.26527,     0.26627,     0.26727,     0.26827,     0.26927,     0.27027,     0.27127,     0.27227,     0.27327,     0.27427,     0.27528,     0.27628,     0.27728,     0.27828,     0.27928,     0.28028,     0.28128,     0.28228,     0.28328,     0.28428,     0.28529,     0.28629,     0.28729,\n",
       "           0.28829,     0.28929,     0.29029,     0.29129,     0.29229,     0.29329,     0.29429,      0.2953,      0.2963,      0.2973,      0.2983,      0.2993,      0.3003,      0.3013,      0.3023,      0.3033,      0.3043,     0.30531,     0.30631,     0.30731,     0.30831,     0.30931,     0.31031,     0.31131,\n",
       "           0.31231,     0.31331,     0.31431,     0.31532,     0.31632,     0.31732,     0.31832,     0.31932,     0.32032,     0.32132,     0.32232,     0.32332,     0.32432,     0.32533,     0.32633,     0.32733,     0.32833,     0.32933,     0.33033,     0.33133,     0.33233,     0.33333,     0.33433,     0.33534,\n",
       "           0.33634,     0.33734,     0.33834,     0.33934,     0.34034,     0.34134,     0.34234,     0.34334,     0.34434,     0.34535,     0.34635,     0.34735,     0.34835,     0.34935,     0.35035,     0.35135,     0.35235,     0.35335,     0.35435,     0.35536,     0.35636,     0.35736,     0.35836,     0.35936,\n",
       "           0.36036,     0.36136,     0.36236,     0.36336,     0.36436,     0.36537,     0.36637,     0.36737,     0.36837,     0.36937,     0.37037,     0.37137,     0.37237,     0.37337,     0.37437,     0.37538,     0.37638,     0.37738,     0.37838,     0.37938,     0.38038,     0.38138,     0.38238,     0.38338,\n",
       "           0.38438,     0.38539,     0.38639,     0.38739,     0.38839,     0.38939,     0.39039,     0.39139,     0.39239,     0.39339,     0.39439,      0.3954,      0.3964,      0.3974,      0.3984,      0.3994,      0.4004,      0.4014,      0.4024,      0.4034,      0.4044,     0.40541,     0.40641,     0.40741,\n",
       "           0.40841,     0.40941,     0.41041,     0.41141,     0.41241,     0.41341,     0.41441,     0.41542,     0.41642,     0.41742,     0.41842,     0.41942,     0.42042,     0.42142,     0.42242,     0.42342,     0.42442,     0.42543,     0.42643,     0.42743,     0.42843,     0.42943,     0.43043,     0.43143,\n",
       "           0.43243,     0.43343,     0.43443,     0.43544,     0.43644,     0.43744,     0.43844,     0.43944,     0.44044,     0.44144,     0.44244,     0.44344,     0.44444,     0.44545,     0.44645,     0.44745,     0.44845,     0.44945,     0.45045,     0.45145,     0.45245,     0.45345,     0.45445,     0.45546,\n",
       "           0.45646,     0.45746,     0.45846,     0.45946,     0.46046,     0.46146,     0.46246,     0.46346,     0.46446,     0.46547,     0.46647,     0.46747,     0.46847,     0.46947,     0.47047,     0.47147,     0.47247,     0.47347,     0.47447,     0.47548,     0.47648,     0.47748,     0.47848,     0.47948,\n",
       "           0.48048,     0.48148,     0.48248,     0.48348,     0.48448,     0.48549,     0.48649,     0.48749,     0.48849,     0.48949,     0.49049,     0.49149,     0.49249,     0.49349,     0.49449,      0.4955,      0.4965,      0.4975,      0.4985,      0.4995,      0.5005,      0.5015,      0.5025,      0.5035,\n",
       "            0.5045,     0.50551,     0.50651,     0.50751,     0.50851,     0.50951,     0.51051,     0.51151,     0.51251,     0.51351,     0.51451,     0.51552,     0.51652,     0.51752,     0.51852,     0.51952,     0.52052,     0.52152,     0.52252,     0.52352,     0.52452,     0.52553,     0.52653,     0.52753,\n",
       "           0.52853,     0.52953,     0.53053,     0.53153,     0.53253,     0.53353,     0.53453,     0.53554,     0.53654,     0.53754,     0.53854,     0.53954,     0.54054,     0.54154,     0.54254,     0.54354,     0.54454,     0.54555,     0.54655,     0.54755,     0.54855,     0.54955,     0.55055,     0.55155,\n",
       "           0.55255,     0.55355,     0.55455,     0.55556,     0.55656,     0.55756,     0.55856,     0.55956,     0.56056,     0.56156,     0.56256,     0.56356,     0.56456,     0.56557,     0.56657,     0.56757,     0.56857,     0.56957,     0.57057,     0.57157,     0.57257,     0.57357,     0.57457,     0.57558,\n",
       "           0.57658,     0.57758,     0.57858,     0.57958,     0.58058,     0.58158,     0.58258,     0.58358,     0.58458,     0.58559,     0.58659,     0.58759,     0.58859,     0.58959,     0.59059,     0.59159,     0.59259,     0.59359,     0.59459,      0.5956,      0.5966,      0.5976,      0.5986,      0.5996,\n",
       "            0.6006,      0.6016,      0.6026,      0.6036,      0.6046,     0.60561,     0.60661,     0.60761,     0.60861,     0.60961,     0.61061,     0.61161,     0.61261,     0.61361,     0.61461,     0.61562,     0.61662,     0.61762,     0.61862,     0.61962,     0.62062,     0.62162,     0.62262,     0.62362,\n",
       "           0.62462,     0.62563,     0.62663,     0.62763,     0.62863,     0.62963,     0.63063,     0.63163,     0.63263,     0.63363,     0.63463,     0.63564,     0.63664,     0.63764,     0.63864,     0.63964,     0.64064,     0.64164,     0.64264,     0.64364,     0.64464,     0.64565,     0.64665,     0.64765,\n",
       "           0.64865,     0.64965,     0.65065,     0.65165,     0.65265,     0.65365,     0.65465,     0.65566,     0.65666,     0.65766,     0.65866,     0.65966,     0.66066,     0.66166,     0.66266,     0.66366,     0.66466,     0.66567,     0.66667,     0.66767,     0.66867,     0.66967,     0.67067,     0.67167,\n",
       "           0.67267,     0.67367,     0.67467,     0.67568,     0.67668,     0.67768,     0.67868,     0.67968,     0.68068,     0.68168,     0.68268,     0.68368,     0.68468,     0.68569,     0.68669,     0.68769,     0.68869,     0.68969,     0.69069,     0.69169,     0.69269,     0.69369,     0.69469,      0.6957,\n",
       "            0.6967,      0.6977,      0.6987,      0.6997,      0.7007,      0.7017,      0.7027,      0.7037,      0.7047,     0.70571,     0.70671,     0.70771,     0.70871,     0.70971,     0.71071,     0.71171,     0.71271,     0.71371,     0.71471,     0.71572,     0.71672,     0.71772,     0.71872,     0.71972,\n",
       "           0.72072,     0.72172,     0.72272,     0.72372,     0.72472,     0.72573,     0.72673,     0.72773,     0.72873,     0.72973,     0.73073,     0.73173,     0.73273,     0.73373,     0.73473,     0.73574,     0.73674,     0.73774,     0.73874,     0.73974,     0.74074,     0.74174,     0.74274,     0.74374,\n",
       "           0.74474,     0.74575,     0.74675,     0.74775,     0.74875,     0.74975,     0.75075,     0.75175,     0.75275,     0.75375,     0.75475,     0.75576,     0.75676,     0.75776,     0.75876,     0.75976,     0.76076,     0.76176,     0.76276,     0.76376,     0.76476,     0.76577,     0.76677,     0.76777,\n",
       "           0.76877,     0.76977,     0.77077,     0.77177,     0.77277,     0.77377,     0.77477,     0.77578,     0.77678,     0.77778,     0.77878,     0.77978,     0.78078,     0.78178,     0.78278,     0.78378,     0.78478,     0.78579,     0.78679,     0.78779,     0.78879,     0.78979,     0.79079,     0.79179,\n",
       "           0.79279,     0.79379,     0.79479,      0.7958,      0.7968,      0.7978,      0.7988,      0.7998,      0.8008,      0.8018,      0.8028,      0.8038,      0.8048,     0.80581,     0.80681,     0.80781,     0.80881,     0.80981,     0.81081,     0.81181,     0.81281,     0.81381,     0.81481,     0.81582,\n",
       "           0.81682,     0.81782,     0.81882,     0.81982,     0.82082,     0.82182,     0.82282,     0.82382,     0.82482,     0.82583,     0.82683,     0.82783,     0.82883,     0.82983,     0.83083,     0.83183,     0.83283,     0.83383,     0.83483,     0.83584,     0.83684,     0.83784,     0.83884,     0.83984,\n",
       "           0.84084,     0.84184,     0.84284,     0.84384,     0.84484,     0.84585,     0.84685,     0.84785,     0.84885,     0.84985,     0.85085,     0.85185,     0.85285,     0.85385,     0.85485,     0.85586,     0.85686,     0.85786,     0.85886,     0.85986,     0.86086,     0.86186,     0.86286,     0.86386,\n",
       "           0.86486,     0.86587,     0.86687,     0.86787,     0.86887,     0.86987,     0.87087,     0.87187,     0.87287,     0.87387,     0.87487,     0.87588,     0.87688,     0.87788,     0.87888,     0.87988,     0.88088,     0.88188,     0.88288,     0.88388,     0.88488,     0.88589,     0.88689,     0.88789,\n",
       "           0.88889,     0.88989,     0.89089,     0.89189,     0.89289,     0.89389,     0.89489,      0.8959,      0.8969,      0.8979,      0.8989,      0.8999,      0.9009,      0.9019,      0.9029,      0.9039,      0.9049,     0.90591,     0.90691,     0.90791,     0.90891,     0.90991,     0.91091,     0.91191,\n",
       "           0.91291,     0.91391,     0.91491,     0.91592,     0.91692,     0.91792,     0.91892,     0.91992,     0.92092,     0.92192,     0.92292,     0.92392,     0.92492,     0.92593,     0.92693,     0.92793,     0.92893,     0.92993,     0.93093,     0.93193,     0.93293,     0.93393,     0.93493,     0.93594,\n",
       "           0.93694,     0.93794,     0.93894,     0.93994,     0.94094,     0.94194,     0.94294,     0.94394,     0.94494,     0.94595,     0.94695,     0.94795,     0.94895,     0.94995,     0.95095,     0.95195,     0.95295,     0.95395,     0.95495,     0.95596,     0.95696,     0.95796,     0.95896,     0.95996,\n",
       "           0.96096,     0.96196,     0.96296,     0.96396,     0.96496,     0.96597,     0.96697,     0.96797,     0.96897,     0.96997,     0.97097,     0.97197,     0.97297,     0.97397,     0.97497,     0.97598,     0.97698,     0.97798,     0.97898,     0.97998,     0.98098,     0.98198,     0.98298,     0.98398,\n",
       "           0.98498,     0.98599,     0.98699,     0.98799,     0.98899,     0.98999,     0.99099,     0.99199,     0.99299,     0.99399,     0.99499,       0.996,       0.997,       0.998,       0.999,           1]), array([[          1,           1,           1,           1,           1,           1,           1,           1,           1,           1,           1,           1,           1,           1,           1,           1,           1,           1,           1,           1,           1,           1,           1,\n",
       "                  1,           1,           1,           1,           1,           1,           1,           1,           1,           1,           1,           1,           1,           1,           1,           1,           1,           1,           1,           1,           1,           1,           1,\n",
       "                  1,           1,           1,           1,           1,           1,           1,     0.99661,     0.99539,     0.99539,     0.99539,     0.99539,     0.99539,     0.99539,     0.99539,     0.99539,     0.99539,     0.99539,     0.99539,     0.99539,     0.99539,     0.99539,     0.99539,\n",
       "            0.99539,     0.99539,     0.99539,     0.99539,     0.99539,     0.99539,     0.99539,     0.99539,     0.99539,     0.99539,     0.99401,     0.99401,     0.99401,     0.99401,     0.99401,     0.99401,     0.99401,     0.99401,     0.99401,     0.99401,     0.99401,     0.99401,     0.99401,\n",
       "            0.99401,     0.99401,     0.99401,     0.99401,     0.99401,     0.99401,     0.99401,     0.99401,     0.99401,     0.99401,     0.99401,     0.99401,     0.99401,     0.99401,     0.99401,     0.99401,     0.99401,     0.99401,     0.99401,     0.99401,     0.99401,     0.99401,     0.99401,\n",
       "            0.99401,     0.99401,     0.99401,     0.99401,     0.99401,     0.99401,     0.99401,     0.99401,     0.99401,     0.99401,     0.99401,     0.99401,     0.99401,     0.99401,     0.99401,     0.99401,     0.99401,     0.99401,     0.99401,     0.99401,     0.99401,     0.99401,     0.99401,\n",
       "            0.99401,     0.99401,     0.99401,     0.99401,     0.99401,     0.99401,     0.99401,     0.99401,     0.99401,     0.99401,     0.99401,     0.99401,     0.99401,     0.99401,     0.99313,     0.99313,     0.99313,     0.99313,     0.99313,     0.99313,     0.99313,     0.99275,     0.99275,\n",
       "            0.99275,     0.99275,     0.99275,     0.99275,     0.99275,     0.99275,     0.99275,     0.99275,     0.99275,     0.99275,     0.99275,     0.99275,     0.99275,     0.99275,     0.99275,     0.99189,     0.99189,     0.99189,     0.99138,     0.99138,     0.99138,     0.99138,     0.99138,\n",
       "            0.99138,     0.99138,     0.99138,     0.99138,     0.99138,     0.99138,     0.99138,     0.99138,     0.99138,     0.99138,     0.99138,     0.99138,     0.99138,     0.99138,     0.99138,     0.99138,     0.99138,     0.99138,     0.99138,     0.99138,     0.99138,     0.99138,     0.99138,\n",
       "            0.99138,     0.99138,     0.99138,     0.99138,     0.99064,     0.99064,     0.99029,     0.99029,     0.99029,     0.99029,     0.99029,     0.99029,     0.99029,     0.99029,     0.99029,     0.99029,     0.99029,      0.9901,      0.9901,      0.9901,      0.9901,      0.9901,      0.9901,\n",
       "             0.9901,      0.9901,      0.9901,      0.9901,      0.9901,      0.9901,      0.9901,      0.9901,     0.98964,     0.98964,     0.98964,     0.98964,     0.98964,     0.98964,     0.98964,     0.98898,     0.98898,     0.98846,     0.98846,     0.98846,     0.98846,     0.98823,     0.98823,\n",
       "            0.98823,     0.98823,     0.98823,     0.98823,     0.98823,     0.98823,     0.98823,     0.98823,     0.98776,     0.98776,     0.98776,     0.98776,     0.98776,     0.98727,     0.98727,     0.98727,     0.98727,     0.98683,     0.98683,     0.98683,     0.98683,     0.98629,     0.98629,\n",
       "            0.98629,     0.98629,     0.98629,     0.98629,     0.98629,     0.98629,     0.98629,     0.98629,     0.98629,     0.98629,     0.98629,     0.98629,     0.98629,     0.98629,     0.98592,     0.98592,     0.98592,     0.98592,     0.98592,     0.98544,     0.98544,     0.98497,     0.98497,\n",
       "            0.98497,     0.98481,     0.98481,     0.98481,     0.98481,     0.98481,     0.98481,     0.98481,     0.98481,     0.98481,     0.98481,     0.98481,     0.98481,     0.98481,     0.98481,     0.98481,     0.98481,     0.98481,     0.98481,     0.98481,     0.98481,     0.98439,     0.98439,\n",
       "            0.98439,       0.984,       0.984,       0.984,     0.98349,     0.98299,     0.98267,     0.98267,     0.98267,     0.98267,     0.98241,     0.98241,     0.98241,     0.98241,     0.98241,     0.98194,     0.98176,     0.98176,     0.98176,     0.98176,     0.98176,     0.98176,     0.98176,\n",
       "             0.9813,     0.98117,     0.98117,     0.98117,     0.98117,     0.98117,     0.98117,     0.98117,     0.98117,     0.98117,     0.98117,     0.98117,     0.98117,     0.98117,     0.98117,     0.98117,     0.98117,     0.98084,     0.98084,     0.98084,     0.98052,     0.98052,     0.98052,\n",
       "            0.98021,     0.98021,     0.98021,     0.98021,     0.98006,     0.98006,     0.98006,     0.98006,     0.98006,     0.98006,     0.97988,     0.97988,     0.97988,     0.97988,     0.97988,     0.97963,     0.97963,     0.97963,     0.97963,     0.97925,     0.97925,     0.97919,     0.97919,\n",
       "            0.97919,     0.97919,     0.97919,     0.97919,     0.97919,     0.97885,     0.97885,     0.97851,     0.97851,     0.97829,     0.97829,     0.97829,     0.97829,     0.97799,     0.97799,     0.97799,     0.97788,     0.97788,     0.97788,     0.97788,     0.97788,     0.97788,     0.97776,\n",
       "            0.97776,     0.97776,     0.97776,     0.97776,      0.9776,      0.9776,      0.9776,      0.9776,      0.9776,     0.97736,     0.97736,     0.97736,     0.97736,     0.97633,     0.97633,     0.97633,     0.97595,      0.9756,     0.97504,     0.97504,     0.97504,     0.97504,     0.97482,\n",
       "            0.97482,     0.97482,     0.97482,     0.97482,     0.97482,     0.97482,     0.97482,     0.97482,     0.97482,     0.97466,     0.97466,     0.97466,     0.97466,     0.97362,     0.97362,     0.97327,     0.97308,     0.97308,     0.97308,     0.97272,     0.97264,     0.97264,     0.97264,\n",
       "            0.97264,     0.97264,     0.97157,     0.97155,     0.97155,     0.97155,     0.97155,     0.97155,     0.97155,     0.97129,     0.97095,     0.97073,     0.97073,     0.97004,     0.96947,     0.96947,     0.96947,     0.96947,     0.96947,     0.96947,     0.96947,     0.96947,     0.96914,\n",
       "              0.969,       0.969,       0.969,     0.96868,     0.96847,     0.96847,     0.96819,     0.96795,     0.96795,     0.96732,     0.96671,     0.96646,     0.96646,     0.96549,     0.96531,     0.96531,     0.96507,     0.96475,      0.9645,     0.96425,     0.96395,      0.9634,      0.9634,\n",
       "            0.96319,     0.96291,     0.96228,     0.96203,     0.96142,     0.96036,     0.96036,     0.96036,     0.96012,     0.95982,     0.95893,     0.95833,     0.95777,     0.95693,     0.95673,     0.95673,     0.95652,     0.95625,      0.9555,      0.9555,     0.95489,     0.95467,     0.95441,\n",
       "             0.9539,     0.95271,     0.95191,     0.95165,      0.9514,     0.95094,     0.95073,     0.95073,     0.95032,     0.95032,     0.95032,     0.95032,     0.95032,     0.95008,     0.94989,     0.94931,     0.94909,     0.94887,     0.94807,     0.94762,     0.94755,     0.94755,     0.94755,\n",
       "            0.94729,     0.94729,     0.94729,     0.94729,     0.94717,     0.94717,      0.9467,     0.94651,      0.9462,      0.9462,      0.9462,     0.94596,      0.9455,     0.94544,     0.94544,     0.94517,     0.94444,     0.94431,     0.94431,     0.94393,     0.94393,      0.9438,      0.9438,\n",
       "             0.9438,      0.9438,     0.94355,     0.94322,     0.94322,     0.94322,     0.94322,     0.94322,     0.94322,     0.94322,     0.94322,     0.94301,     0.94283,     0.94259,     0.94216,     0.94203,     0.94203,     0.94182,     0.94182,     0.94182,     0.94182,     0.94182,     0.94182,\n",
       "            0.94165,      0.9416,      0.9416,      0.9416,      0.9416,      0.9416,      0.9416,     0.94143,     0.94143,     0.94143,     0.94143,     0.94099,      0.9406,     0.94054,     0.94054,     0.94054,     0.94054,     0.94054,     0.94054,     0.94054,     0.94054,     0.94043,     0.94043,\n",
       "            0.93999,     0.93957,     0.93915,     0.93882,     0.93882,     0.93841,     0.93794,     0.93702,     0.93694,     0.93686,     0.93686,     0.93677,     0.93677,     0.93677,     0.93677,     0.93677,     0.93677,     0.93677,     0.93677,     0.93677,     0.93677,     0.93647,     0.93647,\n",
       "            0.93647,     0.93647,     0.93647,     0.93605,     0.93592,     0.93554,     0.93537,     0.93515,     0.93483,     0.93464,      0.9346,      0.9346,     0.93456,     0.93456,     0.93426,     0.93426,     0.93426,     0.93426,     0.93426,     0.93412,     0.93357,     0.93357,     0.93357,\n",
       "            0.93357,     0.93354,     0.93354,     0.93354,     0.93321,     0.93308,     0.93308,     0.93308,     0.93308,     0.93268,     0.93219,     0.93219,     0.93198,     0.93198,     0.93198,      0.9319,     0.93159,     0.93159,     0.93141,     0.93118,     0.93118,     0.93118,     0.93118,\n",
       "            0.93108,     0.93108,     0.93108,     0.93108,     0.93103,     0.93103,     0.93102,     0.93102,     0.93102,     0.93102,     0.93102,     0.93074,     0.93074,     0.93074,     0.93074,     0.93054,     0.93045,     0.93015,     0.93015,     0.93008,     0.92995,     0.92975,     0.92965,\n",
       "            0.92965,     0.92965,     0.92965,     0.92965,     0.92965,     0.92952,     0.92916,     0.92862,     0.92854,     0.92854,     0.92854,     0.92854,     0.92854,     0.92854,     0.92854,     0.92854,     0.92854,     0.92854,     0.92854,     0.92821,     0.92821,     0.92821,     0.92821,\n",
       "            0.92821,     0.92821,     0.92813,     0.92806,     0.92806,     0.92775,     0.92758,     0.92757,     0.92757,     0.92757,     0.92757,     0.92721,     0.92712,     0.92712,     0.92712,     0.92699,     0.92694,     0.92694,     0.92694,     0.92694,     0.92694,     0.92694,     0.92694,\n",
       "            0.92661,     0.92609,     0.92598,     0.92598,     0.92598,     0.92584,     0.92571,     0.92549,     0.92549,     0.92536,     0.92536,     0.92536,     0.92532,     0.92532,     0.92513,     0.92513,     0.92501,     0.92445,     0.92353,     0.92353,     0.92353,     0.92334,     0.92334,\n",
       "            0.92324,     0.92311,     0.92309,     0.92309,     0.92263,     0.92263,     0.92263,     0.92263,     0.92244,     0.92244,     0.92193,     0.92153,     0.92153,      0.9215,     0.92134,     0.92131,     0.92131,      0.9212,     0.92013,     0.92004,     0.91976,     0.91976,     0.91976,\n",
       "            0.91976,     0.91976,     0.91951,     0.91951,     0.91923,     0.91895,     0.91849,     0.91816,     0.91732,     0.91723,     0.91682,     0.91677,     0.91677,     0.91639,     0.91639,     0.91633,     0.91619,     0.91546,     0.91546,     0.91481,     0.91365,      0.9135,     0.91325,\n",
       "            0.91251,     0.91251,     0.91205,     0.91164,     0.91096,     0.91003,     0.90991,     0.90945,     0.90902,     0.90783,     0.90597,     0.90534,     0.90421,     0.90292,     0.90198,     0.90156,      0.9009,     0.90031,     0.89936,     0.89862,     0.89801,     0.89762,     0.89718,\n",
       "            0.89646,     0.89568,     0.89547,     0.89422,     0.89419,     0.89372,     0.89369,     0.89225,     0.89218,     0.89196,     0.89176,     0.89176,     0.89162,     0.89126,     0.89018,     0.88979,     0.88872,     0.88804,     0.88647,     0.88647,     0.88604,     0.88469,     0.88285,\n",
       "            0.88233,     0.88209,     0.88028,     0.87958,     0.87824,     0.87634,     0.87625,     0.87529,     0.87443,     0.87346,     0.87329,     0.87277,     0.87016,     0.86943,     0.86837,     0.86767,     0.86703,     0.86553,     0.86543,      0.8648,     0.86416,     0.86316,     0.86308,\n",
       "            0.86257,     0.85816,     0.85816,     0.85801,     0.85709,     0.85442,     0.85263,     0.85064,     0.84933,     0.84854,     0.84684,     0.84438,     0.84405,     0.84235,     0.84163,     0.83993,     0.83826,     0.83727,     0.83575,     0.83453,     0.83358,     0.83176,     0.83003,\n",
       "             0.8284,      0.8268,     0.82521,     0.82304,     0.82131,     0.81886,     0.81607,     0.81507,     0.81404,     0.81237,     0.80971,     0.80601,     0.80442,      0.8028,     0.79947,       0.798,     0.79584,     0.79194,     0.78658,     0.78551,     0.78176,     0.77803,     0.77717,\n",
       "            0.77617,     0.77431,     0.77352,     0.77073,     0.76873,     0.76768,     0.76626,     0.76588,     0.76454,     0.76367,     0.76065,      0.7592,     0.75531,     0.75331,     0.75126,     0.74228,      0.7393,     0.73744,      0.7346,     0.72848,     0.72251,     0.72043,     0.71739,\n",
       "            0.71326,     0.70396,     0.69817,     0.69544,     0.68376,      0.6808,     0.67176,     0.66893,     0.66542,      0.6571,     0.65039,     0.64108,     0.63729,     0.62596,     0.61397,     0.61335,     0.59933,     0.58296,     0.56608,     0.54302,     0.52944,     0.52168,     0.50962,\n",
       "            0.49945,     0.48627,     0.47267,     0.45271,     0.43288,     0.41046,     0.38622,     0.36487,     0.23117,     0.13049,           0]]), 'Recall', 'Precision'], [array([          0,    0.001001,    0.002002,    0.003003,    0.004004,    0.005005,    0.006006,    0.007007,    0.008008,    0.009009,     0.01001,    0.011011,    0.012012,    0.013013,    0.014014,    0.015015,    0.016016,    0.017017,    0.018018,    0.019019,     0.02002,    0.021021,    0.022022,    0.023023,\n",
       "          0.024024,    0.025025,    0.026026,    0.027027,    0.028028,    0.029029,     0.03003,    0.031031,    0.032032,    0.033033,    0.034034,    0.035035,    0.036036,    0.037037,    0.038038,    0.039039,     0.04004,    0.041041,    0.042042,    0.043043,    0.044044,    0.045045,    0.046046,    0.047047,\n",
       "          0.048048,    0.049049,     0.05005,    0.051051,    0.052052,    0.053053,    0.054054,    0.055055,    0.056056,    0.057057,    0.058058,    0.059059,     0.06006,    0.061061,    0.062062,    0.063063,    0.064064,    0.065065,    0.066066,    0.067067,    0.068068,    0.069069,     0.07007,    0.071071,\n",
       "          0.072072,    0.073073,    0.074074,    0.075075,    0.076076,    0.077077,    0.078078,    0.079079,     0.08008,    0.081081,    0.082082,    0.083083,    0.084084,    0.085085,    0.086086,    0.087087,    0.088088,    0.089089,     0.09009,    0.091091,    0.092092,    0.093093,    0.094094,    0.095095,\n",
       "          0.096096,    0.097097,    0.098098,    0.099099,      0.1001,      0.1011,      0.1021,      0.1031,      0.1041,     0.10511,     0.10611,     0.10711,     0.10811,     0.10911,     0.11011,     0.11111,     0.11211,     0.11311,     0.11411,     0.11512,     0.11612,     0.11712,     0.11812,     0.11912,\n",
       "           0.12012,     0.12112,     0.12212,     0.12312,     0.12412,     0.12513,     0.12613,     0.12713,     0.12813,     0.12913,     0.13013,     0.13113,     0.13213,     0.13313,     0.13413,     0.13514,     0.13614,     0.13714,     0.13814,     0.13914,     0.14014,     0.14114,     0.14214,     0.14314,\n",
       "           0.14414,     0.14515,     0.14615,     0.14715,     0.14815,     0.14915,     0.15015,     0.15115,     0.15215,     0.15315,     0.15415,     0.15516,     0.15616,     0.15716,     0.15816,     0.15916,     0.16016,     0.16116,     0.16216,     0.16316,     0.16416,     0.16517,     0.16617,     0.16717,\n",
       "           0.16817,     0.16917,     0.17017,     0.17117,     0.17217,     0.17317,     0.17417,     0.17518,     0.17618,     0.17718,     0.17818,     0.17918,     0.18018,     0.18118,     0.18218,     0.18318,     0.18418,     0.18519,     0.18619,     0.18719,     0.18819,     0.18919,     0.19019,     0.19119,\n",
       "           0.19219,     0.19319,     0.19419,      0.1952,      0.1962,      0.1972,      0.1982,      0.1992,      0.2002,      0.2012,      0.2022,      0.2032,      0.2042,     0.20521,     0.20621,     0.20721,     0.20821,     0.20921,     0.21021,     0.21121,     0.21221,     0.21321,     0.21421,     0.21522,\n",
       "           0.21622,     0.21722,     0.21822,     0.21922,     0.22022,     0.22122,     0.22222,     0.22322,     0.22422,     0.22523,     0.22623,     0.22723,     0.22823,     0.22923,     0.23023,     0.23123,     0.23223,     0.23323,     0.23423,     0.23524,     0.23624,     0.23724,     0.23824,     0.23924,\n",
       "           0.24024,     0.24124,     0.24224,     0.24324,     0.24424,     0.24525,     0.24625,     0.24725,     0.24825,     0.24925,     0.25025,     0.25125,     0.25225,     0.25325,     0.25425,     0.25526,     0.25626,     0.25726,     0.25826,     0.25926,     0.26026,     0.26126,     0.26226,     0.26326,\n",
       "           0.26426,     0.26527,     0.26627,     0.26727,     0.26827,     0.26927,     0.27027,     0.27127,     0.27227,     0.27327,     0.27427,     0.27528,     0.27628,     0.27728,     0.27828,     0.27928,     0.28028,     0.28128,     0.28228,     0.28328,     0.28428,     0.28529,     0.28629,     0.28729,\n",
       "           0.28829,     0.28929,     0.29029,     0.29129,     0.29229,     0.29329,     0.29429,      0.2953,      0.2963,      0.2973,      0.2983,      0.2993,      0.3003,      0.3013,      0.3023,      0.3033,      0.3043,     0.30531,     0.30631,     0.30731,     0.30831,     0.30931,     0.31031,     0.31131,\n",
       "           0.31231,     0.31331,     0.31431,     0.31532,     0.31632,     0.31732,     0.31832,     0.31932,     0.32032,     0.32132,     0.32232,     0.32332,     0.32432,     0.32533,     0.32633,     0.32733,     0.32833,     0.32933,     0.33033,     0.33133,     0.33233,     0.33333,     0.33433,     0.33534,\n",
       "           0.33634,     0.33734,     0.33834,     0.33934,     0.34034,     0.34134,     0.34234,     0.34334,     0.34434,     0.34535,     0.34635,     0.34735,     0.34835,     0.34935,     0.35035,     0.35135,     0.35235,     0.35335,     0.35435,     0.35536,     0.35636,     0.35736,     0.35836,     0.35936,\n",
       "           0.36036,     0.36136,     0.36236,     0.36336,     0.36436,     0.36537,     0.36637,     0.36737,     0.36837,     0.36937,     0.37037,     0.37137,     0.37237,     0.37337,     0.37437,     0.37538,     0.37638,     0.37738,     0.37838,     0.37938,     0.38038,     0.38138,     0.38238,     0.38338,\n",
       "           0.38438,     0.38539,     0.38639,     0.38739,     0.38839,     0.38939,     0.39039,     0.39139,     0.39239,     0.39339,     0.39439,      0.3954,      0.3964,      0.3974,      0.3984,      0.3994,      0.4004,      0.4014,      0.4024,      0.4034,      0.4044,     0.40541,     0.40641,     0.40741,\n",
       "           0.40841,     0.40941,     0.41041,     0.41141,     0.41241,     0.41341,     0.41441,     0.41542,     0.41642,     0.41742,     0.41842,     0.41942,     0.42042,     0.42142,     0.42242,     0.42342,     0.42442,     0.42543,     0.42643,     0.42743,     0.42843,     0.42943,     0.43043,     0.43143,\n",
       "           0.43243,     0.43343,     0.43443,     0.43544,     0.43644,     0.43744,     0.43844,     0.43944,     0.44044,     0.44144,     0.44244,     0.44344,     0.44444,     0.44545,     0.44645,     0.44745,     0.44845,     0.44945,     0.45045,     0.45145,     0.45245,     0.45345,     0.45445,     0.45546,\n",
       "           0.45646,     0.45746,     0.45846,     0.45946,     0.46046,     0.46146,     0.46246,     0.46346,     0.46446,     0.46547,     0.46647,     0.46747,     0.46847,     0.46947,     0.47047,     0.47147,     0.47247,     0.47347,     0.47447,     0.47548,     0.47648,     0.47748,     0.47848,     0.47948,\n",
       "           0.48048,     0.48148,     0.48248,     0.48348,     0.48448,     0.48549,     0.48649,     0.48749,     0.48849,     0.48949,     0.49049,     0.49149,     0.49249,     0.49349,     0.49449,      0.4955,      0.4965,      0.4975,      0.4985,      0.4995,      0.5005,      0.5015,      0.5025,      0.5035,\n",
       "            0.5045,     0.50551,     0.50651,     0.50751,     0.50851,     0.50951,     0.51051,     0.51151,     0.51251,     0.51351,     0.51451,     0.51552,     0.51652,     0.51752,     0.51852,     0.51952,     0.52052,     0.52152,     0.52252,     0.52352,     0.52452,     0.52553,     0.52653,     0.52753,\n",
       "           0.52853,     0.52953,     0.53053,     0.53153,     0.53253,     0.53353,     0.53453,     0.53554,     0.53654,     0.53754,     0.53854,     0.53954,     0.54054,     0.54154,     0.54254,     0.54354,     0.54454,     0.54555,     0.54655,     0.54755,     0.54855,     0.54955,     0.55055,     0.55155,\n",
       "           0.55255,     0.55355,     0.55455,     0.55556,     0.55656,     0.55756,     0.55856,     0.55956,     0.56056,     0.56156,     0.56256,     0.56356,     0.56456,     0.56557,     0.56657,     0.56757,     0.56857,     0.56957,     0.57057,     0.57157,     0.57257,     0.57357,     0.57457,     0.57558,\n",
       "           0.57658,     0.57758,     0.57858,     0.57958,     0.58058,     0.58158,     0.58258,     0.58358,     0.58458,     0.58559,     0.58659,     0.58759,     0.58859,     0.58959,     0.59059,     0.59159,     0.59259,     0.59359,     0.59459,      0.5956,      0.5966,      0.5976,      0.5986,      0.5996,\n",
       "            0.6006,      0.6016,      0.6026,      0.6036,      0.6046,     0.60561,     0.60661,     0.60761,     0.60861,     0.60961,     0.61061,     0.61161,     0.61261,     0.61361,     0.61461,     0.61562,     0.61662,     0.61762,     0.61862,     0.61962,     0.62062,     0.62162,     0.62262,     0.62362,\n",
       "           0.62462,     0.62563,     0.62663,     0.62763,     0.62863,     0.62963,     0.63063,     0.63163,     0.63263,     0.63363,     0.63463,     0.63564,     0.63664,     0.63764,     0.63864,     0.63964,     0.64064,     0.64164,     0.64264,     0.64364,     0.64464,     0.64565,     0.64665,     0.64765,\n",
       "           0.64865,     0.64965,     0.65065,     0.65165,     0.65265,     0.65365,     0.65465,     0.65566,     0.65666,     0.65766,     0.65866,     0.65966,     0.66066,     0.66166,     0.66266,     0.66366,     0.66466,     0.66567,     0.66667,     0.66767,     0.66867,     0.66967,     0.67067,     0.67167,\n",
       "           0.67267,     0.67367,     0.67467,     0.67568,     0.67668,     0.67768,     0.67868,     0.67968,     0.68068,     0.68168,     0.68268,     0.68368,     0.68468,     0.68569,     0.68669,     0.68769,     0.68869,     0.68969,     0.69069,     0.69169,     0.69269,     0.69369,     0.69469,      0.6957,\n",
       "            0.6967,      0.6977,      0.6987,      0.6997,      0.7007,      0.7017,      0.7027,      0.7037,      0.7047,     0.70571,     0.70671,     0.70771,     0.70871,     0.70971,     0.71071,     0.71171,     0.71271,     0.71371,     0.71471,     0.71572,     0.71672,     0.71772,     0.71872,     0.71972,\n",
       "           0.72072,     0.72172,     0.72272,     0.72372,     0.72472,     0.72573,     0.72673,     0.72773,     0.72873,     0.72973,     0.73073,     0.73173,     0.73273,     0.73373,     0.73473,     0.73574,     0.73674,     0.73774,     0.73874,     0.73974,     0.74074,     0.74174,     0.74274,     0.74374,\n",
       "           0.74474,     0.74575,     0.74675,     0.74775,     0.74875,     0.74975,     0.75075,     0.75175,     0.75275,     0.75375,     0.75475,     0.75576,     0.75676,     0.75776,     0.75876,     0.75976,     0.76076,     0.76176,     0.76276,     0.76376,     0.76476,     0.76577,     0.76677,     0.76777,\n",
       "           0.76877,     0.76977,     0.77077,     0.77177,     0.77277,     0.77377,     0.77477,     0.77578,     0.77678,     0.77778,     0.77878,     0.77978,     0.78078,     0.78178,     0.78278,     0.78378,     0.78478,     0.78579,     0.78679,     0.78779,     0.78879,     0.78979,     0.79079,     0.79179,\n",
       "           0.79279,     0.79379,     0.79479,      0.7958,      0.7968,      0.7978,      0.7988,      0.7998,      0.8008,      0.8018,      0.8028,      0.8038,      0.8048,     0.80581,     0.80681,     0.80781,     0.80881,     0.80981,     0.81081,     0.81181,     0.81281,     0.81381,     0.81481,     0.81582,\n",
       "           0.81682,     0.81782,     0.81882,     0.81982,     0.82082,     0.82182,     0.82282,     0.82382,     0.82482,     0.82583,     0.82683,     0.82783,     0.82883,     0.82983,     0.83083,     0.83183,     0.83283,     0.83383,     0.83483,     0.83584,     0.83684,     0.83784,     0.83884,     0.83984,\n",
       "           0.84084,     0.84184,     0.84284,     0.84384,     0.84484,     0.84585,     0.84685,     0.84785,     0.84885,     0.84985,     0.85085,     0.85185,     0.85285,     0.85385,     0.85485,     0.85586,     0.85686,     0.85786,     0.85886,     0.85986,     0.86086,     0.86186,     0.86286,     0.86386,\n",
       "           0.86486,     0.86587,     0.86687,     0.86787,     0.86887,     0.86987,     0.87087,     0.87187,     0.87287,     0.87387,     0.87487,     0.87588,     0.87688,     0.87788,     0.87888,     0.87988,     0.88088,     0.88188,     0.88288,     0.88388,     0.88488,     0.88589,     0.88689,     0.88789,\n",
       "           0.88889,     0.88989,     0.89089,     0.89189,     0.89289,     0.89389,     0.89489,      0.8959,      0.8969,      0.8979,      0.8989,      0.8999,      0.9009,      0.9019,      0.9029,      0.9039,      0.9049,     0.90591,     0.90691,     0.90791,     0.90891,     0.90991,     0.91091,     0.91191,\n",
       "           0.91291,     0.91391,     0.91491,     0.91592,     0.91692,     0.91792,     0.91892,     0.91992,     0.92092,     0.92192,     0.92292,     0.92392,     0.92492,     0.92593,     0.92693,     0.92793,     0.92893,     0.92993,     0.93093,     0.93193,     0.93293,     0.93393,     0.93493,     0.93594,\n",
       "           0.93694,     0.93794,     0.93894,     0.93994,     0.94094,     0.94194,     0.94294,     0.94394,     0.94494,     0.94595,     0.94695,     0.94795,     0.94895,     0.94995,     0.95095,     0.95195,     0.95295,     0.95395,     0.95495,     0.95596,     0.95696,     0.95796,     0.95896,     0.95996,\n",
       "           0.96096,     0.96196,     0.96296,     0.96396,     0.96496,     0.96597,     0.96697,     0.96797,     0.96897,     0.96997,     0.97097,     0.97197,     0.97297,     0.97397,     0.97497,     0.97598,     0.97698,     0.97798,     0.97898,     0.97998,     0.98098,     0.98198,     0.98298,     0.98398,\n",
       "           0.98498,     0.98599,     0.98699,     0.98799,     0.98899,     0.98999,     0.99099,     0.99199,     0.99299,     0.99399,     0.99499,       0.996,       0.997,       0.998,       0.999,           1]), array([[    0.28607,     0.28607,     0.28639,     0.30001,      0.3259,     0.35303,     0.37933,     0.40398,     0.42536,     0.44447,     0.46101,     0.47692,     0.49043,     0.50229,     0.51297,     0.52286,     0.53263,     0.54124,     0.54936,     0.55609,     0.56286,     0.56932,     0.57635,\n",
       "             0.5831,     0.58887,     0.59417,     0.59924,     0.60381,      0.6079,     0.61281,     0.61823,      0.6234,     0.62788,     0.63175,     0.63587,     0.63969,     0.64335,     0.64665,     0.65026,     0.65354,     0.65642,     0.65931,     0.66193,      0.6654,      0.6687,     0.67106,\n",
       "            0.67316,     0.67643,     0.67855,     0.68074,     0.68323,     0.68546,      0.6876,     0.68921,     0.69147,     0.69349,     0.69576,      0.6976,     0.69938,     0.70104,      0.7027,     0.70439,     0.70581,     0.70775,     0.70961,     0.71148,     0.71316,     0.71499,     0.71722,\n",
       "            0.71877,     0.72062,     0.72238,     0.72411,     0.72496,      0.7263,     0.72778,     0.72923,     0.73072,     0.73229,     0.73383,     0.73542,     0.73726,     0.73835,     0.73921,     0.74054,     0.74165,     0.74304,      0.7439,     0.74498,     0.74621,     0.74722,     0.74854,\n",
       "            0.74946,     0.75061,     0.75168,     0.75258,     0.75383,     0.75506,     0.75556,      0.7565,     0.75776,     0.75873,     0.75986,     0.76117,     0.76225,     0.76337,     0.76433,     0.76518,     0.76627,     0.76718,     0.76771,     0.76812,     0.76929,     0.77085,     0.77167,\n",
       "            0.77257,     0.77345,     0.77437,     0.77549,     0.77667,      0.7777,     0.77824,     0.77896,     0.77985,     0.78075,     0.78173,     0.78265,     0.78319,     0.78367,     0.78483,     0.78535,     0.78611,     0.78716,     0.78817,     0.78902,     0.78939,     0.79016,      0.7907,\n",
       "            0.79107,     0.79152,     0.79202,     0.79246,     0.79293,     0.79334,     0.79425,     0.79451,     0.79501,     0.79575,     0.79649,     0.79778,      0.7984,     0.79901,     0.79958,     0.80033,      0.8008,     0.80104,     0.80151,     0.80196,     0.80239,     0.80303,     0.80358,\n",
       "            0.80414,     0.80511,     0.80575,     0.80644,     0.80709,      0.8077,     0.80858,     0.80902,     0.80977,     0.81023,     0.81085,     0.81151,     0.81224,     0.81229,     0.81251,     0.81283,     0.81335,     0.81379,     0.81426,     0.81487,     0.81519,     0.81555,     0.81619,\n",
       "              0.817,     0.81742,     0.81774,     0.81867,     0.81939,     0.81959,     0.82032,     0.82084,     0.82108,     0.82161,      0.8222,     0.82252,     0.82269,     0.82299,     0.82345,     0.82379,     0.82414,     0.82487,     0.82517,     0.82544,     0.82556,     0.82589,     0.82608,\n",
       "            0.82635,     0.82671,       0.827,     0.82744,     0.82814,     0.82851,     0.82904,     0.82949,     0.82986,     0.83039,     0.83088,     0.83146,     0.83198,     0.83258,     0.83284,      0.8332,     0.83374,     0.83399,     0.83433,     0.83434,     0.83466,     0.83531,     0.83528,\n",
       "            0.83566,     0.83621,     0.83665,     0.83707,     0.83782,     0.83817,     0.83866,     0.83882,     0.83919,     0.83945,     0.83983,     0.84014,     0.84055,     0.84109,     0.84132,     0.84187,     0.84214,     0.84247,     0.84267,     0.84306,     0.84282,     0.84306,     0.84361,\n",
       "            0.84388,     0.84414,     0.84449,     0.84506,     0.84539,     0.84578,     0.84598,     0.84583,     0.84573,     0.84571,     0.84618,     0.84641,     0.84688,     0.84727,     0.84771,      0.8477,      0.8478,     0.84783,     0.84807,     0.84799,     0.84791,     0.84839,      0.8484,\n",
       "            0.84835,     0.84842,     0.84854,     0.84872,     0.84866,     0.84897,     0.84914,     0.84917,     0.84961,     0.84968,     0.84983,     0.84999,      0.8504,     0.85083,     0.85112,     0.85127,     0.85102,     0.85128,     0.85173,     0.85182,     0.85205,     0.85212,     0.85223,\n",
       "            0.85239,     0.85275,     0.85349,     0.85364,     0.85393,     0.85401,     0.85424,     0.85438,      0.8548,     0.85501,     0.85552,     0.85569,     0.85596,     0.85613,     0.85616,      0.8567,     0.85725,     0.85764,     0.85821,     0.85878,     0.85902,     0.85931,     0.85972,\n",
       "            0.86004,     0.86069,     0.86073,     0.86074,     0.86106,     0.86144,     0.86163,     0.86192,     0.86216,     0.86272,     0.86325,     0.86336,     0.86343,     0.86373,     0.86411,     0.86451,     0.86442,     0.86447,     0.86485,     0.86503,      0.8653,     0.86563,     0.86597,\n",
       "            0.86611,     0.86632,     0.86655,      0.8669,     0.86706,     0.86724,     0.86732,     0.86722,     0.86765,     0.86759,     0.86771,     0.86801,     0.86788,      0.8678,     0.86822,     0.86874,     0.86894,     0.86917,     0.86949,     0.86982,     0.86995,     0.87007,     0.87008,\n",
       "            0.87056,     0.87063,     0.87079,     0.87119,     0.87147,     0.87129,     0.87155,      0.8718,     0.87162,      0.8716,     0.87191,     0.87214,     0.87214,     0.87251,     0.87273,     0.87271,     0.87281,     0.87281,     0.87286,     0.87312,     0.87334,     0.87358,     0.87369,\n",
       "            0.87372,     0.87386,     0.87398,     0.87372,     0.87382,     0.87417,     0.87399,     0.87398,     0.87375,     0.87411,     0.87452,      0.8745,     0.87446,     0.87457,     0.87462,     0.87454,     0.87464,     0.87478,     0.87519,     0.87526,     0.87506,     0.87547,     0.87534,\n",
       "            0.87544,     0.87537,     0.87557,     0.87575,     0.87573,     0.87566,     0.87548,     0.87548,     0.87555,     0.87602,     0.87616,     0.87632,      0.8765,     0.87616,     0.87615,     0.87654,     0.87682,     0.87677,     0.87693,       0.877,     0.87688,     0.87713,      0.8771,\n",
       "            0.87721,     0.87757,     0.87748,     0.87736,      0.8775,     0.87782,     0.87798,     0.87846,     0.87845,     0.87863,     0.87893,     0.87878,     0.87865,     0.87869,     0.87894,     0.87861,     0.87849,     0.87808,     0.87812,     0.87827,     0.87852,     0.87853,     0.87871,\n",
       "            0.87912,     0.87926,     0.87947,     0.87972,     0.87988,     0.87957,     0.87975,     0.87957,     0.87946,     0.87938,     0.87904,     0.87917,     0.87924,     0.87911,     0.87916,     0.87924,     0.87896,     0.87883,     0.87853,     0.87852,     0.87861,     0.87876,     0.87885,\n",
       "            0.87885,     0.87875,     0.87871,     0.87879,     0.87867,     0.87878,     0.87847,     0.87861,     0.87869,     0.87863,     0.87869,     0.87872,     0.87858,     0.87844,     0.87865,     0.87848,     0.87862,     0.87906,     0.87928,     0.87914,     0.87914,      0.8787,     0.87831,\n",
       "            0.87855,      0.8787,     0.87859,     0.87852,     0.87849,     0.87854,     0.87837,     0.87832,     0.87815,     0.87875,     0.87867,     0.87851,     0.87855,     0.87864,     0.87863,     0.87869,     0.87856,     0.87851,     0.87826,     0.87855,     0.87867,      0.8789,     0.87898,\n",
       "            0.87868,     0.87856,     0.87835,     0.87826,      0.8785,     0.87861,     0.87877,     0.87862,     0.87866,     0.87885,     0.87863,     0.87863,     0.87841,     0.87811,     0.87822,     0.87835,     0.87829,     0.87818,     0.87826,     0.87819,     0.87815,     0.87794,     0.87769,\n",
       "            0.87803,     0.87782,     0.87774,     0.87757,      0.8775,      0.8772,     0.87689,     0.87615,     0.87603,     0.87575,     0.87528,     0.87521,     0.87521,     0.87564,     0.87564,     0.87539,     0.87495,     0.87442,     0.87391,     0.87396,     0.87434,     0.87389,     0.87371,\n",
       "            0.87363,      0.8737,      0.8734,     0.87313,     0.87317,     0.87304,     0.87304,     0.87271,     0.87267,      0.8726,     0.87262,     0.87215,     0.87236,     0.87244,      0.8722,     0.87193,     0.87194,     0.87194,     0.87207,     0.87158,     0.87136,     0.87137,     0.87125,\n",
       "             0.8715,     0.87147,     0.87136,     0.87121,     0.87127,     0.87107,     0.87117,     0.87138,     0.87148,     0.87133,     0.87104,     0.87091,     0.87065,      0.8701,     0.87009,     0.87009,     0.87021,     0.86952,     0.86917,     0.86875,     0.86878,      0.8684,     0.86798,\n",
       "            0.86746,     0.86729,     0.86763,     0.86725,      0.8666,     0.86646,     0.86623,     0.86545,     0.86485,     0.86431,     0.86385,     0.86356,     0.86331,     0.86275,     0.86241,     0.86215,     0.86207,      0.8617,     0.86144,     0.86109,     0.86065,      0.8601,     0.85969,\n",
       "            0.85848,     0.85791,     0.85731,     0.85727,     0.85662,     0.85644,     0.85619,     0.85482,     0.85454,      0.8538,     0.85338,     0.85268,     0.85255,      0.8521,      0.8521,     0.85172,     0.85099,     0.84996,     0.84926,     0.84899,     0.84847,     0.84793,     0.84788,\n",
       "            0.84738,     0.84681,     0.84599,     0.84564,     0.84534,     0.84511,     0.84416,     0.84414,     0.84407,     0.84363,     0.84324,      0.8425,     0.84229,     0.84204,     0.84119,     0.84032,     0.83951,     0.83864,     0.83829,     0.83779,     0.83726,     0.83641,     0.83566,\n",
       "            0.83499,      0.8348,     0.83371,     0.83246,     0.83087,     0.83044,     0.82945,     0.82802,     0.82709,     0.82565,     0.82492,      0.8245,     0.82329,     0.82221,     0.82073,     0.81965,     0.81904,     0.81841,     0.81735,     0.81587,     0.81461,     0.81357,     0.81199,\n",
       "            0.81155,     0.81077,     0.81026,     0.80838,     0.80681,     0.80534,     0.80376,     0.80197,     0.80049,      0.7995,     0.79777,      0.7967,     0.79383,     0.79254,     0.79059,     0.78914,     0.78791,     0.78687,     0.78565,     0.78435,     0.78378,     0.78166,     0.78029,\n",
       "            0.77896,     0.77692,     0.77627,     0.77396,     0.77256,     0.77171,     0.76953,     0.76828,     0.76692,     0.76593,     0.76489,     0.76283,     0.76149,     0.75938,     0.75723,     0.75549,      0.7538,     0.75226,     0.75185,     0.75062,     0.74924,     0.74818,     0.74685,\n",
       "            0.74537,     0.74328,      0.7412,     0.73993,     0.73829,      0.7368,     0.73467,     0.73248,     0.73048,      0.7283,     0.72592,     0.72455,     0.72249,     0.71944,     0.71658,     0.71392,     0.71134,     0.70922,     0.70739,     0.70496,     0.70235,     0.69925,     0.69733,\n",
       "            0.69452,     0.69267,     0.68999,     0.68629,     0.68378,     0.68176,     0.67908,     0.67657,     0.67368,     0.67209,     0.67092,     0.66847,     0.66557,     0.66309,      0.6603,     0.65766,     0.65461,     0.65216,     0.64786,     0.64524,     0.64278,     0.63867,     0.63482,\n",
       "            0.63106,     0.62815,     0.62522,      0.6206,      0.6171,     0.61424,     0.60936,     0.60524,     0.60015,     0.59648,     0.59305,     0.58989,     0.58543,      0.5806,     0.57694,     0.57235,     0.56834,     0.56341,     0.55816,     0.55389,     0.54671,     0.54014,     0.53354,\n",
       "            0.52831,     0.52327,     0.51691,     0.51119,     0.50412,     0.49665,     0.48705,     0.48145,     0.47423,     0.46676,     0.46216,     0.45544,      0.4499,     0.44407,     0.43746,     0.43177,     0.42573,     0.42067,     0.41703,     0.41069,     0.40378,     0.39932,     0.39263,\n",
       "            0.38715,     0.38122,     0.37507,     0.36996,     0.36502,     0.35779,     0.35286,     0.34657,     0.34069,     0.33656,      0.3287,     0.31957,     0.31364,      0.3104,     0.30331,     0.29817,     0.29235,     0.28693,     0.27926,     0.27246,     0.26702,     0.26191,     0.25624,\n",
       "            0.24853,     0.24154,     0.23501,     0.22838,     0.22148,       0.215,      0.2085,     0.20278,     0.19472,     0.18646,      0.1801,      0.1721,     0.16563,     0.15302,     0.14392,     0.13389,     0.12395,     0.11683,     0.10848,     0.10038,     0.09227,    0.083524,    0.078974,\n",
       "           0.071814,    0.065216,    0.059986,    0.053609,    0.049633,     0.04398,    0.039645,    0.035496,    0.031375,    0.027082,    0.023898,     0.02053,    0.016828,    0.013625,    0.010105,   0.0089143,   0.0071235,   0.0043283,   0.0028851,   0.0025064,   0.0023551,   0.0022038,   0.0011516,\n",
       "         0.00093321,  0.00074533,  0.00039435,           0,           0,           0,           0,           0,           0,           0,           0,           0,           0,           0,           0,           0,           0,           0,           0,           0,           0,           0,           0,\n",
       "                  0,           0,           0,           0,           0,           0,           0,           0,           0,           0,           0,           0,           0,           0,           0,           0,           0,           0,           0,           0,           0,           0,           0,\n",
       "                  0,           0,           0,           0,           0,           0,           0,           0,           0,           0,           0,           0,           0,           0,           0,           0,           0,           0,           0,           0,           0,           0,           0,\n",
       "                  0,           0,           0,           0,           0,           0,           0,           0,           0,           0,           0]]), 'Confidence', 'F1'], [array([          0,    0.001001,    0.002002,    0.003003,    0.004004,    0.005005,    0.006006,    0.007007,    0.008008,    0.009009,     0.01001,    0.011011,    0.012012,    0.013013,    0.014014,    0.015015,    0.016016,    0.017017,    0.018018,    0.019019,     0.02002,    0.021021,    0.022022,    0.023023,\n",
       "          0.024024,    0.025025,    0.026026,    0.027027,    0.028028,    0.029029,     0.03003,    0.031031,    0.032032,    0.033033,    0.034034,    0.035035,    0.036036,    0.037037,    0.038038,    0.039039,     0.04004,    0.041041,    0.042042,    0.043043,    0.044044,    0.045045,    0.046046,    0.047047,\n",
       "          0.048048,    0.049049,     0.05005,    0.051051,    0.052052,    0.053053,    0.054054,    0.055055,    0.056056,    0.057057,    0.058058,    0.059059,     0.06006,    0.061061,    0.062062,    0.063063,    0.064064,    0.065065,    0.066066,    0.067067,    0.068068,    0.069069,     0.07007,    0.071071,\n",
       "          0.072072,    0.073073,    0.074074,    0.075075,    0.076076,    0.077077,    0.078078,    0.079079,     0.08008,    0.081081,    0.082082,    0.083083,    0.084084,    0.085085,    0.086086,    0.087087,    0.088088,    0.089089,     0.09009,    0.091091,    0.092092,    0.093093,    0.094094,    0.095095,\n",
       "          0.096096,    0.097097,    0.098098,    0.099099,      0.1001,      0.1011,      0.1021,      0.1031,      0.1041,     0.10511,     0.10611,     0.10711,     0.10811,     0.10911,     0.11011,     0.11111,     0.11211,     0.11311,     0.11411,     0.11512,     0.11612,     0.11712,     0.11812,     0.11912,\n",
       "           0.12012,     0.12112,     0.12212,     0.12312,     0.12412,     0.12513,     0.12613,     0.12713,     0.12813,     0.12913,     0.13013,     0.13113,     0.13213,     0.13313,     0.13413,     0.13514,     0.13614,     0.13714,     0.13814,     0.13914,     0.14014,     0.14114,     0.14214,     0.14314,\n",
       "           0.14414,     0.14515,     0.14615,     0.14715,     0.14815,     0.14915,     0.15015,     0.15115,     0.15215,     0.15315,     0.15415,     0.15516,     0.15616,     0.15716,     0.15816,     0.15916,     0.16016,     0.16116,     0.16216,     0.16316,     0.16416,     0.16517,     0.16617,     0.16717,\n",
       "           0.16817,     0.16917,     0.17017,     0.17117,     0.17217,     0.17317,     0.17417,     0.17518,     0.17618,     0.17718,     0.17818,     0.17918,     0.18018,     0.18118,     0.18218,     0.18318,     0.18418,     0.18519,     0.18619,     0.18719,     0.18819,     0.18919,     0.19019,     0.19119,\n",
       "           0.19219,     0.19319,     0.19419,      0.1952,      0.1962,      0.1972,      0.1982,      0.1992,      0.2002,      0.2012,      0.2022,      0.2032,      0.2042,     0.20521,     0.20621,     0.20721,     0.20821,     0.20921,     0.21021,     0.21121,     0.21221,     0.21321,     0.21421,     0.21522,\n",
       "           0.21622,     0.21722,     0.21822,     0.21922,     0.22022,     0.22122,     0.22222,     0.22322,     0.22422,     0.22523,     0.22623,     0.22723,     0.22823,     0.22923,     0.23023,     0.23123,     0.23223,     0.23323,     0.23423,     0.23524,     0.23624,     0.23724,     0.23824,     0.23924,\n",
       "           0.24024,     0.24124,     0.24224,     0.24324,     0.24424,     0.24525,     0.24625,     0.24725,     0.24825,     0.24925,     0.25025,     0.25125,     0.25225,     0.25325,     0.25425,     0.25526,     0.25626,     0.25726,     0.25826,     0.25926,     0.26026,     0.26126,     0.26226,     0.26326,\n",
       "           0.26426,     0.26527,     0.26627,     0.26727,     0.26827,     0.26927,     0.27027,     0.27127,     0.27227,     0.27327,     0.27427,     0.27528,     0.27628,     0.27728,     0.27828,     0.27928,     0.28028,     0.28128,     0.28228,     0.28328,     0.28428,     0.28529,     0.28629,     0.28729,\n",
       "           0.28829,     0.28929,     0.29029,     0.29129,     0.29229,     0.29329,     0.29429,      0.2953,      0.2963,      0.2973,      0.2983,      0.2993,      0.3003,      0.3013,      0.3023,      0.3033,      0.3043,     0.30531,     0.30631,     0.30731,     0.30831,     0.30931,     0.31031,     0.31131,\n",
       "           0.31231,     0.31331,     0.31431,     0.31532,     0.31632,     0.31732,     0.31832,     0.31932,     0.32032,     0.32132,     0.32232,     0.32332,     0.32432,     0.32533,     0.32633,     0.32733,     0.32833,     0.32933,     0.33033,     0.33133,     0.33233,     0.33333,     0.33433,     0.33534,\n",
       "           0.33634,     0.33734,     0.33834,     0.33934,     0.34034,     0.34134,     0.34234,     0.34334,     0.34434,     0.34535,     0.34635,     0.34735,     0.34835,     0.34935,     0.35035,     0.35135,     0.35235,     0.35335,     0.35435,     0.35536,     0.35636,     0.35736,     0.35836,     0.35936,\n",
       "           0.36036,     0.36136,     0.36236,     0.36336,     0.36436,     0.36537,     0.36637,     0.36737,     0.36837,     0.36937,     0.37037,     0.37137,     0.37237,     0.37337,     0.37437,     0.37538,     0.37638,     0.37738,     0.37838,     0.37938,     0.38038,     0.38138,     0.38238,     0.38338,\n",
       "           0.38438,     0.38539,     0.38639,     0.38739,     0.38839,     0.38939,     0.39039,     0.39139,     0.39239,     0.39339,     0.39439,      0.3954,      0.3964,      0.3974,      0.3984,      0.3994,      0.4004,      0.4014,      0.4024,      0.4034,      0.4044,     0.40541,     0.40641,     0.40741,\n",
       "           0.40841,     0.40941,     0.41041,     0.41141,     0.41241,     0.41341,     0.41441,     0.41542,     0.41642,     0.41742,     0.41842,     0.41942,     0.42042,     0.42142,     0.42242,     0.42342,     0.42442,     0.42543,     0.42643,     0.42743,     0.42843,     0.42943,     0.43043,     0.43143,\n",
       "           0.43243,     0.43343,     0.43443,     0.43544,     0.43644,     0.43744,     0.43844,     0.43944,     0.44044,     0.44144,     0.44244,     0.44344,     0.44444,     0.44545,     0.44645,     0.44745,     0.44845,     0.44945,     0.45045,     0.45145,     0.45245,     0.45345,     0.45445,     0.45546,\n",
       "           0.45646,     0.45746,     0.45846,     0.45946,     0.46046,     0.46146,     0.46246,     0.46346,     0.46446,     0.46547,     0.46647,     0.46747,     0.46847,     0.46947,     0.47047,     0.47147,     0.47247,     0.47347,     0.47447,     0.47548,     0.47648,     0.47748,     0.47848,     0.47948,\n",
       "           0.48048,     0.48148,     0.48248,     0.48348,     0.48448,     0.48549,     0.48649,     0.48749,     0.48849,     0.48949,     0.49049,     0.49149,     0.49249,     0.49349,     0.49449,      0.4955,      0.4965,      0.4975,      0.4985,      0.4995,      0.5005,      0.5015,      0.5025,      0.5035,\n",
       "            0.5045,     0.50551,     0.50651,     0.50751,     0.50851,     0.50951,     0.51051,     0.51151,     0.51251,     0.51351,     0.51451,     0.51552,     0.51652,     0.51752,     0.51852,     0.51952,     0.52052,     0.52152,     0.52252,     0.52352,     0.52452,     0.52553,     0.52653,     0.52753,\n",
       "           0.52853,     0.52953,     0.53053,     0.53153,     0.53253,     0.53353,     0.53453,     0.53554,     0.53654,     0.53754,     0.53854,     0.53954,     0.54054,     0.54154,     0.54254,     0.54354,     0.54454,     0.54555,     0.54655,     0.54755,     0.54855,     0.54955,     0.55055,     0.55155,\n",
       "           0.55255,     0.55355,     0.55455,     0.55556,     0.55656,     0.55756,     0.55856,     0.55956,     0.56056,     0.56156,     0.56256,     0.56356,     0.56456,     0.56557,     0.56657,     0.56757,     0.56857,     0.56957,     0.57057,     0.57157,     0.57257,     0.57357,     0.57457,     0.57558,\n",
       "           0.57658,     0.57758,     0.57858,     0.57958,     0.58058,     0.58158,     0.58258,     0.58358,     0.58458,     0.58559,     0.58659,     0.58759,     0.58859,     0.58959,     0.59059,     0.59159,     0.59259,     0.59359,     0.59459,      0.5956,      0.5966,      0.5976,      0.5986,      0.5996,\n",
       "            0.6006,      0.6016,      0.6026,      0.6036,      0.6046,     0.60561,     0.60661,     0.60761,     0.60861,     0.60961,     0.61061,     0.61161,     0.61261,     0.61361,     0.61461,     0.61562,     0.61662,     0.61762,     0.61862,     0.61962,     0.62062,     0.62162,     0.62262,     0.62362,\n",
       "           0.62462,     0.62563,     0.62663,     0.62763,     0.62863,     0.62963,     0.63063,     0.63163,     0.63263,     0.63363,     0.63463,     0.63564,     0.63664,     0.63764,     0.63864,     0.63964,     0.64064,     0.64164,     0.64264,     0.64364,     0.64464,     0.64565,     0.64665,     0.64765,\n",
       "           0.64865,     0.64965,     0.65065,     0.65165,     0.65265,     0.65365,     0.65465,     0.65566,     0.65666,     0.65766,     0.65866,     0.65966,     0.66066,     0.66166,     0.66266,     0.66366,     0.66466,     0.66567,     0.66667,     0.66767,     0.66867,     0.66967,     0.67067,     0.67167,\n",
       "           0.67267,     0.67367,     0.67467,     0.67568,     0.67668,     0.67768,     0.67868,     0.67968,     0.68068,     0.68168,     0.68268,     0.68368,     0.68468,     0.68569,     0.68669,     0.68769,     0.68869,     0.68969,     0.69069,     0.69169,     0.69269,     0.69369,     0.69469,      0.6957,\n",
       "            0.6967,      0.6977,      0.6987,      0.6997,      0.7007,      0.7017,      0.7027,      0.7037,      0.7047,     0.70571,     0.70671,     0.70771,     0.70871,     0.70971,     0.71071,     0.71171,     0.71271,     0.71371,     0.71471,     0.71572,     0.71672,     0.71772,     0.71872,     0.71972,\n",
       "           0.72072,     0.72172,     0.72272,     0.72372,     0.72472,     0.72573,     0.72673,     0.72773,     0.72873,     0.72973,     0.73073,     0.73173,     0.73273,     0.73373,     0.73473,     0.73574,     0.73674,     0.73774,     0.73874,     0.73974,     0.74074,     0.74174,     0.74274,     0.74374,\n",
       "           0.74474,     0.74575,     0.74675,     0.74775,     0.74875,     0.74975,     0.75075,     0.75175,     0.75275,     0.75375,     0.75475,     0.75576,     0.75676,     0.75776,     0.75876,     0.75976,     0.76076,     0.76176,     0.76276,     0.76376,     0.76476,     0.76577,     0.76677,     0.76777,\n",
       "           0.76877,     0.76977,     0.77077,     0.77177,     0.77277,     0.77377,     0.77477,     0.77578,     0.77678,     0.77778,     0.77878,     0.77978,     0.78078,     0.78178,     0.78278,     0.78378,     0.78478,     0.78579,     0.78679,     0.78779,     0.78879,     0.78979,     0.79079,     0.79179,\n",
       "           0.79279,     0.79379,     0.79479,      0.7958,      0.7968,      0.7978,      0.7988,      0.7998,      0.8008,      0.8018,      0.8028,      0.8038,      0.8048,     0.80581,     0.80681,     0.80781,     0.80881,     0.80981,     0.81081,     0.81181,     0.81281,     0.81381,     0.81481,     0.81582,\n",
       "           0.81682,     0.81782,     0.81882,     0.81982,     0.82082,     0.82182,     0.82282,     0.82382,     0.82482,     0.82583,     0.82683,     0.82783,     0.82883,     0.82983,     0.83083,     0.83183,     0.83283,     0.83383,     0.83483,     0.83584,     0.83684,     0.83784,     0.83884,     0.83984,\n",
       "           0.84084,     0.84184,     0.84284,     0.84384,     0.84484,     0.84585,     0.84685,     0.84785,     0.84885,     0.84985,     0.85085,     0.85185,     0.85285,     0.85385,     0.85485,     0.85586,     0.85686,     0.85786,     0.85886,     0.85986,     0.86086,     0.86186,     0.86286,     0.86386,\n",
       "           0.86486,     0.86587,     0.86687,     0.86787,     0.86887,     0.86987,     0.87087,     0.87187,     0.87287,     0.87387,     0.87487,     0.87588,     0.87688,     0.87788,     0.87888,     0.87988,     0.88088,     0.88188,     0.88288,     0.88388,     0.88488,     0.88589,     0.88689,     0.88789,\n",
       "           0.88889,     0.88989,     0.89089,     0.89189,     0.89289,     0.89389,     0.89489,      0.8959,      0.8969,      0.8979,      0.8989,      0.8999,      0.9009,      0.9019,      0.9029,      0.9039,      0.9049,     0.90591,     0.90691,     0.90791,     0.90891,     0.90991,     0.91091,     0.91191,\n",
       "           0.91291,     0.91391,     0.91491,     0.91592,     0.91692,     0.91792,     0.91892,     0.91992,     0.92092,     0.92192,     0.92292,     0.92392,     0.92492,     0.92593,     0.92693,     0.92793,     0.92893,     0.92993,     0.93093,     0.93193,     0.93293,     0.93393,     0.93493,     0.93594,\n",
       "           0.93694,     0.93794,     0.93894,     0.93994,     0.94094,     0.94194,     0.94294,     0.94394,     0.94494,     0.94595,     0.94695,     0.94795,     0.94895,     0.94995,     0.95095,     0.95195,     0.95295,     0.95395,     0.95495,     0.95596,     0.95696,     0.95796,     0.95896,     0.95996,\n",
       "           0.96096,     0.96196,     0.96296,     0.96396,     0.96496,     0.96597,     0.96697,     0.96797,     0.96897,     0.96997,     0.97097,     0.97197,     0.97297,     0.97397,     0.97497,     0.97598,     0.97698,     0.97798,     0.97898,     0.97998,     0.98098,     0.98198,     0.98298,     0.98398,\n",
       "           0.98498,     0.98599,     0.98699,     0.98799,     0.98899,     0.98999,     0.99099,     0.99199,     0.99299,     0.99399,     0.99499,       0.996,       0.997,       0.998,       0.999,           1]), array([[    0.16694,     0.16694,     0.16716,     0.17652,     0.19472,     0.21442,     0.23417,     0.25325,     0.27029,     0.28591,     0.29975,     0.31334,     0.32513,     0.33567,     0.34529,     0.35432,     0.36337,     0.37148,     0.37925,      0.3857,     0.39233,     0.39873,     0.40565,\n",
       "             0.4124,     0.41823,     0.42363,     0.42884,     0.43361,     0.43791,     0.44306,     0.44879,     0.45441,     0.45918,     0.46334,     0.46779,     0.47201,     0.47609,     0.47981,     0.48388,     0.48761,      0.4909,     0.49415,     0.49714,     0.50117,     0.50506,     0.50781,\n",
       "            0.51031,     0.51412,     0.51663,     0.51922,     0.52218,     0.52485,     0.52751,     0.52952,     0.53218,     0.53464,     0.53734,     0.53965,     0.54178,     0.54388,     0.54589,     0.54793,      0.5497,     0.55206,     0.55439,     0.55674,     0.55891,     0.56116,     0.56392,\n",
       "            0.56584,     0.56819,     0.57038,     0.57255,     0.57367,     0.57542,     0.57727,     0.57909,     0.58105,     0.58316,     0.58518,     0.58721,     0.58956,     0.59095,     0.59218,     0.59389,     0.59539,     0.59725,     0.59836,     0.59983,     0.60143,     0.60275,     0.60446,\n",
       "            0.60565,     0.60716,     0.60856,     0.60996,     0.61167,     0.61336,     0.61438,     0.61592,     0.61759,     0.61888,     0.62045,      0.6222,     0.62365,     0.62515,     0.62651,     0.62773,      0.6292,     0.63051,      0.6313,     0.63185,     0.63343,     0.63555,     0.63675,\n",
       "            0.63822,     0.63949,      0.6409,     0.64259,     0.64422,      0.6458,     0.64654,     0.64754,     0.64885,     0.65009,     0.65154,     0.65281,      0.6536,     0.65448,     0.65619,     0.65708,      0.6583,     0.65987,     0.66128,     0.66249,     0.66301,     0.66418,     0.66494,\n",
       "            0.66555,      0.6662,     0.66699,     0.66769,     0.66861,     0.66937,     0.67076,     0.67127,     0.67211,     0.67317,     0.67422,     0.67625,     0.67718,     0.67811,     0.67902,      0.6801,     0.68101,     0.68157,     0.68235,     0.68301,      0.6838,     0.68483,     0.68563,\n",
       "            0.68653,     0.68796,     0.68889,     0.68999,     0.69094,     0.69184,     0.69313,     0.69387,     0.69498,     0.69582,     0.69695,     0.69802,     0.69929,     0.69944,     0.69988,     0.70035,     0.70113,     0.70188,     0.70258,     0.70352,     0.70416,     0.70479,     0.70575,\n",
       "            0.70696,     0.70763,     0.70816,     0.70955,     0.71063,     0.71114,     0.71224,     0.71302,     0.71358,     0.71439,     0.71529,     0.71586,     0.71628,     0.71688,     0.71778,     0.71829,     0.71892,     0.72014,     0.72081,     0.72132,     0.72182,     0.72246,     0.72282,\n",
       "            0.72354,     0.72419,     0.72464,      0.7253,     0.72639,     0.72696,     0.72778,     0.72848,     0.72925,     0.73006,     0.73093,     0.73182,     0.73275,     0.73366,     0.73418,     0.73484,     0.73579,     0.73625,     0.73692,     0.73737,     0.73799,      0.7391,     0.73928,\n",
       "            0.74009,     0.74106,     0.74198,     0.74275,     0.74393,     0.74448,     0.74525,     0.74562,      0.7462,     0.74662,     0.74733,     0.74793,     0.74858,     0.74943,      0.7498,     0.75068,     0.75133,     0.75185,     0.75252,     0.75314,     0.75323,      0.7539,      0.7548,\n",
       "            0.75546,     0.75588,     0.75644,     0.75736,     0.75789,     0.75852,     0.75908,     0.75914,     0.75927,     0.75934,     0.76021,     0.76063,     0.76145,     0.76208,     0.76303,     0.76337,     0.76352,      0.7637,     0.76432,     0.76454,     0.76477,     0.76579,     0.76604,\n",
       "            0.76643,     0.76674,     0.76711,     0.76765,     0.76802,     0.76876,     0.76916,     0.76946,     0.77018,     0.77042,     0.77078,     0.77129,     0.77209,     0.77296,     0.77352,     0.77421,     0.77422,     0.77485,     0.77564,     0.77615,     0.77666,     0.77715,     0.77783,\n",
       "            0.77847,     0.77919,     0.78042,     0.78093,     0.78154,     0.78181,     0.78232,     0.78256,     0.78325,     0.78375,     0.78473,     0.78526,     0.78598,     0.78651,     0.78696,       0.788,     0.78893,     0.78979,     0.79081,     0.79205,      0.7925,     0.79322,     0.79405,\n",
       "            0.79459,     0.79584,     0.79616,     0.79635,     0.79713,     0.79805,     0.79864,     0.79939,      0.8002,     0.80131,     0.80222,     0.80268,     0.80322,     0.80387,     0.80479,     0.80563,      0.8057,     0.80625,     0.80691,     0.80722,     0.80776,     0.80841,     0.80912,\n",
       "            0.80979,      0.8105,     0.81112,     0.81175,     0.81214,     0.81261,     0.81284,     0.81314,     0.81402,     0.81435,     0.81469,     0.81538,     0.81584,     0.81613,     0.81688,      0.8178,     0.81829,     0.81899,      0.8197,     0.82058,     0.82109,     0.82165,     0.82175,\n",
       "            0.82268,     0.82304,     0.82361,     0.82447,     0.82512,     0.82523,     0.82585,     0.82644,     0.82671,     0.82682,     0.82748,     0.82808,     0.82839,     0.82904,     0.82945,     0.82954,     0.83003,     0.83061,     0.83102,     0.83164,     0.83218,     0.83269,     0.83312,\n",
       "            0.83354,     0.83388,     0.83432,     0.83448,     0.83487,     0.83551,     0.83564,     0.83585,     0.83581,     0.83672,     0.83768,     0.83802,     0.83825,      0.8387,     0.83909,     0.83911,     0.83945,      0.8397,     0.84062,     0.84074,       0.841,     0.84191,     0.84229,\n",
       "            0.84294,     0.84313,     0.84351,     0.84404,     0.84412,     0.84426,     0.84434,     0.84459,     0.84472,     0.84561,     0.84602,     0.84649,     0.84682,     0.84674,     0.84695,     0.84784,     0.84838,     0.84859,     0.84905,     0.84919,     0.84977,     0.85023,     0.85062,\n",
       "            0.85119,      0.8522,     0.85249,     0.85262,      0.8532,     0.85381,      0.8544,     0.85555,     0.85566,     0.85616,     0.85696,     0.85712,     0.85715,     0.85744,     0.85792,     0.85795,     0.85805,     0.85805,     0.85835,      0.8588,      0.8596,     0.85996,     0.86031,\n",
       "             0.8611,     0.86136,     0.86177,     0.86225,     0.86257,     0.86263,     0.86306,     0.86314,     0.86313,     0.86311,     0.86303,     0.86356,     0.86404,     0.86411,     0.86466,     0.86507,     0.86529,     0.86552,     0.86545,     0.86556,     0.86608,     0.86638,     0.86661,\n",
       "            0.86688,     0.86699,     0.86712,     0.86747,     0.86765,     0.86836,     0.86829,     0.86904,      0.8693,     0.86942,     0.86989,     0.87013,      0.8701,     0.87027,     0.87081,     0.87107,     0.87134,      0.8722,     0.87264,     0.87286,     0.87325,     0.87328,     0.87337,\n",
       "            0.87413,     0.87471,     0.87527,     0.87567,     0.87581,     0.87602,     0.87621,      0.8763,      0.8763,     0.87771,     0.87812,     0.87831,     0.87867,     0.87895,     0.87912,     0.87956,     0.87997,     0.88025,      0.8802,     0.88078,     0.88115,     0.88185,      0.8822,\n",
       "            0.88231,     0.88273,     0.88283,     0.88298,     0.88365,     0.88405,     0.88468,     0.88479,     0.88549,     0.88602,     0.88598,     0.88642,     0.88638,     0.88644,     0.88705,      0.8877,     0.88855,     0.88869,     0.88949,     0.88967,     0.88992,     0.89012,      0.8902,\n",
       "            0.89089,     0.89122,     0.89151,     0.89147,     0.89174,      0.8917,     0.89164,     0.89169,     0.89193,     0.89203,     0.89209,     0.89223,     0.89249,     0.89339,     0.89355,     0.89365,     0.89414,     0.89409,     0.89416,     0.89462,     0.89546,     0.89554,     0.89598,\n",
       "            0.89618,     0.89675,     0.89712,     0.89713,     0.89729,     0.89759,     0.89774,     0.89768,     0.89799,     0.89809,     0.89855,     0.89878,     0.89963,     0.90002,     0.90046,     0.90057,     0.90105,     0.90124,     0.90156,     0.90151,     0.90207,     0.90252,     0.90287,\n",
       "            0.90373,     0.90421,     0.90503,     0.90556,     0.90664,     0.90697,     0.90717,     0.90849,     0.90916,     0.90925,     0.90942,      0.9099,     0.91003,     0.91003,     0.91046,     0.91094,     0.91164,     0.91183,     0.91218,     0.91242,     0.91286,     0.91336,     0.91349,\n",
       "            0.91358,     0.91372,     0.91479,     0.91544,     0.91551,     0.91602,     0.91614,     0.91637,     0.91628,     0.91671,     0.91682,     0.91677,     0.91674,     0.91718,     0.91748,     0.91784,     0.91834,     0.91878,      0.9191,     0.91916,     0.91934,     0.91943,     0.91973,\n",
       "            0.91954,     0.91964,     0.91955,      0.9197,     0.91998,     0.92043,     0.92119,     0.92117,     0.92149,     0.92138,      0.9215,      0.9214,     0.92175,     0.92186,     0.92242,     0.92236,     0.92262,     0.92247,     0.92256,      0.9227,       0.923,     0.92292,      0.9231,\n",
       "            0.92321,     0.92332,     0.92327,     0.92352,     0.92348,     0.92345,      0.9235,       0.924,     0.92461,     0.92493,     0.92507,     0.92496,     0.92532,     0.92528,     0.92526,     0.92523,      0.9253,     0.92537,     0.92552,     0.92583,     0.92595,     0.92583,     0.92592,\n",
       "            0.92617,     0.92658,     0.92681,     0.92664,     0.92642,     0.92695,     0.92701,      0.9271,     0.92747,     0.92747,     0.92757,     0.92771,     0.92795,     0.92809,       0.928,     0.92805,     0.92797,     0.92849,     0.92835,     0.92814,     0.92797,     0.92844,     0.92823,\n",
       "            0.92872,     0.92941,     0.92961,      0.9294,     0.92942,     0.93004,     0.93003,     0.93064,     0.93066,     0.93096,     0.93072,     0.93101,     0.93084,     0.93111,     0.93107,     0.93153,     0.93181,     0.93189,     0.93218,     0.93201,     0.93305,       0.933,      0.9335,\n",
       "            0.93355,     0.93329,     0.93389,     0.93405,      0.9341,     0.93445,      0.9344,     0.93494,     0.93547,     0.93582,      0.9364,     0.93624,     0.93669,     0.93642,     0.93639,     0.93666,     0.93693,     0.93726,     0.93803,     0.93875,     0.93933,     0.93995,     0.94029,\n",
       "            0.94036,     0.94037,     0.94037,     0.94047,      0.9413,     0.94138,     0.94139,     0.94139,     0.94168,     0.94168,     0.94193,     0.94277,     0.94312,     0.94277,     0.94371,     0.94349,     0.94429,     0.94544,     0.94523,     0.94608,     0.94693,     0.94716,     0.94752,\n",
       "            0.94762,     0.94906,     0.95025,     0.95016,      0.9514,     0.95232,      0.9546,     0.95622,     0.95689,     0.95816,     0.95982,     0.96025,     0.96202,     0.96339,     0.96416,      0.9653,     0.96642,     0.96782,     0.96834,     0.96885,     0.96938,     0.96946,     0.97063,\n",
       "            0.97148,     0.97129,     0.97258,     0.97304,     0.97358,     0.97455,     0.97466,     0.97441,      0.9749,     0.97629,     0.97732,     0.97756,     0.97774,     0.97748,     0.97771,     0.97789,     0.97811,     0.97916,      0.9789,     0.97958,     0.97967,     0.97981,     0.98042,\n",
       "            0.98113,     0.98089,     0.98058,     0.98079,     0.98147,     0.98216,     0.98387,     0.98473,     0.98443,     0.98411,     0.98449,     0.98539,     0.98577,     0.98615,     0.98588,     0.98629,      0.9867,     0.98716,     0.98769,     0.98814,     0.98789,     0.98844,     0.98892,\n",
       "            0.98947,     0.99003,     0.98983,     0.98965,     0.99028,     0.99005,     0.98988,     0.99136,     0.99118,     0.99105,      0.9908,     0.99049,     0.99028,     0.99113,     0.99189,     0.99208,     0.99258,     0.99242,     0.99218,      0.9931,     0.99293,     0.99397,     0.99382,\n",
       "             0.9936,     0.99339,     0.99318,     0.99296,     0.99271,     0.99247,     0.99221,     0.99197,      0.9916,     0.99119,     0.99085,     0.99039,     0.99197,     0.99342,     0.99531,     0.99493,     0.99449,     0.99414,     0.99366,           1,           1,           1,           1,\n",
       "                  1,           1,           1,           1,           1,           1,           1,           1,           1,           1,           1,           1,           1,           1,           1,           1,           1,           1,           1,           1,           1,           1,           1,\n",
       "                  1,           1,           1,           1,           1,           1,           1,           1,           1,           1,           1,           1,           1,           1,           1,           1,           1,           1,           1,           1,           1,           1,           1,\n",
       "                  1,           1,           1,           1,           1,           1,           1,           1,           1,           1,           1,           1,           1,           1,           1,           1,           1,           1,           1,           1,           1,           1,           1,\n",
       "                  1,           1,           1,           1,           1,           1,           1,           1,           1,           1,           1,           1,           1,           1,           1,           1,           1,           1,           1,           1,           1,           1,           1,\n",
       "                  1,           1,           1,           1,           1,           1,           1,           1,           1,           1,           1]]), 'Confidence', 'Precision'], [array([          0,    0.001001,    0.002002,    0.003003,    0.004004,    0.005005,    0.006006,    0.007007,    0.008008,    0.009009,     0.01001,    0.011011,    0.012012,    0.013013,    0.014014,    0.015015,    0.016016,    0.017017,    0.018018,    0.019019,     0.02002,    0.021021,    0.022022,    0.023023,\n",
       "          0.024024,    0.025025,    0.026026,    0.027027,    0.028028,    0.029029,     0.03003,    0.031031,    0.032032,    0.033033,    0.034034,    0.035035,    0.036036,    0.037037,    0.038038,    0.039039,     0.04004,    0.041041,    0.042042,    0.043043,    0.044044,    0.045045,    0.046046,    0.047047,\n",
       "          0.048048,    0.049049,     0.05005,    0.051051,    0.052052,    0.053053,    0.054054,    0.055055,    0.056056,    0.057057,    0.058058,    0.059059,     0.06006,    0.061061,    0.062062,    0.063063,    0.064064,    0.065065,    0.066066,    0.067067,    0.068068,    0.069069,     0.07007,    0.071071,\n",
       "          0.072072,    0.073073,    0.074074,    0.075075,    0.076076,    0.077077,    0.078078,    0.079079,     0.08008,    0.081081,    0.082082,    0.083083,    0.084084,    0.085085,    0.086086,    0.087087,    0.088088,    0.089089,     0.09009,    0.091091,    0.092092,    0.093093,    0.094094,    0.095095,\n",
       "          0.096096,    0.097097,    0.098098,    0.099099,      0.1001,      0.1011,      0.1021,      0.1031,      0.1041,     0.10511,     0.10611,     0.10711,     0.10811,     0.10911,     0.11011,     0.11111,     0.11211,     0.11311,     0.11411,     0.11512,     0.11612,     0.11712,     0.11812,     0.11912,\n",
       "           0.12012,     0.12112,     0.12212,     0.12312,     0.12412,     0.12513,     0.12613,     0.12713,     0.12813,     0.12913,     0.13013,     0.13113,     0.13213,     0.13313,     0.13413,     0.13514,     0.13614,     0.13714,     0.13814,     0.13914,     0.14014,     0.14114,     0.14214,     0.14314,\n",
       "           0.14414,     0.14515,     0.14615,     0.14715,     0.14815,     0.14915,     0.15015,     0.15115,     0.15215,     0.15315,     0.15415,     0.15516,     0.15616,     0.15716,     0.15816,     0.15916,     0.16016,     0.16116,     0.16216,     0.16316,     0.16416,     0.16517,     0.16617,     0.16717,\n",
       "           0.16817,     0.16917,     0.17017,     0.17117,     0.17217,     0.17317,     0.17417,     0.17518,     0.17618,     0.17718,     0.17818,     0.17918,     0.18018,     0.18118,     0.18218,     0.18318,     0.18418,     0.18519,     0.18619,     0.18719,     0.18819,     0.18919,     0.19019,     0.19119,\n",
       "           0.19219,     0.19319,     0.19419,      0.1952,      0.1962,      0.1972,      0.1982,      0.1992,      0.2002,      0.2012,      0.2022,      0.2032,      0.2042,     0.20521,     0.20621,     0.20721,     0.20821,     0.20921,     0.21021,     0.21121,     0.21221,     0.21321,     0.21421,     0.21522,\n",
       "           0.21622,     0.21722,     0.21822,     0.21922,     0.22022,     0.22122,     0.22222,     0.22322,     0.22422,     0.22523,     0.22623,     0.22723,     0.22823,     0.22923,     0.23023,     0.23123,     0.23223,     0.23323,     0.23423,     0.23524,     0.23624,     0.23724,     0.23824,     0.23924,\n",
       "           0.24024,     0.24124,     0.24224,     0.24324,     0.24424,     0.24525,     0.24625,     0.24725,     0.24825,     0.24925,     0.25025,     0.25125,     0.25225,     0.25325,     0.25425,     0.25526,     0.25626,     0.25726,     0.25826,     0.25926,     0.26026,     0.26126,     0.26226,     0.26326,\n",
       "           0.26426,     0.26527,     0.26627,     0.26727,     0.26827,     0.26927,     0.27027,     0.27127,     0.27227,     0.27327,     0.27427,     0.27528,     0.27628,     0.27728,     0.27828,     0.27928,     0.28028,     0.28128,     0.28228,     0.28328,     0.28428,     0.28529,     0.28629,     0.28729,\n",
       "           0.28829,     0.28929,     0.29029,     0.29129,     0.29229,     0.29329,     0.29429,      0.2953,      0.2963,      0.2973,      0.2983,      0.2993,      0.3003,      0.3013,      0.3023,      0.3033,      0.3043,     0.30531,     0.30631,     0.30731,     0.30831,     0.30931,     0.31031,     0.31131,\n",
       "           0.31231,     0.31331,     0.31431,     0.31532,     0.31632,     0.31732,     0.31832,     0.31932,     0.32032,     0.32132,     0.32232,     0.32332,     0.32432,     0.32533,     0.32633,     0.32733,     0.32833,     0.32933,     0.33033,     0.33133,     0.33233,     0.33333,     0.33433,     0.33534,\n",
       "           0.33634,     0.33734,     0.33834,     0.33934,     0.34034,     0.34134,     0.34234,     0.34334,     0.34434,     0.34535,     0.34635,     0.34735,     0.34835,     0.34935,     0.35035,     0.35135,     0.35235,     0.35335,     0.35435,     0.35536,     0.35636,     0.35736,     0.35836,     0.35936,\n",
       "           0.36036,     0.36136,     0.36236,     0.36336,     0.36436,     0.36537,     0.36637,     0.36737,     0.36837,     0.36937,     0.37037,     0.37137,     0.37237,     0.37337,     0.37437,     0.37538,     0.37638,     0.37738,     0.37838,     0.37938,     0.38038,     0.38138,     0.38238,     0.38338,\n",
       "           0.38438,     0.38539,     0.38639,     0.38739,     0.38839,     0.38939,     0.39039,     0.39139,     0.39239,     0.39339,     0.39439,      0.3954,      0.3964,      0.3974,      0.3984,      0.3994,      0.4004,      0.4014,      0.4024,      0.4034,      0.4044,     0.40541,     0.40641,     0.40741,\n",
       "           0.40841,     0.40941,     0.41041,     0.41141,     0.41241,     0.41341,     0.41441,     0.41542,     0.41642,     0.41742,     0.41842,     0.41942,     0.42042,     0.42142,     0.42242,     0.42342,     0.42442,     0.42543,     0.42643,     0.42743,     0.42843,     0.42943,     0.43043,     0.43143,\n",
       "           0.43243,     0.43343,     0.43443,     0.43544,     0.43644,     0.43744,     0.43844,     0.43944,     0.44044,     0.44144,     0.44244,     0.44344,     0.44444,     0.44545,     0.44645,     0.44745,     0.44845,     0.44945,     0.45045,     0.45145,     0.45245,     0.45345,     0.45445,     0.45546,\n",
       "           0.45646,     0.45746,     0.45846,     0.45946,     0.46046,     0.46146,     0.46246,     0.46346,     0.46446,     0.46547,     0.46647,     0.46747,     0.46847,     0.46947,     0.47047,     0.47147,     0.47247,     0.47347,     0.47447,     0.47548,     0.47648,     0.47748,     0.47848,     0.47948,\n",
       "           0.48048,     0.48148,     0.48248,     0.48348,     0.48448,     0.48549,     0.48649,     0.48749,     0.48849,     0.48949,     0.49049,     0.49149,     0.49249,     0.49349,     0.49449,      0.4955,      0.4965,      0.4975,      0.4985,      0.4995,      0.5005,      0.5015,      0.5025,      0.5035,\n",
       "            0.5045,     0.50551,     0.50651,     0.50751,     0.50851,     0.50951,     0.51051,     0.51151,     0.51251,     0.51351,     0.51451,     0.51552,     0.51652,     0.51752,     0.51852,     0.51952,     0.52052,     0.52152,     0.52252,     0.52352,     0.52452,     0.52553,     0.52653,     0.52753,\n",
       "           0.52853,     0.52953,     0.53053,     0.53153,     0.53253,     0.53353,     0.53453,     0.53554,     0.53654,     0.53754,     0.53854,     0.53954,     0.54054,     0.54154,     0.54254,     0.54354,     0.54454,     0.54555,     0.54655,     0.54755,     0.54855,     0.54955,     0.55055,     0.55155,\n",
       "           0.55255,     0.55355,     0.55455,     0.55556,     0.55656,     0.55756,     0.55856,     0.55956,     0.56056,     0.56156,     0.56256,     0.56356,     0.56456,     0.56557,     0.56657,     0.56757,     0.56857,     0.56957,     0.57057,     0.57157,     0.57257,     0.57357,     0.57457,     0.57558,\n",
       "           0.57658,     0.57758,     0.57858,     0.57958,     0.58058,     0.58158,     0.58258,     0.58358,     0.58458,     0.58559,     0.58659,     0.58759,     0.58859,     0.58959,     0.59059,     0.59159,     0.59259,     0.59359,     0.59459,      0.5956,      0.5966,      0.5976,      0.5986,      0.5996,\n",
       "            0.6006,      0.6016,      0.6026,      0.6036,      0.6046,     0.60561,     0.60661,     0.60761,     0.60861,     0.60961,     0.61061,     0.61161,     0.61261,     0.61361,     0.61461,     0.61562,     0.61662,     0.61762,     0.61862,     0.61962,     0.62062,     0.62162,     0.62262,     0.62362,\n",
       "           0.62462,     0.62563,     0.62663,     0.62763,     0.62863,     0.62963,     0.63063,     0.63163,     0.63263,     0.63363,     0.63463,     0.63564,     0.63664,     0.63764,     0.63864,     0.63964,     0.64064,     0.64164,     0.64264,     0.64364,     0.64464,     0.64565,     0.64665,     0.64765,\n",
       "           0.64865,     0.64965,     0.65065,     0.65165,     0.65265,     0.65365,     0.65465,     0.65566,     0.65666,     0.65766,     0.65866,     0.65966,     0.66066,     0.66166,     0.66266,     0.66366,     0.66466,     0.66567,     0.66667,     0.66767,     0.66867,     0.66967,     0.67067,     0.67167,\n",
       "           0.67267,     0.67367,     0.67467,     0.67568,     0.67668,     0.67768,     0.67868,     0.67968,     0.68068,     0.68168,     0.68268,     0.68368,     0.68468,     0.68569,     0.68669,     0.68769,     0.68869,     0.68969,     0.69069,     0.69169,     0.69269,     0.69369,     0.69469,      0.6957,\n",
       "            0.6967,      0.6977,      0.6987,      0.6997,      0.7007,      0.7017,      0.7027,      0.7037,      0.7047,     0.70571,     0.70671,     0.70771,     0.70871,     0.70971,     0.71071,     0.71171,     0.71271,     0.71371,     0.71471,     0.71572,     0.71672,     0.71772,     0.71872,     0.71972,\n",
       "           0.72072,     0.72172,     0.72272,     0.72372,     0.72472,     0.72573,     0.72673,     0.72773,     0.72873,     0.72973,     0.73073,     0.73173,     0.73273,     0.73373,     0.73473,     0.73574,     0.73674,     0.73774,     0.73874,     0.73974,     0.74074,     0.74174,     0.74274,     0.74374,\n",
       "           0.74474,     0.74575,     0.74675,     0.74775,     0.74875,     0.74975,     0.75075,     0.75175,     0.75275,     0.75375,     0.75475,     0.75576,     0.75676,     0.75776,     0.75876,     0.75976,     0.76076,     0.76176,     0.76276,     0.76376,     0.76476,     0.76577,     0.76677,     0.76777,\n",
       "           0.76877,     0.76977,     0.77077,     0.77177,     0.77277,     0.77377,     0.77477,     0.77578,     0.77678,     0.77778,     0.77878,     0.77978,     0.78078,     0.78178,     0.78278,     0.78378,     0.78478,     0.78579,     0.78679,     0.78779,     0.78879,     0.78979,     0.79079,     0.79179,\n",
       "           0.79279,     0.79379,     0.79479,      0.7958,      0.7968,      0.7978,      0.7988,      0.7998,      0.8008,      0.8018,      0.8028,      0.8038,      0.8048,     0.80581,     0.80681,     0.80781,     0.80881,     0.80981,     0.81081,     0.81181,     0.81281,     0.81381,     0.81481,     0.81582,\n",
       "           0.81682,     0.81782,     0.81882,     0.81982,     0.82082,     0.82182,     0.82282,     0.82382,     0.82482,     0.82583,     0.82683,     0.82783,     0.82883,     0.82983,     0.83083,     0.83183,     0.83283,     0.83383,     0.83483,     0.83584,     0.83684,     0.83784,     0.83884,     0.83984,\n",
       "           0.84084,     0.84184,     0.84284,     0.84384,     0.84484,     0.84585,     0.84685,     0.84785,     0.84885,     0.84985,     0.85085,     0.85185,     0.85285,     0.85385,     0.85485,     0.85586,     0.85686,     0.85786,     0.85886,     0.85986,     0.86086,     0.86186,     0.86286,     0.86386,\n",
       "           0.86486,     0.86587,     0.86687,     0.86787,     0.86887,     0.86987,     0.87087,     0.87187,     0.87287,     0.87387,     0.87487,     0.87588,     0.87688,     0.87788,     0.87888,     0.87988,     0.88088,     0.88188,     0.88288,     0.88388,     0.88488,     0.88589,     0.88689,     0.88789,\n",
       "           0.88889,     0.88989,     0.89089,     0.89189,     0.89289,     0.89389,     0.89489,      0.8959,      0.8969,      0.8979,      0.8989,      0.8999,      0.9009,      0.9019,      0.9029,      0.9039,      0.9049,     0.90591,     0.90691,     0.90791,     0.90891,     0.90991,     0.91091,     0.91191,\n",
       "           0.91291,     0.91391,     0.91491,     0.91592,     0.91692,     0.91792,     0.91892,     0.91992,     0.92092,     0.92192,     0.92292,     0.92392,     0.92492,     0.92593,     0.92693,     0.92793,     0.92893,     0.92993,     0.93093,     0.93193,     0.93293,     0.93393,     0.93493,     0.93594,\n",
       "           0.93694,     0.93794,     0.93894,     0.93994,     0.94094,     0.94194,     0.94294,     0.94394,     0.94494,     0.94595,     0.94695,     0.94795,     0.94895,     0.94995,     0.95095,     0.95195,     0.95295,     0.95395,     0.95495,     0.95596,     0.95696,     0.95796,     0.95896,     0.95996,\n",
       "           0.96096,     0.96196,     0.96296,     0.96396,     0.96496,     0.96597,     0.96697,     0.96797,     0.96897,     0.96997,     0.97097,     0.97197,     0.97297,     0.97397,     0.97497,     0.97598,     0.97698,     0.97798,     0.97898,     0.97998,     0.98098,     0.98198,     0.98298,     0.98398,\n",
       "           0.98498,     0.98599,     0.98699,     0.98799,     0.98899,     0.98999,     0.99099,     0.99199,     0.99299,     0.99399,     0.99499,       0.996,       0.997,       0.998,       0.999,           1]), array([[    0.99872,     0.99872,     0.99872,     0.99872,     0.99872,     0.99854,     0.99799,     0.99799,      0.9978,      0.9978,      0.9978,      0.9978,     0.99762,     0.99744,     0.99726,     0.99726,     0.99707,     0.99671,     0.99616,     0.99616,     0.99561,     0.99506,     0.99506,\n",
       "            0.99488,     0.99469,     0.99451,     0.99433,     0.99396,      0.9936,     0.99341,     0.99323,      0.9925,      0.9925,      0.9925,      0.9925,     0.99213,     0.99177,      0.9914,     0.99104,     0.99067,      0.9903,      0.9903,     0.99012,     0.98975,     0.98921,     0.98902,\n",
       "            0.98866,     0.98847,     0.98829,     0.98811,     0.98793,     0.98774,     0.98719,     0.98683,     0.98683,     0.98664,     0.98664,     0.98628,     0.98628,     0.98591,     0.98591,     0.98591,     0.98573,     0.98573,     0.98555,     0.98536,       0.985,       0.985,       0.985,\n",
       "              0.985,     0.98482,     0.98482,     0.98482,     0.98463,     0.98445,     0.98445,     0.98445,     0.98427,      0.9839,     0.98372,     0.98372,     0.98372,     0.98372,     0.98335,     0.98335,     0.98317,     0.98299,     0.98299,      0.9828,      0.9828,      0.9828,      0.9828,\n",
       "             0.9828,      0.9828,      0.9828,     0.98225,     0.98207,     0.98189,     0.98097,     0.98024,     0.98024,     0.98024,     0.98006,     0.98006,     0.98006,     0.98006,     0.97988,     0.97969,     0.97969,     0.97951,     0.97933,     0.97933,     0.97933,     0.97933,     0.97914,\n",
       "            0.97856,     0.97841,     0.97805,     0.97768,     0.97768,     0.97731,     0.97731,     0.97731,     0.97713,     0.97713,     0.97695,     0.97695,     0.97689,      0.9764,     0.97622,     0.97585,     0.97548,      0.9753,      0.9753,      0.9753,      0.9753,     0.97512,     0.97512,\n",
       "            0.97494,      0.9749,     0.97475,     0.97457,     0.97402,     0.97366,     0.97347,     0.97319,     0.97292,     0.97292,     0.97292,     0.97256,     0.97248,     0.97237,     0.97219,     0.97219,     0.97174,     0.97128,     0.97109,     0.97109,     0.97073,     0.97055,     0.97055,\n",
       "            0.97036,     0.97036,     0.97036,     0.97018,     0.97018,     0.97018,     0.97018,        0.97,        0.97,     0.96967,     0.96926,     0.96908,     0.96872,     0.96856,     0.96835,     0.96835,     0.96835,     0.96817,     0.96817,      0.9681,      0.9678,     0.96762,     0.96762,\n",
       "            0.96762,     0.96752,     0.96744,     0.96744,     0.96744,     0.96707,     0.96707,     0.96707,      0.9667,      0.9667,      0.9667,     0.96654,     0.96624,     0.96597,     0.96561,     0.96561,     0.96542,     0.96524,     0.96487,     0.96469,     0.96414,     0.96389,     0.96378,\n",
       "            0.96323,     0.96304,     0.96304,     0.96304,     0.96304,     0.96304,     0.96304,     0.96303,     0.96268,     0.96268,      0.9625,      0.9625,     0.96231,     0.96231,     0.96213,     0.96195,     0.96176,     0.96165,      0.9614,     0.96067,     0.96048,      0.9603,     0.95993,\n",
       "            0.95957,     0.95939,     0.95902,     0.95884,     0.95884,     0.95884,     0.95884,     0.95865,     0.95865,     0.95865,     0.95847,     0.95829,     0.95829,     0.95829,     0.95829,     0.95829,     0.95792,     0.95792,     0.95737,     0.95737,     0.95659,     0.95614,     0.95609,\n",
       "            0.95573,     0.95573,     0.95573,     0.95573,     0.95573,     0.95573,     0.95536,     0.95487,     0.95441,     0.95426,     0.95408,     0.95399,      0.9539,      0.9539,     0.95353,     0.95298,     0.95298,      0.9528,     0.95243,     0.95188,     0.95134,     0.95097,      0.9506,\n",
       "            0.94987,     0.94958,     0.94932,     0.94894,     0.94823,     0.94786,     0.94768,     0.94731,     0.94731,     0.94713,     0.94694,     0.94658,      0.9464,     0.94614,     0.94602,     0.94537,     0.94475,     0.94443,     0.94438,     0.94383,     0.94365,      0.9431,     0.94237,\n",
       "            0.94182,     0.94164,     0.94164,     0.94127,     0.94109,     0.94091,     0.94072,     0.94072,     0.94072,     0.94054,     0.94035,     0.93999,     0.93963,     0.93926,      0.9387,     0.93853,     0.93853,     0.93824,     0.93816,      0.9378,     0.93773,     0.93743,     0.93725,\n",
       "            0.93725,     0.93706,      0.9367,     0.93646,     0.93615,     0.93578,     0.93542,     0.93505,      0.9345,     0.93432,     0.93432,     0.93397,     0.93341,     0.93322,     0.93286,     0.93267,     0.93237,     0.93176,     0.93176,     0.93176,     0.93166,     0.93158,      0.9314,\n",
       "            0.93085,     0.93039,     0.93011,      0.9301,     0.92993,     0.92975,     0.92963,     0.92902,     0.92885,     0.92828,      0.9281,     0.92792,       0.927,     0.92645,     0.92645,     0.92645,     0.92627,     0.92591,     0.92572,     0.92536,     0.92499,     0.92457,     0.92444,\n",
       "            0.92436,     0.92405,     0.92371,     0.92353,     0.92334,      0.9228,     0.92261,     0.92243,     0.92168,     0.92151,     0.92137,     0.92115,     0.92078,     0.92078,     0.92078,     0.92061,     0.92023,     0.91953,     0.91914,     0.91895,     0.91877,      0.9187,      0.9184,\n",
       "            0.91797,     0.91786,     0.91759,     0.91683,     0.91658,     0.91658,     0.91603,     0.91574,     0.91529,       0.915,     0.91475,     0.91431,     0.91395,     0.91365,     0.91328,      0.9131,     0.91292,     0.91292,     0.91273,     0.91273,       0.912,     0.91182,     0.91109,\n",
       "            0.91054,     0.91017,     0.91017,     0.90994,     0.90981,     0.90948,     0.90901,     0.90871,     0.90871,     0.90871,     0.90853,     0.90834,     0.90834,     0.90769,     0.90743,     0.90724,     0.90724,     0.90688,      0.9067,      0.9067,     0.90578,     0.90578,     0.90528,\n",
       "            0.90487,      0.9045,     0.90398,     0.90359,     0.90322,     0.90322,     0.90289,     0.90263,     0.90249,     0.90231,     0.90206,     0.90157,     0.90126,     0.90102,     0.90102,     0.90029,     0.89993,     0.89907,     0.89883,     0.89865,      0.8983,     0.89791,     0.89791,\n",
       "            0.89791,     0.89791,     0.89791,     0.89791,     0.89791,     0.89718,     0.89709,     0.89663,     0.89642,     0.89628,     0.89566,     0.89535,     0.89499,     0.89463,     0.89416,     0.89389,     0.89308,     0.89254,     0.89202,     0.89188,     0.89151,     0.89151,     0.89144,\n",
       "            0.89115,     0.89083,     0.89062,     0.89041,     0.88997,     0.88946,     0.88889,      0.8884,     0.88828,     0.88804,     0.88767,     0.88747,     0.88722,     0.88675,     0.88663,     0.88602,     0.88602,     0.88602,     0.88602,      0.8855,     0.88511,     0.88419,     0.88329,\n",
       "            0.88301,     0.88273,     0.88195,     0.88139,     0.88119,     0.88108,     0.88055,     0.88035,     0.88001,      0.8798,     0.87922,      0.8787,     0.87843,     0.87834,     0.87815,     0.87781,     0.87715,     0.87678,     0.87633,     0.87633,     0.87621,     0.87596,     0.87578,\n",
       "            0.87508,     0.87443,     0.87392,     0.87358,      0.8734,     0.87322,     0.87294,     0.87253,     0.87194,     0.87179,      0.8714,     0.87097,     0.87058,     0.86992,     0.86956,     0.86919,     0.86828,     0.86791,     0.86731,       0.867,     0.86669,     0.86608,     0.86553,\n",
       "            0.86553,     0.86482,      0.8644,      0.8641,      0.8637,     0.86316,     0.86262,     0.86114,     0.86068,     0.86006,     0.85909,     0.85883,     0.85858,     0.85858,     0.85844,     0.85785,     0.85657,     0.85559,     0.85456,     0.85423,     0.85419,     0.85326,     0.85253,\n",
       "            0.85218,     0.85181,      0.8509,     0.85038,      0.8503,     0.84981,     0.84966,      0.8491,     0.84873,     0.84852,     0.84815,     0.84705,     0.84669,     0.84651,     0.84567,     0.84505,     0.84465,     0.84449,     0.84445,     0.84358,     0.84266,      0.8423,     0.84177,\n",
       "            0.84149,     0.84102,      0.8401,     0.83937,     0.83855,     0.83791,     0.83791,     0.83718,     0.83679,     0.83644,     0.83577,     0.83512,     0.83454,     0.83352,     0.83315,     0.83274,     0.83238,     0.83095,     0.83004,     0.82908,     0.82876,     0.82766,     0.82679,\n",
       "            0.82578,     0.82536,      0.8251,     0.82388,     0.82265,     0.82199,     0.82147,     0.81989,     0.81889,     0.81757,     0.81667,     0.81618,     0.81578,     0.81443,     0.81357,     0.81284,     0.81229,      0.8113,     0.81058,     0.80992,     0.80901,     0.80796,     0.80701,\n",
       "            0.80502,     0.80395,     0.80296,     0.80278,     0.80142,     0.80077,     0.79975,     0.79739,     0.79667,     0.79545,     0.79463,      0.7935,     0.79302,     0.79215,     0.79174,     0.79112,     0.78967,     0.78802,     0.78675,     0.78619,     0.78508,     0.78421,     0.78399,\n",
       "            0.78306,     0.78201,     0.78064,     0.77988,      0.7794,     0.77902,     0.77737,     0.77698,     0.77644,     0.77546,      0.7747,     0.77354,     0.77293,     0.77254,     0.77113,     0.76969,     0.76828,     0.76677,     0.76608,     0.76503,     0.76407,     0.76275,     0.76143,\n",
       "            0.76015,     0.75956,      0.7576,     0.75566,     0.75319,     0.75214,     0.75047,     0.74808,     0.74631,     0.74398,     0.74273,     0.74195,     0.73984,     0.73802,      0.7357,     0.73393,       0.733,     0.73167,     0.73006,     0.72784,     0.72593,     0.72399,     0.72163,\n",
       "            0.72064,     0.71899,     0.71808,     0.71525,     0.71277,     0.71014,     0.70767,     0.70455,     0.70226,     0.70057,     0.69805,     0.69626,     0.69197,     0.68987,     0.68695,     0.68451,      0.6825,      0.6809,     0.67892,     0.67708,     0.67568,     0.67257,     0.67028,\n",
       "             0.6683,     0.66543,     0.66417,     0.66072,     0.65865,     0.65724,     0.65412,     0.65204,     0.64983,     0.64824,     0.64649,     0.64362,     0.64151,     0.63863,     0.63562,     0.63305,     0.63055,     0.62825,     0.62733,     0.62531,     0.62314,      0.6214,     0.61942,\n",
       "            0.61736,     0.61449,     0.61166,     0.60988,     0.60732,     0.60526,     0.60239,     0.59945,     0.59666,     0.59375,     0.59051,     0.58836,     0.58551,     0.58165,     0.57757,     0.57421,     0.57058,     0.56744,     0.56518,     0.56178,     0.55819,     0.55419,     0.55166,\n",
       "            0.54812,     0.54535,     0.54164,     0.53713,     0.53366,     0.53092,     0.52699,     0.52348,     0.51983,     0.51756,      0.5157,     0.51269,     0.50878,     0.50552,     0.50207,     0.49872,     0.49492,     0.49177,     0.48676,     0.48369,      0.4808,     0.47619,     0.47164,\n",
       "            0.46731,     0.46417,     0.46069,     0.45558,      0.4517,     0.44845,     0.44324,     0.43894,     0.43351,     0.42942,     0.42568,     0.42239,     0.41779,     0.41294,     0.40921,     0.40457,     0.40054,     0.39549,     0.39037,     0.38611,     0.37915,     0.37284,     0.36649,\n",
       "            0.36148,     0.35681,     0.35096,     0.34568,     0.33917,     0.33235,     0.32362,     0.31862,     0.31235,     0.30593,     0.30196,     0.29616,     0.29146,     0.28655,      0.2811,     0.27638,     0.27142,     0.26729,     0.26432,     0.25921,     0.25374,      0.2502,     0.24494,\n",
       "            0.24066,     0.23606,     0.23137,     0.22751,     0.22375,     0.21835,      0.2147,     0.20999,     0.20569,      0.2027,     0.19703,     0.19052,     0.18633,     0.18402,     0.17903,     0.17545,     0.17142,     0.16771,      0.1625,     0.15789,     0.15425,     0.15083,     0.14708,\n",
       "            0.14203,     0.13749,     0.13327,     0.12903,     0.12464,     0.12056,     0.11649,     0.11294,     0.10796,     0.10291,    0.099054,     0.09424,    0.090361,    0.082897,     0.07757,    0.071772,    0.066094,    0.062063,    0.057374,    0.052843,    0.048366,    0.043582,     0.04111,\n",
       "           0.037244,    0.033707,    0.030921,    0.027543,    0.025448,    0.022484,    0.020223,    0.018068,    0.015938,    0.013727,    0.012094,    0.010371,   0.0084854,    0.006859,   0.0050782,   0.0044771,   0.0035745,   0.0021689,   0.0014446,   0.0012548,   0.0011789,   0.0011031,  0.00057613,\n",
       "         0.00046682,  0.00037281,  0.00019721,           0,           0,           0,           0,           0,           0,           0,           0,           0,           0,           0,           0,           0,           0,           0,           0,           0,           0,           0,           0,\n",
       "                  0,           0,           0,           0,           0,           0,           0,           0,           0,           0,           0,           0,           0,           0,           0,           0,           0,           0,           0,           0,           0,           0,           0,\n",
       "                  0,           0,           0,           0,           0,           0,           0,           0,           0,           0,           0,           0,           0,           0,           0,           0,           0,           0,           0,           0,           0,           0,           0,\n",
       "                  0,           0,           0,           0,           0,           0,           0,           0,           0,           0,           0]]), 'Confidence', 'Recall']]\n",
       "fitness: 0.6651159763313003\n",
       "keys: ['metrics/precision(B)', 'metrics/recall(B)', 'metrics/mAP50(B)', 'metrics/mAP50-95(B)']\n",
       "maps: array([    0.63518])\n",
       "names: {0: 'empty_carlot'}\n",
       "plot: True\n",
       "results_dict: {'metrics/precision(B)': 0.870132932519106, 'metrics/recall(B)': 0.8874737414104475, 'metrics/mAP50(B)': 0.9345471983853766, 'metrics/mAP50-95(B)': 0.6351791738808472, 'fitness': 0.6651159763313003}\n",
       "save_dir: PosixPath('/Users/thisal_weerasekara/neufische/pklot/runs/detect/train64')\n",
       "speed: {'preprocess': 1.2652961485976473, 'inference': 2467.1686461212435, 'loss': 0.0003302862884801462, 'postprocess': 2.1387765166956347}\n",
       "task: 'detect'"
      ]
     },
     "execution_count": 12,
     "metadata": {},
     "output_type": "execute_result"
    }
   ],
   "source": [
    "yolo8x_train_pretrained_model.train(\n",
    "    data=yaml_path, \n",
    "    epochs=2, \n",
    "    batch=16,\n",
    "    translate = 0.1,  # image translation (+/- fraction)\n",
    "    augment = True,\n",
    "    scale = 0.2,  # image scale (+/- gain)\n",
    "    shear = 0.2,  # image shear (+/- deg) from -0.5 to 0.5\n",
    "    #perspective = 0.1,  # image perspective (+/- fraction), range 0-0.001\n",
    "    flipud = 0.7,  # image flip up-down (probability)\n",
    "    fliplr = 0.5,  # image flip left-right (probability)\n",
    "    mosaic = 0.3,  # image mosaic (probability)\n",
    "    mixup = 0.1, # image mixup (probability) ),\n",
    ")"
   ]
  },
  {
   "cell_type": "markdown",
   "metadata": {},
   "source": [
    "## Make predictions"
   ]
  },
  {
   "cell_type": "code",
   "execution_count": 90,
   "metadata": {},
   "outputs": [],
   "source": [
    "folder_path = \"../data/PKLot/Sunny_most_empty/test\""
   ]
  },
  {
   "cell_type": "code",
   "execution_count": 91,
   "metadata": {},
   "outputs": [],
   "source": [
    "# Get a list of all files in the folder\n",
    "all_files = os.listdir(os.path.join(folder_path,'images/'))\n",
    "\n",
    "# Filter only .jpg files\n",
    "jpg_files = [file for file in all_files if file.lower().endswith(\".jpg\")]\n",
    "\n",
    "# Select a random .jpg file\n",
    "random_image = random.choice(jpg_files)\n",
    "\n",
    "# image\n",
    "path_to_image = os.path.join(folder_path, 'images/',random_image)\n",
    "#path_to_xml = os.path.join(folder_path, 'labels_xml/', random_image[])\n"
   ]
  },
  {
   "cell_type": "code",
   "execution_count": 92,
   "metadata": {},
   "outputs": [],
   "source": [
    "# image from web\n",
    "#image_random_test = cv2.imread('../data/random_test/test_car_lot_2.jpg')"
   ]
  },
  {
   "cell_type": "code",
   "execution_count": 93,
   "metadata": {},
   "outputs": [
    {
     "name": "stdout",
     "output_type": "stream",
     "text": [
      "\n",
      "image 1/1 /Users/thisal_weerasekara/neufische/pklot/notebooks/../data/PKLot/Sunny_most_empty/test/images/2012-12-08_13_10_08.jpg: 384x640 24 empty_carlots, 457.2ms\n",
      "Speed: 1.2ms preprocess, 457.2ms inference, 0.8ms postprocess per image at shape (1, 3, 384, 640)\n"
     ]
    }
   ],
   "source": [
    "# Make the prediction\n",
    "\n",
    "path_to_best_trained_model = '../runs/detect/train64/weights/best.pt'\n",
    "best_trained_model = YOLO(path_to_best_trained_model)\n",
    "\n",
    "pred = best_trained_model.predict(\n",
    "    source=path_to_image, \n",
    "    save= False, \n",
    "    conf= 0.3,  # object confidence threshold for detection\n",
    "    iou= 0.3,    # intersection over union (IoU) threshold for NMS\n",
    ")"
   ]
  },
  {
   "cell_type": "code",
   "execution_count": 94,
   "metadata": {},
   "outputs": [],
   "source": [
    "# Show the results\n",
    " \n",
    "for r in pred:\n",
    "    im_array = r.plot(line_width=1)  # plot a BGR numpy array of predictions\n",
    "    im = Image.fromarray(im_array[..., ::-1])  # RGB PIL image\n",
    "    im.show()  # show image\n",
    "    #im.save('results.jpg')  # save image\n"
   ]
  },
  {
   "cell_type": "code",
   "execution_count": null,
   "metadata": {},
   "outputs": [],
   "source": []
  }
 ],
 "metadata": {
  "kernelspec": {
   "display_name": ".venv",
   "language": "python",
   "name": "python3"
  },
  "language_info": {
   "codemirror_mode": {
    "name": "ipython",
    "version": 3
   },
   "file_extension": ".py",
   "mimetype": "text/x-python",
   "name": "python",
   "nbconvert_exporter": "python",
   "pygments_lexer": "ipython3",
   "version": "3.11.3"
  }
 },
 "nbformat": 4,
 "nbformat_minor": 2
}
