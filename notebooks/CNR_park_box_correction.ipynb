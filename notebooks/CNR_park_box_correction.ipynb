{
 "cells": [
  {
   "cell_type": "code",
   "execution_count": 1,
   "metadata": {},
   "outputs": [],
   "source": [
    "from PIL import Image\n",
    "import numpy as np\n",
    "import matplotlib.pyplot as plt\n",
    "import xml.etree.ElementTree as ET\n",
    "import cv2\n",
    "import tarfile\n",
    "import os\n",
    "import random"
   ]
  },
  {
   "cell_type": "code",
   "execution_count": 49,
   "metadata": {},
   "outputs": [],
   "source": [
    "# Data paths :\n",
    "CNR_Park_dataset_path = '../data/CNR-Park_EXT_yolov8-2/train/images'\n",
    "annotation_path = '../data/CNR-Park_EXT_yolov8-2/train/labels'\n",
    "\n",
    "# Make new annotation folder\n",
    "os.makedirs(os.path.join('../data/CNR-Park_EXT_yolov8-2/train/', 'corrected_labels'), exist_ok=True)\n",
    "new_annotation_path = os.path.join('../data/CNR-Park_EXT_yolov8-2/train', 'corrected_labels')"
   ]
  },
  {
   "cell_type": "markdown",
   "metadata": {},
   "source": [
    "## -------------------------------------"
   ]
  },
  {
   "cell_type": "code",
   "execution_count": 50,
   "metadata": {},
   "outputs": [],
   "source": [
    "# Get a list of all files in the folder\n",
    "all_files = os.listdir(CNR_Park_dataset_path)\n",
    "\n",
    "# Filter only .jpg files\n",
    "jpg_files = [file for file in all_files if file.lower().endswith(\".jpg\")]\n",
    "\n",
    "# Select a random .jpg file\n",
    "random_image = random.choice(jpg_files)\n",
    "\n",
    "# image\n",
    "path_to_image = os.path.join(CNR_Park_dataset_path,random_image)"
   ]
  },
  {
   "cell_type": "code",
   "execution_count": 51,
   "metadata": {},
   "outputs": [],
   "source": [
    "def show_image(image, title = 'Title'):\n",
    "    plt.figure(figsize=(10,8))\n",
    "    plt.imshow(image)\n",
    "    plt.title(title)\n",
    "    plt.axis('off')\n",
    "    plt.show()"
   ]
  },
  {
   "cell_type": "code",
   "execution_count": 52,
   "metadata": {},
   "outputs": [],
   "source": [
    "# Functin to get the images by the camera angle\n",
    "def files_by_cam(cam_code, data_file = all_files):\n",
    "    img_list = []\n",
    "    for file in data_file:\n",
    "        code = file[16:19]\n",
    "        if code == cam_code:\n",
    "            img_list.append(file)\n",
    "\n",
    "    return img_list"
   ]
  },
  {
   "cell_type": "code",
   "execution_count": 53,
   "metadata": {},
   "outputs": [],
   "source": [
    "def change_boxes(image_path, annotation_file, x_shift, y_shift, output_annotation_file):\n",
    "    # Read the image\n",
    "    image = cv2.imread(image_path)\n",
    "    im_height, im_width, _ = image.shape\n",
    "\n",
    "    # Open and read the annotation file\n",
    "    with open(annotation_file, 'r') as file:\n",
    "        lines = file.readlines()\n",
    "\n",
    "    # Create a new file to write modified coordinates\n",
    "    with open(output_annotation_file, 'w') as output_file:\n",
    "        # Iterate through lines and modify coordinates\n",
    "        for line in lines:\n",
    "            values = line.strip().split()\n",
    "            class_label = int(values[0])\n",
    "            x, y, w, h = map(float, values[1:])\n",
    "            xn, yn, wn, hn = int((x + x_shift) * im_width), int((y + y_shift) * im_height), int(w * im_width), int(h * im_height)\n",
    "\n",
    "            # Write modified coordinates to the new file\n",
    "            output_line = f\"{class_label} {xn/im_width} {yn/im_height} {wn/im_width} {hn/im_height}\\n\"\n",
    "            output_file.write(output_line)"
   ]
  },
  {
   "cell_type": "code",
   "execution_count": 58,
   "metadata": {},
   "outputs": [],
   "source": [
    "def adjust_cordinates_by_cam(random_image, x_shift, y_shift, ann_path = annotation_path, image_data_path = CNR_Park_dataset_path, new_ann_path = new_annotation_path):\n",
    "    path_to_image = os.path.join(image_data_path,random_image)\n",
    "    annotation_file = os.path.join(ann_path, random_image[:-4]+'.txt')\n",
    "    corrected_annotation_file = os.path.join(new_ann_path, random_image[:-4]+'.txt')\n",
    "    change_boxes(path_to_image, annotation_file, x_shift, y_shift, corrected_annotation_file)"
   ]
  },
  {
   "cell_type": "code",
   "execution_count": 59,
   "metadata": {},
   "outputs": [],
   "source": [
    "# Store images from 'i' th camera angle as 'cam_images[i]'\n",
    "cam_images = []     # cam_images[0] consis no image\n",
    "for i in range(10):\n",
    "    cam_images.append(files_by_cam(f'C0{i}'))"
   ]
  },
  {
   "cell_type": "code",
   "execution_count": 60,
   "metadata": {},
   "outputs": [],
   "source": [
    "# Define corrected shift for all camera angles\n",
    "c1_x_shift, c1_y_shift = -0.04, -0.05\n",
    "c2_x_shift, c2_y_shift = -0.05, -0.09\n",
    "c3_x_shift, c3_y_shift = -0.08, -0.05\n",
    "c4_x_shift, c4_y_shift = -0.05, -0.06\n",
    "c5_x_shift, c5_y_shift = -0.05, -0.06\n",
    "c6_x_shift, c6_y_shift = -0.03, -0.06\n",
    "c7_x_shift, c7_y_shift = -0.05, -0.06\n",
    "c8_x_shift, c8_y_shift = -0.03, -0.06\n",
    "c9_x_shift, c9_y_shift = -0.03, -0.06"
   ]
  },
  {
   "cell_type": "markdown",
   "metadata": {},
   "source": [
    "## Cam_1 corrections"
   ]
  },
  {
   "cell_type": "code",
   "execution_count": 61,
   "metadata": {},
   "outputs": [],
   "source": [
    "for imgs in cam_images[1]:\n",
    "    adjust_cordinates_by_cam(imgs, c1_x_shift, c1_y_shift)"
   ]
  },
  {
   "cell_type": "markdown",
   "metadata": {},
   "source": [
    "## Cam_2 corrections"
   ]
  },
  {
   "cell_type": "code",
   "execution_count": 62,
   "metadata": {},
   "outputs": [],
   "source": [
    "for imgs in cam_images[2]:\n",
    "    adjust_cordinates_by_cam(imgs, c2_x_shift, c2_y_shift)"
   ]
  },
  {
   "cell_type": "markdown",
   "metadata": {},
   "source": [
    "## Cam_3 corrections"
   ]
  },
  {
   "cell_type": "code",
   "execution_count": 63,
   "metadata": {},
   "outputs": [],
   "source": [
    "for imgs in cam_images[3]:\n",
    "    adjust_cordinates_by_cam(imgs, c3_x_shift, c3_y_shift)"
   ]
  },
  {
   "cell_type": "markdown",
   "metadata": {},
   "source": [
    "## Cam_4 corrections"
   ]
  },
  {
   "cell_type": "code",
   "execution_count": 64,
   "metadata": {},
   "outputs": [],
   "source": [
    "for imgs in cam_images[4]:\n",
    "    adjust_cordinates_by_cam(imgs, c4_x_shift, c4_y_shift)"
   ]
  },
  {
   "cell_type": "markdown",
   "metadata": {},
   "source": [
    "## Cam_5 corrections"
   ]
  },
  {
   "cell_type": "code",
   "execution_count": 65,
   "metadata": {},
   "outputs": [],
   "source": [
    "for imgs in cam_images[5]:\n",
    "    adjust_cordinates_by_cam(imgs, c5_x_shift, c5_y_shift)"
   ]
  },
  {
   "cell_type": "markdown",
   "metadata": {},
   "source": [
    "## Cam_6 corrections"
   ]
  },
  {
   "cell_type": "code",
   "execution_count": 66,
   "metadata": {},
   "outputs": [],
   "source": [
    "for imgs in cam_images[6]:\n",
    "    adjust_cordinates_by_cam(imgs, c6_x_shift, c6_y_shift)"
   ]
  },
  {
   "cell_type": "markdown",
   "metadata": {},
   "source": [
    "## Cam_7 corrections"
   ]
  },
  {
   "cell_type": "code",
   "execution_count": 67,
   "metadata": {},
   "outputs": [],
   "source": [
    "for imgs in cam_images[7]:\n",
    "    adjust_cordinates_by_cam(imgs, c7_x_shift, c7_y_shift)"
   ]
  },
  {
   "cell_type": "markdown",
   "metadata": {},
   "source": [
    "## Cam_8 corrections"
   ]
  },
  {
   "cell_type": "code",
   "execution_count": 68,
   "metadata": {},
   "outputs": [],
   "source": [
    "for imgs in cam_images[8]:\n",
    "    adjust_cordinates_by_cam(imgs, c8_x_shift, c8_y_shift)"
   ]
  },
  {
   "cell_type": "markdown",
   "metadata": {},
   "source": [
    "## Cam_9 corrections"
   ]
  },
  {
   "cell_type": "code",
   "execution_count": 69,
   "metadata": {},
   "outputs": [],
   "source": [
    "for imgs in cam_images[9]:\n",
    "    adjust_cordinates_by_cam(imgs, c9_x_shift, c9_y_shift)"
   ]
  }
 ],
 "metadata": {
  "kernelspec": {
   "display_name": ".venv",
   "language": "python",
   "name": "python3"
  },
  "language_info": {
   "codemirror_mode": {
    "name": "ipython",
    "version": 3
   },
   "file_extension": ".py",
   "mimetype": "text/x-python",
   "name": "python",
   "nbconvert_exporter": "python",
   "pygments_lexer": "ipython3",
   "version": "3.11.3"
  }
 },
 "nbformat": 4,
 "nbformat_minor": 2
}
