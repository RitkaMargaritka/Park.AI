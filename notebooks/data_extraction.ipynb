{
 "cells": [
  {
   "cell_type": "code",
   "execution_count": 1,
   "metadata": {},
   "outputs": [],
   "source": [
    "import cv2\n",
    "import matplotlib.pyplot as plt\n",
    "import xml.etree.ElementTree as ET\n",
    "from PIL import Image\n",
    "import os\n",
    "import shutil\n",
    "import numpy as np\n",
    "import pandas as pd\n",
    "import random\n",
    "import glob\n",
    "import csv"
   ]
  },
  {
   "cell_type": "markdown",
   "metadata": {},
   "source": [
    "## The file paths only need to changed according to your preference @Markus"
   ]
  },
  {
   "cell_type": "code",
   "execution_count": 2,
   "metadata": {},
   "outputs": [],
   "source": [
    "# Define this path to save the preprocess data set\n",
    "# This probably would change according to the folder where you are going to save the data\n",
    "destination_folder = '../data/PKLOT/pklot_all_empty_sunny'\n",
    "os.makedirs(destination_folder, exist_ok=True)\n",
    "\n",
    "\n",
    "# Read and get the files as a list from the .csv\n",
    "#csv_file_path = '../data/image_list.csv'    #=>  change this to the folder that consists the image_list"
   ]
  },
  {
   "cell_type": "code",
   "execution_count": 3,
   "metadata": {},
   "outputs": [],
   "source": [
    "# Subject to the data set used: (Shoulb be flexivle with the type of the car lot)\n",
    "image_width = 1280\n",
    "image_height = 720"
   ]
  },
  {
   "cell_type": "markdown",
   "metadata": {},
   "source": [
    "## --------------------------"
   ]
  },
  {
   "cell_type": "code",
   "execution_count": 4,
   "metadata": {},
   "outputs": [],
   "source": [
    "#my_data_path = '../data/PKLot/Sunny_most_empty/images'\n",
    "\n",
    "source_dataset_PUC_sunny = '../data/PKLot/PKLot/PUCPR/Sunny/'  # This would not be changed\n",
    "source_dataset_UFPR04_sunny = '../data/PKLot/PKLot/UFPR04/Sunny/'\n",
    "source_dataset_UFPR05_sunny = '../data/PKLot/PKLot/UFPR05/Sunny/'"
   ]
  },
  {
   "cell_type": "code",
   "execution_count": 5,
   "metadata": {},
   "outputs": [
    {
     "data": {
      "text/plain": [
       "\" \\n# Initialize an empty list to store file names\\njpeg_list = []\\n\\nwith open(csv_file_path, 'r') as csvfile:\\n    csv_reader = csv.reader(csvfile)\\n    # Read each row and append the file name to the list\\n    for row in csv_reader:\\n        if row:  # Check if the row is not empty\\n            jpeg_list.append(row[0])\\n\""
      ]
     },
     "execution_count": 5,
     "metadata": {},
     "output_type": "execute_result"
    }
   ],
   "source": [
    "# Write the files to a list\n",
    "''' \n",
    "jpeg_list = os.listdir(my_data_path)\n",
    "\n",
    "csv_file_path = '../data/image_list.csv'\n",
    "# Writing the list to a CSV file\n",
    "with open(csv_file_path, 'w', newline='') as csv_file:\n",
    "    csv_writer = csv.writer(csv_file)\n",
    "    for file_name in jpeg_list:\n",
    "        csv_writer.writerow([file_name])\n",
    "'''\n",
    "\n",
    "# Read the list of file names from a .txt\n",
    "''' \n",
    "# Initialize an empty list to store file names\n",
    "jpeg_list = []\n",
    "\n",
    "with open(csv_file_path, 'r') as csvfile:\n",
    "    csv_reader = csv.reader(csvfile)\n",
    "    # Read each row and append the file name to the list\n",
    "    for row in csv_reader:\n",
    "        if row:  # Check if the row is not empty\n",
    "            jpeg_list.append(row[0])\n",
    "'''"
   ]
  },
  {
   "cell_type": "code",
   "execution_count": 6,
   "metadata": {},
   "outputs": [
    {
     "data": {
      "text/plain": [
       "\" \\ndef copy_selected_files(source_dataset, dest_folder = destination_folder):\\n    for day in os.listdir(source_dataset):\\n        path_to_check = os.path.join(source_dataset, day)\\n        if os.path.exists(path_to_check):\\n            for file in jpeg_list:\\n                image_file_path = os.path.join(path_to_check, file)\\n                xml_file_path = os.path.join(path_to_check, file[:10]+'.xml')\\n\\n                if os.path.exists(image_file_path):\\n                # Copying the files to a dataset\\n                    shutil.copy(image_file_path, dest_folder)\\n                    print(f'File {image_file_path} copied to {dest_folder} Successfully!')\\n                else:\\n                    print(f'File {image_file_path} copied to {dest_folder} NOT Succsess!!')\\n                        \\n                if os.path.exists(xml_file_path):\\n                    shutil.copy(xml_file_path, dest_folder)\\n                    print(f'File {xml_file_path} copied to {dest_folder} Successfully!')\\n                else:\\n                    print(f'File {xml_file_path} copied to {dest_folder} NOT Succsess!!')\\n        \\n\""
      ]
     },
     "execution_count": 6,
     "metadata": {},
     "output_type": "execute_result"
    }
   ],
   "source": [
    "# Function to Extracting the data from the original data and put them in the destination folder\n",
    "''' \n",
    "def copy_selected_files(source_dataset, dest_folder = destination_folder):\n",
    "    for day in os.listdir(source_dataset):\n",
    "        path_to_check = os.path.join(source_dataset, day)\n",
    "        if os.path.exists(path_to_check):\n",
    "            for file in jpeg_list:\n",
    "                image_file_path = os.path.join(path_to_check, file)\n",
    "                xml_file_path = os.path.join(path_to_check, file[:10]+'.xml')\n",
    "\n",
    "                if os.path.exists(image_file_path):\n",
    "                # Copying the files to a dataset\n",
    "                    shutil.copy(image_file_path, dest_folder)\n",
    "                    print(f'File {image_file_path} copied to {dest_folder} Successfully!')\n",
    "                else:\n",
    "                    print(f'File {image_file_path} copied to {dest_folder} NOT Succsess!!')\n",
    "                        \n",
    "                if os.path.exists(xml_file_path):\n",
    "                    shutil.copy(xml_file_path, dest_folder)\n",
    "                    print(f'File {xml_file_path} copied to {dest_folder} Successfully!')\n",
    "                else:\n",
    "                    print(f'File {xml_file_path} copied to {dest_folder} NOT Succsess!!')\n",
    "        \n",
    "'''"
   ]
  },
  {
   "cell_type": "code",
   "execution_count": 7,
   "metadata": {},
   "outputs": [],
   "source": [
    "# Function to Extracting the data from the original data and put them in the destination folder\n",
    "def copy_all_files(source_dataset, dest_folder = destination_folder):\n",
    "    for day in os.listdir(source_dataset):\n",
    "        path_to_check = source_dataset + '/' + day\n",
    "        jpeg_list = os.listdir(path_to_check)\n",
    "        if os.path.exists(path_to_check):\n",
    "            for file in jpeg_list:\n",
    "                image_file_path = path_to_check + '/' + file\n",
    "                xml_file_path = path_to_check + '/' + file[:10]+'.xml'\n",
    "\n",
    "                if os.path.exists(image_file_path):\n",
    "                    # Copying the files to a dataset\n",
    "                    shutil.copy(image_file_path, dest_folder)\n",
    "                    #print(f'File {image_file_path} copied to {dest_folder} Successfully!')\n",
    "                #else:\n",
    "                    #print(f'File {image_file_path} copied to {dest_folder} NOT Succsess!!')\n",
    "                        \n",
    "                if os.path.exists(xml_file_path):\n",
    "                    shutil.copy(xml_file_path, dest_folder)\n",
    "                    #print(f'File {xml_file_path} copied to {dest_folder} Successfully!')\n",
    "                #else:\n",
    "                   # print(f'File {xml_file_path} copied to {dest_folder} NOT Succsess!!')"
   ]
  },
  {
   "cell_type": "code",
   "execution_count": 8,
   "metadata": {},
   "outputs": [],
   "source": [
    "# Calling the function to copy all the sunny data from all three lots to one destination folder\n",
    "copy_all_files(source_dataset_PUC_sunny)\n",
    "copy_all_files(source_dataset_UFPR04_sunny)\n",
    "copy_all_files(source_dataset_UFPR05_sunny)"
   ]
  },
  {
   "cell_type": "code",
   "execution_count": 9,
   "metadata": {},
   "outputs": [],
   "source": [
    "# Make the two folders inside datasets/images and datasets/labels_xml\n",
    "\n",
    "images_path = destination_folder + '/' + 'images'\n",
    "labels_xml_path = destination_folder + '/' + 'labels_xml'\n",
    "labels_txt_path = destination_folder + '/' + 'labels_txt'\n",
    "\n",
    "os.makedirs(images_path, exist_ok=True)\n",
    "os.makedirs(labels_xml_path, exist_ok=True)\n",
    "os.makedirs(labels_txt_path, exist_ok=True)\n",
    "\n",
    "\n",
    "# Move images to 'images' folder\n",
    "for filename in os.listdir(destination_folder):\n",
    "    if filename.endswith(\".jpg\"):  # Assuming your images have a specific extension, like .jpg\n",
    "        src_path = destination_folder + '/' + filename\n",
    "        dest_path = images_path + '/' + filename\n",
    "        shutil.move(src_path, dest_path)\n",
    "\n",
    "# Move labels to 'labels_xml' folder\n",
    "for filename in os.listdir(destination_folder):\n",
    "    if filename.endswith(\".xml\"):  # Assuming your labels have a specific extension, like .xml\n",
    "        src_path = destination_folder + '/' + filename\n",
    "        dest_path = labels_xml_path + '/' + filename\n",
    "        shutil.move(src_path, dest_path)"
   ]
  },
  {
   "cell_type": "code",
   "execution_count": 10,
   "metadata": {},
   "outputs": [],
   "source": [
    "# Convert the ground truth such that it can be used to feed the training in YOLO\n",
    "\n",
    "#  convert_single_xml_to_yolo(xml_file, img_width, img_height): => modified to take only the empty parking spaces in the images in PKLot_Non_occupied_original\n",
    "# By setting occupied == 0 \n",
    " \n",
    "\n",
    "def convert_xml_to_yolo(xml_folder, output_txt_folder, img_width, img_height):\n",
    "    # Create output_txt_folder if it doesn't exist\n",
    "    os.makedirs(output_txt_folder, exist_ok=True)\n",
    "\n",
    "    for xml_file in os.listdir(xml_folder):\n",
    "        if xml_file.endswith('.xml'):\n",
    "            xml_path = os.path.join(xml_folder, xml_file)\n",
    "            output_file = os.path.join(output_txt_folder, xml_file.replace('.xml', '.txt'))\n",
    "\n",
    "            yolo_lines = convert_single_xml_to_yolo(xml_path, img_width, img_height)\n",
    "\n",
    "            with open(output_file, 'w') as file:\n",
    "                for line in yolo_lines:\n",
    "                    file.write(line + '\\n')\n",
    "\n",
    "def convert_single_xml_to_yolo(xml_file, img_width, img_height):\n",
    "    tree = ET.parse(xml_file)\n",
    "    root = tree.getroot()\n",
    "\n",
    "    yolo_lines = []\n",
    "\n",
    "    for space in root.findall('space'):\n",
    "        occupied = int(space.get('occupied', 0))\n",
    "        rotated_rect = space.find('rotatedRect')\n",
    "        contour = space.find('contour')\n",
    "\n",
    "        center_x = float(rotated_rect.find('center').get('x'))\n",
    "        center_y = float(rotated_rect.find('center').get('y'))\n",
    "        width = float(rotated_rect.find('size').get('w'))\n",
    "        height = float(rotated_rect.find('size').get('h'))\n",
    "\n",
    "        # Normalize coordinates and dimensions\n",
    "        x_center_normalized = center_x / img_width\n",
    "        y_center_normalized = center_y / img_height\n",
    "        width_normalized = width / img_width\n",
    "        height_normalized = height / img_height\n",
    "\n",
    "        if occupied == 0:             #  => instead want to get occupied parking spaces remove this if or enable only occupied by == 1\n",
    "            yolo_line = f\"{occupied} {x_center_normalized} {y_center_normalized} {width_normalized} {height_normalized}\"\n",
    "            yolo_lines.append(yolo_line)\n",
    "\n",
    "    return yolo_lines"
   ]
  },
  {
   "cell_type": "code",
   "execution_count": 11,
   "metadata": {},
   "outputs": [],
   "source": [
    "convert_xml_to_yolo(labels_xml_path, labels_txt_path, image_width, image_height)"
   ]
  },
  {
   "cell_type": "markdown",
   "metadata": {},
   "source": [
    "## Train, val, test split "
   ]
  },
  {
   "cell_type": "code",
   "execution_count": 12,
   "metadata": {},
   "outputs": [],
   "source": [
    "# Paths and settings\n",
    "train_path = destination_folder + '/' + 'train'\n",
    "val_path = destination_folder + '/' + 'val'\n",
    "test_path = destination_folder + '/' + 'test'\n",
    "\n",
    "os.makedirs(train_path + '/' + 'images', exist_ok=True)\n",
    "os.makedirs(train_path + '/' + 'labels', exist_ok=True)\n",
    "os.makedirs(val_path + '/' + 'images', exist_ok=True)\n",
    "os.makedirs(val_path + '/' + 'labels', exist_ok=True)\n",
    "os.makedirs(test_path + '/' + 'images', exist_ok=True)\n",
    "os.makedirs(test_path + '/' + 'labels', exist_ok=True)"
   ]
  },
  {
   "cell_type": "code",
   "execution_count": 13,
   "metadata": {},
   "outputs": [],
   "source": [
    "def save_files(files, im_source, destination_images, destination_labels):\n",
    "    for file_path in files:\n",
    "        # Extract file name without extension\n",
    "        file_name = os.path.splitext(os.path.basename(file_path))[0]\n",
    "\n",
    "        # Define paths for images and labels\n",
    "        image_source_path = os.path.join(im_source, f\"{file_name}.jpg\")  # Assuming images have the same name as the labels with a different extension\n",
    "        label_source_path = file_path\n",
    "\n",
    "        image_destination_path = os.path.join(destination_images, f\"{file_name}.jpg\")\n",
    "        label_destination_path = os.path.join(destination_labels, f\"{file_name}.txt\")\n",
    "\n",
    "        # Copy or move image and label files to the destination\n",
    "        shutil.copy(image_source_path, image_destination_path)  # Change to shutil.move if you want to move instead of copy\n",
    "        shutil.copy(label_source_path, label_destination_path)"
   ]
  },
  {
   "cell_type": "code",
   "execution_count": 14,
   "metadata": {},
   "outputs": [],
   "source": [
    "# Get all txt files and split them\n",
    "txt_files = glob.glob(labels_txt_path + '/' + '*.txt')\n",
    "random.shuffle(txt_files)\n",
    "\n",
    "train_ratio = 0.8\n",
    "val_ratio = 0.1\n",
    "test_ratio = 0.1\n",
    "\n",
    "train_split = int(train_ratio * len(txt_files))\n",
    "val_split = int((train_ratio + val_ratio) * len(txt_files))\n",
    "\n",
    "train_files = txt_files[:train_split]\n",
    "val_files = txt_files[train_split:val_split]\n",
    "test_files = txt_files[val_split:]\n",
    "\n",
    "# Process training, validation, and test files (same as before, but now includes selected_class)\n",
    "save_files(train_files, images_path, train_path + '/' + 'images', train_path + '/' + 'labels')\n",
    "save_files(val_files, images_path, val_path + '/' + 'images', val_path + '/' + 'labels')\n",
    "save_files(test_files, images_path, test_path + '/' + 'images', test_path + '/' + 'labels')\n"
   ]
  }
 ],
 "metadata": {
  "kernelspec": {
   "display_name": ".venv",
   "language": "python",
   "name": "python3"
  },
  "language_info": {
   "codemirror_mode": {
    "name": "ipython",
    "version": 3
   },
   "file_extension": ".py",
   "mimetype": "text/x-python",
   "name": "python",
   "nbconvert_exporter": "python",
   "pygments_lexer": "ipython3",
   "version": "3.11.3"
  }
 },
 "nbformat": 4,
 "nbformat_minor": 2
}
