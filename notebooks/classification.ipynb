{
 "cells": [
  {
   "cell_type": "markdown",
   "metadata": {},
   "source": [
    "# To-Do\n",
    "Read the labels to every picture.  \n",
    "Divide the data in train and test data.  \n",
    "Statistics about pictures. How many are there."
   ]
  },
  {
   "cell_type": "code",
   "execution_count": 67,
   "metadata": {},
   "outputs": [],
   "source": [
    "import os\n",
    "import torch\n",
    "import pandas as pd\n",
    "import numpy as np\n",
    "import matplotlib.pyplot as plt\n",
    "from torchvision.datasets import ImageFolder #responsible for loading images from train and test folders\n",
    "from torch.utils.data import DataLoader # Definition of iterable\n",
    "from torchvision import transforms # Provides image transformations\n",
    "import torch\n",
    "from config import *\n",
    "import shutil\n",
    "import seaborn as sns\n",
    "import random\n",
    "import cv2\n",
    "from tensorflow.keras.preprocessing import image "
   ]
  },
  {
   "cell_type": "code",
   "execution_count": 2,
   "metadata": {},
   "outputs": [
    {
     "data": {
      "text/plain": [
       "'../data/PKLot/PKLotSegmented_rearranged/PUC/Sunny/'"
      ]
     },
     "execution_count": 2,
     "metadata": {},
     "output_type": "execute_result"
    }
   ],
   "source": [
    "DATASET_PATH"
   ]
  },
  {
   "cell_type": "markdown",
   "metadata": {},
   "source": [
    "### Get data"
   ]
  },
  {
   "cell_type": "code",
   "execution_count": 12,
   "metadata": {},
   "outputs": [],
   "source": [
    "# if not os.path.exists(os.path.join(DATASET_PATH,'Empty')):\n",
    "# \t\tos.makedirs(os.path.join(DATASET_PATH,'Empty'))\n",
    "# if not os.path.exists(os.path.join(DATASET_PATH,'Occupied')):\n",
    "# \t\tos.makedirs(os.path.join(DATASET_PATH,'Occupied'))\n"
   ]
  },
  {
   "cell_type": "code",
   "execution_count": 3,
   "metadata": {},
   "outputs": [],
   "source": [
    "daylist = os.listdir(DATASET_PATH_RAW)\n",
    "labels = ['Empty','Occupied']\n"
   ]
  },
  {
   "cell_type": "code",
   "execution_count": 4,
   "metadata": {},
   "outputs": [
    {
     "name": "stdout",
     "output_type": "stream",
     "text": [
      "Empty\n",
      "Occupied\n"
     ]
    }
   ],
   "source": [
    "for label in labels:\n",
    "    print(label)\n"
   ]
  },
  {
   "cell_type": "code",
   "execution_count": 15,
   "metadata": {},
   "outputs": [
    {
     "name": "stdout",
     "output_type": "stream",
     "text": [
      "path ../data/PKLot/PKLotSegmented/PUC/Sunny/2012-10-30/Empty empty\n",
      "path ../data/PKLot/PKLotSegmented/PUC/Sunny/2012-11-07/Empty empty\n",
      "path ../data/PKLot/PKLotSegmented/PUC/Sunny/2012-11-06/Empty empty\n"
     ]
    }
   ],
   "source": [
    "# for day in daylist:\n",
    "#     for label in labels:\n",
    "#         daypath = os.path.join(DATASET_PATH_RAW,day)\n",
    "#         path = os.path.join(daypath,label)\n",
    "#         destpath =  os.path.join(DATASET_PATH,label)\n",
    "#         if os.path.exists(path):\n",
    "#             filelist = os.listdir(path)\n",
    "#             for file in filelist:\n",
    "#                 filepath = os.path.join(path,file)\n",
    "#                 shutil.copy(filepath,destpath)\n",
    "#         else:\n",
    "#             print(f'path {path} empty')\n",
    "\n",
    "                "
   ]
  },
  {
   "cell_type": "code",
   "execution_count": 5,
   "metadata": {},
   "outputs": [],
   "source": [
    "emptylist= os.listdir(os.path.join(DATASET_PATH,'Empty'))\n",
    "occupiedlist = os.listdir(os.path.join(DATASET_PATH,'Occupied'))"
   ]
  },
  {
   "cell_type": "code",
   "execution_count": 6,
   "metadata": {},
   "outputs": [],
   "source": [
    "\n",
    "trainpath = os.path.join(DATASET_PATH,'train')\n",
    "testpath = os.path.join(DATASET_PATH,'test')\n",
    "valpath = os.path.join(DATASET_PATH,'val')\n",
    "# if not os.path.exists(trainpath):\n",
    "#     os.makedirs(trainpath)\n",
    "#     os.makedirs(os.path.join(trainpath,'Empty'))\n",
    "#     os.makedirs(os.path.join(trainpath,'Occupied'))\n",
    "   \n",
    "# if not os.path.exists(testpath):\n",
    "# \tos.makedirs(testpath)\n",
    "# \tos.makedirs(os.path.join(testpath,'Empty'))\n",
    "# \tos.makedirs(os.path.join(testpath,'Occupied'))\n",
    "\n",
    "# if not os.path.exists(valpath):\n",
    "# \tos.makedirs(valpath)\n",
    "# \tos.makedirs(os.path.join(valpath,'Empty'))\n",
    "# \tos.makedirs(os.path.join(valpath,'Occupied'))\n",
    "  \n"
   ]
  },
  {
   "cell_type": "code",
   "execution_count": 35,
   "metadata": {},
   "outputs": [],
   "source": [
    "# Train Val Test split.\n",
    "\n",
    "# #for path, subdirs, files in os.walk(root):\n",
    "# for label in labels:\n",
    "#     path =  os.path.join(DATASET_PATH,label)\n",
    "#     random.seed(42)\n",
    "#     filelist = os.listdir(path)\n",
    "#     random.shuffle(filelist)\n",
    "    \n",
    "#     train_size = int(len(filelist) * 0.70)\n",
    "#     val_size = int(len(filelist) * 0.15)\n",
    "#     test_size = int(len(filelist) * 0.15)\n",
    "    \n",
    "#     #Creating train data\n",
    "#     for file in filelist[0:train_size]:\n",
    "#         filepath = os.path.join(path,file)\n",
    "#         shutil.copy(filepath,os.path.join(trainpath,label))\n",
    "        \n",
    "#     #Creating val data\n",
    "#     for file in filelist[train_size:(train_size + val_size )]:\n",
    "#         filepath = os.path.join(path,file)\n",
    "#         shutil.copy(filepath,os.path.join(valpath,label))\n",
    "        \n",
    "#     #Creating test data\n",
    "#     for file in filelist[train_size + val_size: (train_size + val_size + test_size )]:\n",
    "#         filepath = os.path.join(path,file)\n",
    "#         shutil.copy(filepath,os.path.join(testpath,label))"
   ]
  },
  {
   "cell_type": "code",
   "execution_count": 7,
   "metadata": {},
   "outputs": [
    {
     "data": {
      "text/plain": [
       "'../data/PKLot/PKLotSegmented_rearranged/PUC/Sunny/'"
      ]
     },
     "execution_count": 7,
     "metadata": {},
     "output_type": "execute_result"
    }
   ],
   "source": [
    "DATASET_PATH"
   ]
  },
  {
   "cell_type": "markdown",
   "metadata": {},
   "source": [
    "# EDA\n",
    "\n",
    "- Check number of pictures\n",
    "- Check size of pictures"
   ]
  },
  {
   "cell_type": "code",
   "execution_count": 8,
   "metadata": {},
   "outputs": [
    {
     "name": "stdout",
     "output_type": "stream",
     "text": [
      "111626\n"
     ]
    },
    {
     "data": {
      "text/plain": [
       "96761"
      ]
     },
     "execution_count": 8,
     "metadata": {},
     "output_type": "execute_result"
    }
   ],
   "source": [
    "print(len(emptylist))\n",
    "len(occupiedlist)\n"
   ]
  },
  {
   "cell_type": "code",
   "execution_count": 9,
   "metadata": {},
   "outputs": [
    {
     "data": {
      "text/plain": [
       "<Axes: >"
      ]
     },
     "execution_count": 9,
     "metadata": {},
     "output_type": "execute_result"
    },
    {
     "data": {
      "image/png": "[encoded data removed]",
      "text/plain": [
       "<Figure size 640x480 with 1 Axes>"
      ]
     },
     "metadata": {},
     "output_type": "display_data"
    }
   ],
   "source": [
    "sns.barplot(x=labels, y =[len(emptylist), len(occupiedlist)])\n",
    "# Numbers of classes almost equal.\n"
   ]
  },
  {
   "cell_type": "markdown",
   "metadata": {},
   "source": [
    "# Baseline model"
   ]
  },
  {
   "cell_type": "code",
   "execution_count": 27,
   "metadata": {},
   "outputs": [],
   "source": [
    "# Dataloader in pytorch\n",
    "# Imagefolder expects the class to be in the foldername.\n",
    "\n",
    "# To-Do: Define transformations to be done. \n",
    "# Flip\n",
    "# Rescale of values to 0,1\n",
    "# shear range \n",
    "# zoomrange\n",
    "\n",
    "resize = transforms.Resize(size=(INPUT_HEIGHT,INPUT_WIDTH) )\n",
    "trainTransfo = transforms.Compose([resize, transforms.ToTensor()])\n",
    "\n",
    "\n",
    "trainDataset = ImageFolder(root=trainpath,\n",
    "        transform=trainTransfo)\n",
    "valDataset = ImageFolder(root=valpath, \n",
    "        transform=trainTransfo)\n",
    "\n",
    "trainDataLoader = DataLoader(trainDataset, \n",
    "        batch_size=BATCH_SIZE, shuffle=True)\n",
    "valDataLoader = DataLoader(valDataset, batch_size=BATCH_SIZE)"
   ]
  },
  {
   "cell_type": "code",
   "execution_count": 36,
   "metadata": {},
   "outputs": [],
   "source": [
    "# Dataloader in tensorflow\n",
    "trainBatch = next(iter(trainDataLoader))"
   ]
  },
  {
   "cell_type": "code",
   "execution_count": 70,
   "metadata": {},
   "outputs": [
    {
     "data": {
      "text/plain": [
       "(tensor([[[0.8784, 0.8784, 0.8784,  ..., 0.7843, 0.7843, 0.7843],\n",
       "          [0.8784, 0.8784, 0.8784,  ..., 0.7765, 0.7765, 0.7765],\n",
       "          [0.8745, 0.8745, 0.8745,  ..., 0.7529, 0.7529, 0.7529],\n",
       "          ...,\n",
       "          [0.8549, 0.8549, 0.8549,  ..., 0.8510, 0.8510, 0.8510],\n",
       "          [0.8549, 0.8549, 0.8549,  ..., 0.8510, 0.8510, 0.8510],\n",
       "          [0.8549, 0.8549, 0.8549,  ..., 0.8510, 0.8510, 0.8510]],\n",
       " \n",
       "         [[0.8902, 0.8902, 0.8902,  ..., 0.7490, 0.7490, 0.7490],\n",
       "          [0.8902, 0.8902, 0.8902,  ..., 0.7412, 0.7412, 0.7412],\n",
       "          [0.8863, 0.8863, 0.8863,  ..., 0.7216, 0.7216, 0.7216],\n",
       "          ...,\n",
       "          [0.8471, 0.8471, 0.8471,  ..., 0.8588, 0.8588, 0.8588],\n",
       "          [0.8471, 0.8471, 0.8471,  ..., 0.8549, 0.8549, 0.8549],\n",
       "          [0.8471, 0.8471, 0.8471,  ..., 0.8549, 0.8549, 0.8549]],\n",
       " \n",
       "         [[0.8078, 0.8078, 0.8078,  ..., 0.5804, 0.5804, 0.5765],\n",
       "          [0.8078, 0.8078, 0.8078,  ..., 0.5725, 0.5725, 0.5686],\n",
       "          [0.8039, 0.8039, 0.8039,  ..., 0.5490, 0.5490, 0.5490],\n",
       "          ...,\n",
       "          [0.7882, 0.7882, 0.7882,  ..., 0.8039, 0.8039, 0.8039],\n",
       "          [0.7882, 0.7882, 0.7882,  ..., 0.8000, 0.8000, 0.8000],\n",
       "          [0.7882, 0.7882, 0.7882,  ..., 0.8000, 0.8000, 0.8000]]]),\n",
       " 0)"
      ]
     },
     "execution_count": 70,
     "metadata": {},
     "output_type": "execute_result"
    }
   ],
   "source": [
    "\n",
    "\n",
    "# Convert the image from BGR to RGB (OpenCV uses BGR by default)\n",
    "trainDataset[0]\n",
    "#img_rgb = cv2.cvtColor(image.img_to_array(trainDataset[0][0],dtype='uint8'), cv2.COLOR_BGR2RGB)\n"
   ]
  },
  {
   "cell_type": "code",
   "execution_count": 35,
   "metadata": {},
   "outputs": [
    {
     "ename": "error",
     "evalue": "OpenCV(4.9.0) /Users/xperience/GHA-OpenCV-Python2/_work/opencv-python/opencv-python/opencv/modules/imgproc/src/color.simd_helpers.hpp:92: error: (-2:Unspecified error) in function 'cv::impl::(anonymous namespace)::CvtHelper<cv::impl::(anonymous namespace)::Set<3, 4, -1>, cv::impl::(anonymous namespace)::Set<3, 4, -1>, cv::impl::(anonymous namespace)::Set<0, 2, 5>, cv::impl::(anonymous namespace)::NONE>::CvtHelper(cv::InputArray, cv::OutputArray, int) [VScn = cv::impl::(anonymous namespace)::Set<3, 4, -1>, VDcn = cv::impl::(anonymous namespace)::Set<3, 4, -1>, VDepth = cv::impl::(anonymous namespace)::Set<0, 2, 5>, sizePolicy = cv::impl::(anonymous namespace)::NONE]'\n> Invalid number of channels in input image:\n>     'VScn::contains(scn)'\n> where\n>     'scn' is 128\n",
     "output_type": "error",
     "traceback": [
      "\u001b[0;31m---------------------------------------------------------------------------\u001b[0m",
      "\u001b[0;31merror\u001b[0m                                     Traceback (most recent call last)",
      "Cell \u001b[0;32mIn[35], line 29\u001b[0m\n\u001b[1;32m     26\u001b[0m \tplt\u001b[38;5;241m.\u001b[39mshow()\n\u001b[1;32m     28\u001b[0m trainBatch \u001b[38;5;241m=\u001b[39m \u001b[38;5;28mnext\u001b[39m(\u001b[38;5;28miter\u001b[39m(trainDataLoader))\n\u001b[0;32m---> 29\u001b[0m \u001b[43mvisualize_batch\u001b[49m\u001b[43m(\u001b[49m\u001b[43mtrainBatch\u001b[49m\u001b[43m,\u001b[49m\u001b[43m \u001b[49m\u001b[43mtrainDataset\u001b[49m\u001b[38;5;241;43m.\u001b[39;49m\u001b[43mclasses\u001b[49m\u001b[43m,\u001b[49m\u001b[43m \u001b[49m\u001b[38;5;124;43m\"\u001b[39;49m\u001b[38;5;124;43mtrain\u001b[39;49m\u001b[38;5;124;43m\"\u001b[39;49m\u001b[43m)\u001b[49m\n",
      "Cell \u001b[0;32mIn[35], line 16\u001b[0m, in \u001b[0;36mvisualize_batch\u001b[0;34m(batch, classes, dataset_type)\u001b[0m\n\u001b[1;32m     10\u001b[0m \u001b[38;5;66;03m# grab the image, convert it from channels first ordering to\u001b[39;00m\n\u001b[1;32m     11\u001b[0m \u001b[38;5;66;03m# channels last ordering, and scale the raw pixel intensities\u001b[39;00m\n\u001b[1;32m     12\u001b[0m \u001b[38;5;66;03m# to the range [0, 255]\u001b[39;00m\n\u001b[1;32m     13\u001b[0m \u001b[38;5;66;03m# Convert the image from BGR to RGB (OpenCV uses BGR by default)\u001b[39;00m\n\u001b[1;32m     15\u001b[0m image \u001b[38;5;241m=\u001b[39m batch[\u001b[38;5;241m0\u001b[39m][i]\u001b[38;5;241m.\u001b[39mcpu()\u001b[38;5;241m.\u001b[39mnumpy()\n\u001b[0;32m---> 16\u001b[0m image \u001b[38;5;241m=\u001b[39m \u001b[43mcv2\u001b[49m\u001b[38;5;241;43m.\u001b[39;49m\u001b[43mcvtColor\u001b[49m\u001b[43m(\u001b[49m\u001b[43mimage\u001b[49m\u001b[43m,\u001b[49m\u001b[43m \u001b[49m\u001b[43mcv2\u001b[49m\u001b[38;5;241;43m.\u001b[39;49m\u001b[43mCOLOR_BGR2RGB\u001b[49m\u001b[43m)\u001b[49m\n\u001b[1;32m     17\u001b[0m \u001b[38;5;66;03m# grab the label id and get the label from the classes list\u001b[39;00m\n\u001b[1;32m     18\u001b[0m idx \u001b[38;5;241m=\u001b[39m batch[\u001b[38;5;241m1\u001b[39m][i]\n",
      "\u001b[0;31merror\u001b[0m: OpenCV(4.9.0) /Users/xperience/GHA-OpenCV-Python2/_work/opencv-python/opencv-python/opencv/modules/imgproc/src/color.simd_helpers.hpp:92: error: (-2:Unspecified error) in function 'cv::impl::(anonymous namespace)::CvtHelper<cv::impl::(anonymous namespace)::Set<3, 4, -1>, cv::impl::(anonymous namespace)::Set<3, 4, -1>, cv::impl::(anonymous namespace)::Set<0, 2, 5>, cv::impl::(anonymous namespace)::NONE>::CvtHelper(cv::InputArray, cv::OutputArray, int) [VScn = cv::impl::(anonymous namespace)::Set<3, 4, -1>, VDcn = cv::impl::(anonymous namespace)::Set<3, 4, -1>, VDepth = cv::impl::(anonymous namespace)::Set<0, 2, 5>, sizePolicy = cv::impl::(anonymous namespace)::NONE]'\n> Invalid number of channels in input image:\n>     'VScn::contains(scn)'\n> where\n>     'scn' is 128\n"
     ]
    },
    {
     "data": {
      "image/png": "[encoded data removed]",
      "text/plain": [
       "<Figure size 800x800 with 1 Axes>"
      ]
     },
     "metadata": {},
     "output_type": "display_data"
    }
   ],
   "source": [
    "# Vizualization doesn't work yet.\n",
    "def visualize_batch(batch, classes, dataset_type):\n",
    "\t# initialize a figure\n",
    "\tfig = plt.figure(\"{} batch\".format(dataset_type),\n",
    "\t\tfigsize=(BATCH_SIZE, BATCH_SIZE))\n",
    "\t# loop over the batch size\n",
    "\tfor i in range(0, BATCH_SIZE):\n",
    "\t\t# create a subplot\n",
    "\t\tax = plt.subplot(2, 4, i + 1)\n",
    "\t\t# grab the image, convert it from channels first ordering to\n",
    "\t\t# channels last ordering, and scale the raw pixel intensities\n",
    "\t\t# to the range [0, 255]\n",
    "\t\t# Convert the image from BGR to RGB (OpenCV uses BGR by default)\n",
    "\t\t\n",
    "\t\timage = batch[0][i].cpu().numpy()\n",
    "\t\t#image = (image * 255.0).astype(\"uint8\")\n",
    "\t\t# grab the label id and get the label from the classes list\n",
    "\t\tidx = batch[1][i]\n",
    "\t\tlabel = classes[idx]\n",
    "\t\t# show the image along with the label\n",
    "\t\tplt.imshow(image)\n",
    "\t\tplt.title(label)\n",
    "\t\tplt.axis(\"off\")\n",
    "\t# show the plot\n",
    "\tplt.tight_layout()\n",
    "\tplt.show()\n",
    " \n",
    "trainBatch = next(iter(trainDataLoader))\n",
    "visualize_batch(trainBatch, trainDataset.classes, \"train\")"
   ]
  },
  {
   "cell_type": "code",
   "execution_count": 30,
   "metadata": {},
   "outputs": [
    {
     "data": {
      "text/plain": [
       "[tensor([[[[0.4392, 0.4392, 0.4392,  ..., 0.2510, 0.2627, 0.2667],\n",
       "           [0.4392, 0.4392, 0.4392,  ..., 0.2549, 0.2627, 0.2667],\n",
       "           [0.4392, 0.4392, 0.4392,  ..., 0.2667, 0.2706, 0.2745],\n",
       "           ...,\n",
       "           [0.3059, 0.3059, 0.3059,  ..., 0.4353, 0.4353, 0.4353],\n",
       "           [0.2941, 0.2941, 0.2941,  ..., 0.4392, 0.4392, 0.4392],\n",
       "           [0.2902, 0.2902, 0.2902,  ..., 0.4392, 0.4392, 0.4392]],\n",
       " \n",
       "          [[0.4549, 0.4549, 0.4549,  ..., 0.2549, 0.2667, 0.2706],\n",
       "           [0.4549, 0.4549, 0.4549,  ..., 0.2588, 0.2667, 0.2706],\n",
       "           [0.4510, 0.4510, 0.4510,  ..., 0.2706, 0.2745, 0.2784],\n",
       "           ...,\n",
       "           [0.2941, 0.2941, 0.2980,  ..., 0.4157, 0.4157, 0.4157],\n",
       "           [0.2863, 0.2863, 0.2863,  ..., 0.4157, 0.4157, 0.4157],\n",
       "           [0.2824, 0.2824, 0.2824,  ..., 0.4157, 0.4157, 0.4157]],\n",
       " \n",
       "          [[0.4000, 0.4000, 0.4000,  ..., 0.2353, 0.2431, 0.2471],\n",
       "           [0.4000, 0.4000, 0.4000,  ..., 0.2353, 0.2431, 0.2471],\n",
       "           [0.4000, 0.4039, 0.4039,  ..., 0.2431, 0.2471, 0.2510],\n",
       "           ...,\n",
       "           [0.2549, 0.2549, 0.2510,  ..., 0.4078, 0.4078, 0.4078],\n",
       "           [0.2392, 0.2392, 0.2392,  ..., 0.4157, 0.4157, 0.4157],\n",
       "           [0.2353, 0.2353, 0.2353,  ..., 0.4157, 0.4157, 0.4157]]],\n",
       " \n",
       " \n",
       "         [[[0.9608, 0.9608, 0.9608,  ..., 0.9569, 0.9569, 0.9569],\n",
       "           [0.9608, 0.9608, 0.9608,  ..., 0.9569, 0.9569, 0.9569],\n",
       "           [0.9569, 0.9569, 0.9569,  ..., 0.9608, 0.9608, 0.9608],\n",
       "           ...,\n",
       "           [0.6588, 0.6588, 0.6549,  ..., 0.4863, 0.5098, 0.5176],\n",
       "           [0.6549, 0.6549, 0.6510,  ..., 0.5804, 0.6000, 0.6039],\n",
       "           [0.6549, 0.6549, 0.6510,  ..., 0.6235, 0.6431, 0.6471]],\n",
       " \n",
       "          [[0.9725, 0.9725, 0.9725,  ..., 0.9608, 0.9608, 0.9608],\n",
       "           [0.9725, 0.9725, 0.9725,  ..., 0.9608, 0.9608, 0.9608],\n",
       "           [0.9686, 0.9686, 0.9686,  ..., 0.9647, 0.9647, 0.9647],\n",
       "           ...,\n",
       "           [0.7490, 0.7490, 0.7451,  ..., 0.5137, 0.5373, 0.5451],\n",
       "           [0.7529, 0.7529, 0.7490,  ..., 0.6078, 0.6275, 0.6314],\n",
       "           [0.7529, 0.7529, 0.7490,  ..., 0.6510, 0.6706, 0.6745]],\n",
       " \n",
       "          [[0.9373, 0.9373, 0.9333,  ..., 0.9294, 0.9294, 0.9294],\n",
       "           [0.9373, 0.9373, 0.9333,  ..., 0.9294, 0.9294, 0.9294],\n",
       "           [0.9333, 0.9333, 0.9333,  ..., 0.9333, 0.9333, 0.9333],\n",
       "           ...,\n",
       "           [0.5059, 0.5020, 0.4941,  ..., 0.4784, 0.5059, 0.5137],\n",
       "           [0.4980, 0.4980, 0.4941,  ..., 0.5725, 0.5961, 0.6039],\n",
       "           [0.4980, 0.4980, 0.4941,  ..., 0.6157, 0.6392, 0.6471]]],\n",
       " \n",
       " \n",
       "         [[[0.5882, 0.5882, 0.5882,  ..., 0.5804, 0.5804, 0.5804],\n",
       "           [0.5882, 0.5882, 0.5882,  ..., 0.5804, 0.5804, 0.5804],\n",
       "           [0.5882, 0.5882, 0.5882,  ..., 0.5804, 0.5804, 0.5804],\n",
       "           ...,\n",
       "           [0.3333, 0.3333, 0.3373,  ..., 0.3647, 0.3686, 0.3725],\n",
       "           [0.3294, 0.3294, 0.3333,  ..., 0.3451, 0.3490, 0.3529],\n",
       "           [0.3294, 0.3294, 0.3333,  ..., 0.3373, 0.3412, 0.3451]],\n",
       " \n",
       "          [[0.5490, 0.5490, 0.5529,  ..., 0.5725, 0.5725, 0.5725],\n",
       "           [0.5490, 0.5490, 0.5529,  ..., 0.5725, 0.5725, 0.5725],\n",
       "           [0.5529, 0.5529, 0.5529,  ..., 0.5725, 0.5725, 0.5725],\n",
       "           ...,\n",
       "           [0.3412, 0.3412, 0.3412,  ..., 0.3765, 0.3804, 0.3843],\n",
       "           [0.3373, 0.3373, 0.3373,  ..., 0.3608, 0.3647, 0.3686],\n",
       "           [0.3373, 0.3373, 0.3373,  ..., 0.3529, 0.3569, 0.3608]],\n",
       " \n",
       "          [[0.5020, 0.5020, 0.5020,  ..., 0.5137, 0.5137, 0.5137],\n",
       "           [0.5020, 0.5020, 0.5020,  ..., 0.5137, 0.5137, 0.5137],\n",
       "           [0.5059, 0.5059, 0.5059,  ..., 0.5137, 0.5137, 0.5137],\n",
       "           ...,\n",
       "           [0.2549, 0.2549, 0.2549,  ..., 0.2902, 0.2941, 0.2941],\n",
       "           [0.2510, 0.2510, 0.2510,  ..., 0.2706, 0.2745, 0.2784],\n",
       "           [0.2510, 0.2510, 0.2510,  ..., 0.2627, 0.2667, 0.2706]]],\n",
       " \n",
       " \n",
       "         ...,\n",
       " \n",
       " \n",
       "         [[[0.6980, 0.6980, 0.6980,  ..., 0.6784, 0.6745, 0.6745],\n",
       "           [0.6980, 0.6980, 0.6980,  ..., 0.6745, 0.6706, 0.6706],\n",
       "           [0.7059, 0.7059, 0.7059,  ..., 0.6667, 0.6627, 0.6627],\n",
       "           ...,\n",
       "           [0.6667, 0.6627, 0.6627,  ..., 0.2275, 0.2314, 0.2314],\n",
       "           [0.6235, 0.6196, 0.6118,  ..., 0.2314, 0.2353, 0.2353],\n",
       "           [0.6078, 0.6000, 0.5882,  ..., 0.2314, 0.2353, 0.2353]],\n",
       " \n",
       "          [[0.7020, 0.7020, 0.7020,  ..., 0.6784, 0.6745, 0.6745],\n",
       "           [0.7020, 0.7020, 0.7020,  ..., 0.6745, 0.6706, 0.6706],\n",
       "           [0.7059, 0.7059, 0.7059,  ..., 0.6667, 0.6627, 0.6627],\n",
       "           ...,\n",
       "           [0.6314, 0.6275, 0.6314,  ..., 0.3294, 0.3294, 0.3294],\n",
       "           [0.5961, 0.5922, 0.5882,  ..., 0.3294, 0.3294, 0.3294],\n",
       "           [0.5804, 0.5765, 0.5647,  ..., 0.3294, 0.3294, 0.3294]],\n",
       " \n",
       "          [[0.6471, 0.6471, 0.6471,  ..., 0.6314, 0.6275, 0.6275],\n",
       "           [0.6510, 0.6510, 0.6510,  ..., 0.6275, 0.6235, 0.6235],\n",
       "           [0.6549, 0.6549, 0.6549,  ..., 0.6196, 0.6157, 0.6157],\n",
       "           ...,\n",
       "           [0.6196, 0.6196, 0.6196,  ..., 0.2118, 0.2118, 0.2118],\n",
       "           [0.5647, 0.5608, 0.5529,  ..., 0.2039, 0.2078, 0.2078],\n",
       "           [0.5373, 0.5333, 0.5255,  ..., 0.2000, 0.2039, 0.2039]]],\n",
       " \n",
       " \n",
       "         [[[0.4353, 0.4353, 0.4353,  ..., 0.4196, 0.4196, 0.4196],\n",
       "           [0.4353, 0.4353, 0.4353,  ..., 0.4196, 0.4196, 0.4196],\n",
       "           [0.4275, 0.4275, 0.4275,  ..., 0.4157, 0.4157, 0.4157],\n",
       "           ...,\n",
       "           [0.3098, 0.3137, 0.3216,  ..., 0.2510, 0.2588, 0.2627],\n",
       "           [0.3020, 0.3059, 0.3137,  ..., 0.2314, 0.2353, 0.2353],\n",
       "           [0.2941, 0.2980, 0.3059,  ..., 0.2235, 0.2275, 0.2275]],\n",
       " \n",
       "          [[0.4431, 0.4431, 0.4431,  ..., 0.4275, 0.4275, 0.4275],\n",
       "           [0.4431, 0.4431, 0.4431,  ..., 0.4275, 0.4275, 0.4275],\n",
       "           [0.4353, 0.4353, 0.4353,  ..., 0.4235, 0.4235, 0.4235],\n",
       "           ...,\n",
       "           [0.2941, 0.2980, 0.3098,  ..., 0.2353, 0.2392, 0.2431],\n",
       "           [0.2863, 0.2902, 0.2980,  ..., 0.2157, 0.2196, 0.2196],\n",
       "           [0.2784, 0.2824, 0.2902,  ..., 0.2078, 0.2118, 0.2118]],\n",
       " \n",
       "          [[0.4000, 0.4000, 0.4000,  ..., 0.3765, 0.3765, 0.3765],\n",
       "           [0.4000, 0.4000, 0.4000,  ..., 0.3765, 0.3765, 0.3765],\n",
       "           [0.3922, 0.3922, 0.3922,  ..., 0.3725, 0.3725, 0.3725],\n",
       "           ...,\n",
       "           [0.2549, 0.2588, 0.2667,  ..., 0.1412, 0.1490, 0.1529],\n",
       "           [0.2431, 0.2471, 0.2549,  ..., 0.1176, 0.1216, 0.1255],\n",
       "           [0.2353, 0.2392, 0.2471,  ..., 0.1098, 0.1137, 0.1098]]],\n",
       " \n",
       " \n",
       "         [[[0.5412, 0.5412, 0.5412,  ..., 0.5333, 0.5373, 0.5373],\n",
       "           [0.5412, 0.5412, 0.5412,  ..., 0.5333, 0.5373, 0.5373],\n",
       "           [0.5373, 0.5373, 0.5373,  ..., 0.5333, 0.5373, 0.5412],\n",
       "           ...,\n",
       "           [0.5373, 0.5294, 0.5176,  ..., 0.2078, 0.2078, 0.2078],\n",
       "           [0.4824, 0.4784, 0.4667,  ..., 0.2157, 0.2157, 0.2157],\n",
       "           [0.4549, 0.4510, 0.4392,  ..., 0.2157, 0.2157, 0.2157]],\n",
       " \n",
       "          [[0.5882, 0.5882, 0.5882,  ..., 0.5686, 0.5725, 0.5725],\n",
       "           [0.5882, 0.5882, 0.5882,  ..., 0.5686, 0.5725, 0.5725],\n",
       "           [0.5882, 0.5882, 0.5882,  ..., 0.5608, 0.5647, 0.5686],\n",
       "           ...,\n",
       "           [0.5216, 0.5176, 0.5098,  ..., 0.2980, 0.2980, 0.2980],\n",
       "           [0.4745, 0.4706, 0.4627,  ..., 0.2941, 0.2941, 0.2941],\n",
       "           [0.4510, 0.4471, 0.4392,  ..., 0.2941, 0.2941, 0.2941]],\n",
       " \n",
       "          [[0.6353, 0.6353, 0.6353,  ..., 0.6353, 0.6392, 0.6431],\n",
       "           [0.6353, 0.6353, 0.6353,  ..., 0.6314, 0.6353, 0.6431],\n",
       "           [0.6314, 0.6314, 0.6314,  ..., 0.6235, 0.6314, 0.6353],\n",
       "           ...,\n",
       "           [0.5137, 0.5098, 0.5020,  ..., 0.1882, 0.1882, 0.1882],\n",
       "           [0.4627, 0.4588, 0.4510,  ..., 0.1882, 0.1882, 0.1882],\n",
       "           [0.4353, 0.4314, 0.4235,  ..., 0.1882, 0.1882, 0.1882]]]]),\n",
       " tensor([1, 1, 1, 1, 1, 0, 0, 1])]"
      ]
     },
     "execution_count": 30,
     "metadata": {},
     "output_type": "execute_result"
    }
   ],
   "source": [
    "trainBatch"
   ]
  }
 ],
 "metadata": {
  "kernelspec": {
   "display_name": ".venv",
   "language": "python",
   "name": "python3"
  },
  "language_info": {
   "codemirror_mode": {
    "name": "ipython",
    "version": 3
   },
   "file_extension": ".py",
   "mimetype": "text/x-python",
   "name": "python",
   "nbconvert_exporter": "python",
   "pygments_lexer": "ipython3",
   "version": "3.11.3"
  }
 },
 "nbformat": 4,
 "nbformat_minor": 2
}
