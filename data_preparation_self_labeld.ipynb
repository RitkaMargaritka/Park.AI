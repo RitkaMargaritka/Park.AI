{
 "cells": [
  {
   "cell_type": "code",
   "execution_count": 1,
   "metadata": {},
   "outputs": [],
   "source": [
    "import json\n",
    "import os\n",
    "import glob\n",
    "import shutil\n",
    "\n",
    "def convert_json_to_txt_and_copy_images(input_folder, output_folder_txt, output_folder_images):\n",
    "    # Ensure output folders exist\n",
    "    os.makedirs(output_folder_txt, exist_ok=True)\n",
    "    os.makedirs(output_folder_images, exist_ok=True)\n",
    "\n",
    "    # Iterate over all JSON files in the input folder\n",
    "    for json_file in glob.glob(os.path.join(input_folder, '*.json')):\n",
    "        with open(json_file) as f:\n",
    "            data = json.load(f)\n",
    "\n",
    "        # Prepare to collect txt lines\n",
    "        txt_lines = []\n",
    "        image_width = data['imageWidth']\n",
    "        image_height = data['imageHeight']\n",
    "\n",
    "        for shape in data['shapes']:\n",
    "            label = shape['label']\n",
    "            # Calculate coordinates and dimensions\n",
    "            x_min, y_min = shape['points'][0]\n",
    "            x_max, y_max = shape['points'][1]\n",
    "            x_center = ((x_min + x_max) / 2) / image_width\n",
    "            y_center = ((y_min + y_max) / 2) / image_height\n",
    "            width = (x_max - x_min) / image_width\n",
    "            height = (y_max - y_min) / image_height\n",
    "\n",
    "            # Format line and add to list\n",
    "            line = f\"{label} {x_center:.6f} {y_center:.6f} {width:.6f} {height:.6f}\"\n",
    "            txt_lines.append(line)\n",
    "\n",
    "        # Construct the output txt filename based on the JSON filename\n",
    "        txt_filename = os.path.splitext(os.path.basename(json_file))[0] + '.txt'\n",
    "        txt_filepath = os.path.join(output_folder_txt, txt_filename)\n",
    "\n",
    "        # Write lines to txt file\n",
    "        with open(txt_filepath, 'w') as txt_file:\n",
    "            for line in txt_lines:\n",
    "                txt_file.write(line + '\\n')\n",
    "\n",
    "        # Copy the corresponding image file\n",
    "        image_filename = os.path.splitext(os.path.basename(json_file))[0] + '.jpg'\n",
    "        image_filepath = os.path.join(input_folder, image_filename)\n",
    "        if os.path.exists(image_filepath):\n",
    "            shutil.copy2(image_filepath, os.path.join(output_folder_images, image_filename))\n",
    "\n",
    "\n",
    "input_folder = './data/parking_lots_labeled'  \n",
    "output_folder_labels = './datasets/ds8/train/labels' \n",
    "output_folder_images = './datasets/ds8/train/images' \n",
    "convert_json_to_txt_and_copy_images(input_folder, output_folder_labels, output_folder_images)\n"
   ]
  }
 ],
 "metadata": {
  "kernelspec": {
   "display_name": "myenv",
   "language": "python",
   "name": "python3"
  },
  "language_info": {
   "codemirror_mode": {
    "name": "ipython",
    "version": 3
   },
   "file_extension": ".py",
   "mimetype": "text/x-python",
   "name": "python",
   "nbconvert_exporter": "python",
   "pygments_lexer": "ipython3",
   "version": "3.11.3"
  }
 },
 "nbformat": 4,
 "nbformat_minor": 2
}
