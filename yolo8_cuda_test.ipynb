{
 "cells": [
  {
   "cell_type": "code",
   "execution_count": null,
   "metadata": {},
   "outputs": [],
   "source": [
    "#import packages\n",
    "from ultralytics import YOLO\n",
    "import torch\n",
    "import os"
   ]
  },
  {
   "cell_type": "code",
   "execution_count": null,
   "metadata": {},
   "outputs": [],
   "source": [
    "# check CUDA availability of NVIDIA GPU (RTX 4060 Ti 16GB VRAM)\n",
    "print(torch.cuda.is_available())\n",
    "print(torch.cuda.device_count())"
   ]
  },
  {
   "cell_type": "code",
   "execution_count": null,
   "metadata": {},
   "outputs": [],
   "source": [
    "# load model\n",
    "model = YOLO('yolov8s.pt')"
   ]
  },
  {
   "cell_type": "code",
   "execution_count": null,
   "metadata": {},
   "outputs": [],
   "source": [
    "# train model on NVIDIA GPU\n",
    "model.train(data='yolo8_preprocessed_ds2.yaml', device='0', epochs=30, batch=8,\n",
    "    augment = True, # do augmentation\n",
    "    degrees = 90, # rotate image by +/- degrees\n",
    "    scale = 0.2,  # image scale (+/- gain)\n",
    "    shear = 0.2,  # image shear (+/- deg) from -0.5 to 0.5\n",
    "    perspective = 0.05,  # image perspective (+/- fraction), range 0-0.001\n",
    "    flipud = 0.7,  # image flip up-down (probability)\n",
    "    fliplr = 0.5,  # image flip left-right (probability)\n",
    "    mosaic = 0.3,  # image mosaic (probability)\n",
    "    mixup = 0.1,  # image mixup (probability)\n",
    ")"
   ]
  }
 ],
 "metadata": {
  "kernelspec": {
   "display_name": "myenv",
   "language": "python",
   "name": "python3"
  },
  "language_info": {
   "codemirror_mode": {
    "name": "ipython",
    "version": 3
   },
   "file_extension": ".py",
   "mimetype": "text/x-python",
   "name": "python",
   "nbconvert_exporter": "python",
   "pygments_lexer": "ipython3",
   "version": "3.11.3"
  }
 },
 "nbformat": 4,
 "nbformat_minor": 2
}
