{
 "cells": [
  {
   "cell_type": "code",
   "execution_count": 7,
   "metadata": {},
   "outputs": [],
   "source": [
    "import cv2\n",
    "import os\n",
    "import glob\n",
    "from ultralytics import YOLO"
   ]
  },
  {
   "cell_type": "code",
   "execution_count": 8,
   "metadata": {},
   "outputs": [],
   "source": [
    "model = YOLO(\"./models/best.pt\")"
   ]
  },
  {
   "cell_type": "code",
   "execution_count": 9,
   "metadata": {},
   "outputs": [],
   "source": [
    "# do the prediction with confidence level of maximum 0.2; iou allows for intersection of predicted boxes (lower values are stricter)\n",
    "def predict(image_path):\n",
    "    image = cv2.imread(image_path)\n",
    "\n",
    "    # force model to use cpu even if trained on gpu\n",
    "    results = model(image, conf=0.05, iou=0.25, device='cpu', classes=1) # 1=cars only for transfer learning model \n",
    "    return results[0]"
   ]
  },
  {
   "cell_type": "code",
   "execution_count": 10,
   "metadata": {},
   "outputs": [],
   "source": [
    "\n",
    "def display_images_as_video(folder_path):\n",
    "    # Create a list of image file paths sorted by filename\n",
    "    image_paths = sorted(glob.glob(os.path.join(folder_path, '*.jpg')), key=os.path.getmtime)\n",
    "    \n",
    "    for image_path in image_paths:\n",
    "        # Read the image\n",
    "        image = cv2.imread(image_path)\n",
    "        \n",
    "        # Check if the image was successfully loaded\n",
    "        if image is not None:\n",
    "            # Display the image\n",
    "            \n",
    "            result = predict(image_path)\n",
    "            for box in result.boxes:\n",
    "                class_id = result.names[box.cls[0].item()]\n",
    "                if True: # class_id == 'car' or class_id == 'truck' or class_id == 'bus':\n",
    "                    cords = box.xyxy[0].tolist()\n",
    "                    cords = [round(x) for x in cords]\n",
    "                    conf = round(box.conf[0].item(), 2)\n",
    "                    # print(\"Object type:\", class_id)\n",
    "                    # print(\"Coordinates:\", cords)\n",
    "                    # print(\"Probability:\", conf)\n",
    "                    # print(\"---\")\n",
    "                    \n",
    "                    # Split coordinates\n",
    "                    x1, y1, x2, y2 = cords\n",
    "                    \n",
    "                    if class_id == 'empty':\n",
    "                        color = (0, 255, 0)\n",
    "                    else:\n",
    "                        color = (255, 0, 0)\n",
    "                    \n",
    "                    # Draw rectangle (bounding box)\n",
    "                    cv2.rectangle(image, (x1, y1), (x2, y2), color, 2)\n",
    "\n",
    "                    # Put class label on the rectangle\n",
    "                    cv2.putText(image, str(class_id), (x1, y1 - 10), cv2.FONT_HERSHEY_SIMPLEX, 0.9, color, 2)\n",
    "            cv2.imshow('Image', image)\n",
    "            # Wait for 1 second (1000 milliseconds), check if 'q' was pressed\n",
    "            if cv2.waitKey(1000) & 0xFF == ord('q'):\n",
    "                break\n",
    "        else:\n",
    "            print(f\"Failed to load image: {image_path}\")\n",
    "\n",
    "    # Explicitly destroy all OpenCV windows\n",
    "    cv2.destroyAllWindows()\n",
    "    cv2.waitKey(1)"
   ]
  },
  {
   "cell_type": "code",
   "execution_count": 11,
   "metadata": {},
   "outputs": [
    {
     "name": "stdout",
     "output_type": "stream",
     "text": [
      "\n",
      "0: 384x640 55 cars, 105.6ms\n",
      "Speed: 3.3ms preprocess, 105.6ms inference, 8.7ms postprocess per image at shape (1, 3, 384, 640)\n",
      "\n",
      "0: 384x640 59 cars, 96.7ms\n",
      "Speed: 2.3ms preprocess, 96.7ms inference, 0.6ms postprocess per image at shape (1, 3, 384, 640)\n",
      "\n",
      "0: 384x640 58 cars, 89.2ms\n",
      "Speed: 2.2ms preprocess, 89.2ms inference, 0.6ms postprocess per image at shape (1, 3, 384, 640)\n",
      "\n",
      "0: 384x640 58 cars, 90.2ms\n",
      "Speed: 2.6ms preprocess, 90.2ms inference, 0.8ms postprocess per image at shape (1, 3, 384, 640)\n",
      "\n",
      "0: 384x640 59 cars, 89.6ms\n",
      "Speed: 2.5ms preprocess, 89.6ms inference, 0.6ms postprocess per image at shape (1, 3, 384, 640)\n",
      "\n",
      "0: 384x640 55 cars, 88.2ms\n",
      "Speed: 2.2ms preprocess, 88.2ms inference, 0.5ms postprocess per image at shape (1, 3, 384, 640)\n"
     ]
    }
   ],
   "source": [
    "\n",
    "# Example usage\n",
    "# Replace 'your_folder_path_here' with the actual folder path containing your images\n",
    "display_images_as_video('./data/PKLot/PKLot/UFPR04/Cloudy/2012-12-12')\n"
   ]
  }
 ],
 "metadata": {
  "kernelspec": {
   "display_name": ".venv",
   "language": "python",
   "name": "python3"
  },
  "language_info": {
   "codemirror_mode": {
    "name": "ipython",
    "version": 3
   },
   "file_extension": ".py",
   "mimetype": "text/x-python",
   "name": "python",
   "nbconvert_exporter": "python",
   "pygments_lexer": "ipython3",
   "version": "3.11.3"
  }
 },
 "nbformat": 4,
 "nbformat_minor": 2
}
